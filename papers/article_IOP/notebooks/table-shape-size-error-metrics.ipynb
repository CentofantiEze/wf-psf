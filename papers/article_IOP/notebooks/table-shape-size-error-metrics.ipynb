{
 "cells": [
  {
   "cell_type": "code",
   "execution_count": 1,
   "id": "2c3e1aad",
   "metadata": {},
   "outputs": [],
   "source": [
    "import numpy as np\n"
   ]
  },
  {
   "cell_type": "markdown",
   "id": "0b2bd214",
   "metadata": {},
   "source": [
    "# RCA"
   ]
  },
  {
   "cell_type": "code",
   "execution_count": 2,
   "id": "613e8f84",
   "metadata": {},
   "outputs": [
    {
     "name": "stdout",
     "output_type": "stream",
     "text": [
      "\n",
      "e1 RMSE: \t 4.614e-02\n",
      "e1 std:  \t 4.350e-02\n",
      "\n",
      "e2 RMSE: \t 4.171e-02\n",
      "e2 std:  \t 3.513e-02\n",
      "\n",
      "R2/<R2> RMSE: \t 3.603e+00\n",
      "R2/<R2> std:  \t 1.496e+00\n"
     ]
    }
   ],
   "source": [
    "# Load metrics\n",
    "## Super resolution\n",
    "rca_SR_n4_up3_k3_metrics = np.load('./../data/metrics/rca/rca_SR_shifts_n4_up3_k3_metrics.npy', allow_pickle=True)[()]\n",
    "\n",
    "print('')\n",
    "print('e1 RMSE: \\t %.3e'% rca_SR_n4_up3_k3_metrics['metrics_dics'][3]['rmse_e1'])\n",
    "print('e1 std:  \\t %.3e'% rca_SR_n4_up3_k3_metrics['metrics_dics'][3]['std_rmse_e1'])\n",
    "\n",
    "print('')\n",
    "print('e2 RMSE: \\t %.3e'% rca_SR_n4_up3_k3_metrics['metrics_dics'][3]['rmse_e2'])\n",
    "print('e2 std:  \\t %.3e'% rca_SR_n4_up3_k3_metrics['metrics_dics'][3]['std_rmse_e2'])\n",
    "\n",
    "print('')\n",
    "print('R2/<R2> RMSE: \\t %.3e'% rca_SR_n4_up3_k3_metrics['metrics_dics'][3]['rmse_R2_meanR2'])\n",
    "print('R2/<R2> std:  \\t %.3e'% rca_SR_n4_up3_k3_metrics['metrics_dics'][3]['std_rmse_R2_meanR2'])\n",
    "\n"
   ]
  },
  {
   "cell_type": "markdown",
   "id": "a2b006ee",
   "metadata": {},
   "source": [
    "# PSFEx"
   ]
  },
  {
   "cell_type": "code",
   "execution_count": 3,
   "id": "7d7da3bc",
   "metadata": {},
   "outputs": [
    {
     "name": "stdout",
     "output_type": "stream",
     "text": [
      "\n",
      "e1 RMSE: \t 4.380e-02\n",
      "e1 std:  \t 4.305e-02\n",
      "\n",
      "e2 RMSE: \t 4.253e-02\n",
      "e2 std:  \t 3.567e-02\n",
      "\n",
      "R2/<R2> RMSE: \t 1.484e+00\n",
      "R2/<R2> std:  \t 3.803e-01\n"
     ]
    }
   ],
   "source": [
    "\n",
    "# Load metrics\n",
    "## Super resolution\n",
    "psfex_SR_metric_d3_path = './../data/metrics/psfex/psfex_SR_run_d3_metrics.npy'\n",
    "psfex_SR_d3_metrics = np.load(psfex_SR_metric_d3_path, allow_pickle=True)[()]\n",
    "\n",
    "print('')\n",
    "print('e1 RMSE: \\t %.3e'% psfex_SR_d3_metrics['metrics_dics'][3]['rmse_e1'])\n",
    "print('e1 std:  \\t %.3e'% psfex_SR_d3_metrics['metrics_dics'][3]['std_rmse_e1'])\n",
    "\n",
    "print('')\n",
    "print('e2 RMSE: \\t %.3e'% psfex_SR_d3_metrics['metrics_dics'][3]['rmse_e2'])\n",
    "print('e2 std:  \\t %.3e'% psfex_SR_d3_metrics['metrics_dics'][3]['std_rmse_e2'])\n",
    "\n",
    "print('')\n",
    "print('R2/<R2> RMSE: \\t %.3e'% psfex_SR_d3_metrics['metrics_dics'][3]['rmse_R2_meanR2'])\n",
    "print('R2/<R2> std:  \\t %.3e'% psfex_SR_d3_metrics['metrics_dics'][3]['std_rmse_R2_meanR2'])\n",
    "\n",
    "\n"
   ]
  },
  {
   "cell_type": "markdown",
   "id": "c3bb14ab",
   "metadata": {},
   "source": [
    "# Zernike 15"
   ]
  },
  {
   "cell_type": "code",
   "execution_count": 4,
   "id": "471cf3a8",
   "metadata": {},
   "outputs": [
    {
     "name": "stdout",
     "output_type": "stream",
     "text": [
      "\n",
      "e1 RMSE: \t 3.918e-02\n",
      "e1 std:  \t 2.438e-02\n",
      "\n",
      "e2 RMSE: \t 2.687e-02\n",
      "e2 std:  \t 2.656e-02\n",
      "\n",
      "R2/<R2> RMSE: \t 9.213e-02\n",
      "R2/<R2> std:  \t 7.647e-02\n"
     ]
    }
   ],
   "source": [
    "# Load metrics\n",
    "metrics_wf_inc15_2k_path = './../data/metrics/zernike_15/metrics-param_incomplete_15_sample_w_2k.npy'\n",
    "metrics_wf_inc15_2k = np.load(metrics_wf_inc15_2k_path, allow_pickle=True)[()]\n",
    "metrics = metrics_wf_inc15_2k\n",
    "\n",
    "print('')\n",
    "print('e1 RMSE: \\t %.3e'% metrics['test_metrics']['shape_results_dict']['rmse_e1'])\n",
    "print('e1 std:  \\t %.3e'% metrics['test_metrics']['shape_results_dict']['std_rmse_e1'])\n",
    "\n",
    "print('')\n",
    "print('e2 RMSE: \\t %.3e'% metrics['test_metrics']['shape_results_dict']['rmse_e2'])\n",
    "print('e2 std:  \\t %.3e'% metrics['test_metrics']['shape_results_dict']['std_rmse_e2'])\n",
    "\n",
    "print('')\n",
    "print('R2/<R2> RMSE: \\t %.3e'% metrics['test_metrics']['shape_results_dict']['rmse_R2_meanR2'])\n",
    "print('R2/<R2> std:  \\t %.3e'% metrics['test_metrics']['shape_results_dict']['std_rmse_R2_meanR2'])\n"
   ]
  },
  {
   "cell_type": "markdown",
   "id": "4439ebbc",
   "metadata": {},
   "source": [
    "# Zernike 40"
   ]
  },
  {
   "cell_type": "code",
   "execution_count": 5,
   "id": "b546384a",
   "metadata": {},
   "outputs": [
    {
     "name": "stdout",
     "output_type": "stream",
     "text": [
      "\n",
      "e1 RMSE: \t 2.124e-02\n",
      "e1 std:  \t 2.006e-02\n",
      "\n",
      "e2 RMSE: \t 1.380e-02\n",
      "e2 std:  \t 1.360e-02\n",
      "\n",
      "R2/<R2> RMSE: \t 9.711e-02\n",
      "R2/<R2> std:  \t 9.697e-02\n"
     ]
    }
   ],
   "source": [
    "# Load metrics\n",
    "metrics_wf_inc40_2k_path = './../data/metrics/zernike_40/metrics-param_incomplete_40_sample_w_bis1_2k.npy'\n",
    "metrics_wf_inc40_2k = np.load(metrics_wf_inc40_2k_path, allow_pickle=True)[()]\n",
    "metrics = metrics_wf_inc40_2k\n",
    "\n",
    "print('')\n",
    "print('e1 RMSE: \\t %.3e'% metrics['test_metrics']['shape_results_dict']['rmse_e1'])\n",
    "print('e1 std:  \\t %.3e'% metrics['test_metrics']['shape_results_dict']['std_rmse_e1'])\n",
    "\n",
    "print('')\n",
    "print('e2 RMSE: \\t %.3e'% metrics['test_metrics']['shape_results_dict']['rmse_e2'])\n",
    "print('e2 std:  \\t %.3e'% metrics['test_metrics']['shape_results_dict']['std_rmse_e2'])\n",
    "\n",
    "print('')\n",
    "print('R2/<R2> RMSE: \\t %.3e'% metrics['test_metrics']['shape_results_dict']['rmse_R2_meanR2'])\n",
    "print('R2/<R2> std:  \\t %.3e'% metrics['test_metrics']['shape_results_dict']['std_rmse_R2_meanR2'])\n",
    "\n"
   ]
  },
  {
   "cell_type": "markdown",
   "id": "532e45f9",
   "metadata": {},
   "source": [
    "# WaveDiff-original"
   ]
  },
  {
   "cell_type": "code",
   "execution_count": 6,
   "id": "affff313",
   "metadata": {},
   "outputs": [
    {
     "name": "stdout",
     "output_type": "stream",
     "text": [
      "\n",
      "e1 RMSE: \t 2.306e-03\n",
      "e1 std:  \t 2.305e-03\n",
      "\n",
      "e2 RMSE: \t 1.649e-03\n",
      "e2 std:  \t 1.375e-03\n",
      "\n",
      "R2/<R2> RMSE: \t 1.323e-02\n",
      "R2/<R2> std:  \t 3.872e-03\n"
     ]
    }
   ],
   "source": [
    "# Load metrics\n",
    "metrics_2k_path = './../data/metrics/wavediff-original/metrics-poly_sample_w_bis1_2k.npy'\n",
    "wf_orifinal_metrics = np.load(metrics_2k_path, allow_pickle=True)[()]\n",
    "metrics = wf_orifinal_metrics\n",
    "\n",
    "print('')\n",
    "print('e1 RMSE: \\t %.3e'% metrics['test_metrics']['shape_results_dict']['rmse_e1'])\n",
    "print('e1 std:  \\t %.3e'% metrics['test_metrics']['shape_results_dict']['std_rmse_e1'])\n",
    "\n",
    "print('')\n",
    "print('e2 RMSE: \\t %.3e'% metrics['test_metrics']['shape_results_dict']['rmse_e2'])\n",
    "print('e2 std:  \\t %.3e'% metrics['test_metrics']['shape_results_dict']['std_rmse_e2'])\n",
    "\n",
    "print('')\n",
    "print('R2/<R2> RMSE: \\t %.3e'% metrics['test_metrics']['shape_results_dict']['rmse_R2_meanR2'])\n",
    "print('R2/<R2> std:  \\t %.3e'% metrics['test_metrics']['shape_results_dict']['std_rmse_R2_meanR2'])\n",
    "\n"
   ]
  },
  {
   "cell_type": "markdown",
   "id": "35df8782",
   "metadata": {},
   "source": [
    "# WaveDiff-graph"
   ]
  },
  {
   "cell_type": "code",
   "execution_count": 7,
   "id": "a9e51cf6",
   "metadata": {},
   "outputs": [
    {
     "name": "stdout",
     "output_type": "stream",
     "text": [
      "\n",
      "e1 RMSE: \t 4.161e-02\n",
      "e1 std:  \t 3.637e-02\n",
      "\n",
      "e2 RMSE: \t 1.615e-02\n",
      "e2 std:  \t 1.607e-02\n",
      "\n",
      "R2/<R2> RMSE: \t 1.400e-01\n",
      "R2/<R2> std:  \t 6.932e-02\n"
     ]
    }
   ],
   "source": [
    "# Load metrics\n",
    "metrics_2k_path = './../data/metrics/wavediff-graph/metrics-graph_sample_w_tunned_2k.npy'\n",
    "wf_graph_metrics = np.load(metrics_2k_path, allow_pickle=True)[()]\n",
    "metrics = wf_graph_metrics\n",
    "\n",
    "print('')\n",
    "print('e1 RMSE: \\t %.3e'% metrics['test_metrics']['shape_results_dict']['rmse_e1'])\n",
    "print('e1 std:  \\t %.3e'% metrics['test_metrics']['shape_results_dict']['std_rmse_e1'])\n",
    "\n",
    "print('')\n",
    "print('e2 RMSE: \\t %.3e'% metrics['test_metrics']['shape_results_dict']['rmse_e2'])\n",
    "print('e2 std:  \\t %.3e'% metrics['test_metrics']['shape_results_dict']['std_rmse_e2'])\n",
    "\n",
    "print('')\n",
    "print('R2/<R2> RMSE: \\t %.3e'% metrics['test_metrics']['shape_results_dict']['rmse_R2_meanR2'])\n",
    "print('R2/<R2> std:  \\t %.3e'% metrics['test_metrics']['shape_results_dict']['std_rmse_R2_meanR2'])\n",
    "\n"
   ]
  },
  {
   "cell_type": "markdown",
   "id": "933def3e",
   "metadata": {},
   "source": [
    "# WaveDiff-polygraph"
   ]
  },
  {
   "cell_type": "code",
   "execution_count": 8,
   "id": "1c7356d5",
   "metadata": {},
   "outputs": [
    {
     "name": "stdout",
     "output_type": "stream",
     "text": [
      "\n",
      "e1 RMSE: \t 2.394e-03\n",
      "e1 std:  \t 2.393e-03\n",
      "\n",
      "e2 RMSE: \t 1.380e-03\n",
      "e2 std:  \t 1.261e-03\n",
      "\n",
      "R2/<R2> RMSE: \t 1.647e-02\n",
      "R2/<R2> std:  \t 4.278e-03\n"
     ]
    }
   ],
   "source": [
    "# Load metrics\n",
    "metrics_2k_path = './../data/metrics/wavediff-polygraph/metrics-mccd_sample_w_bis2_2k.npy'\n",
    "wf_polygraph_metrics = np.load(metrics_2k_path, allow_pickle=True)[()]\n",
    "metrics = wf_polygraph_metrics\n",
    "\n",
    "print('')\n",
    "print('e1 RMSE: \\t %.3e'% metrics['test_metrics']['shape_results_dict']['rmse_e1'])\n",
    "print('e1 std:  \\t %.3e'% metrics['test_metrics']['shape_results_dict']['std_rmse_e1'])\n",
    "\n",
    "print('')\n",
    "print('e2 RMSE: \\t %.3e'% metrics['test_metrics']['shape_results_dict']['rmse_e2'])\n",
    "print('e2 std:  \\t %.3e'% metrics['test_metrics']['shape_results_dict']['std_rmse_e2'])\n",
    "\n",
    "print('')\n",
    "print('R2/<R2> RMSE: \\t %.3e'% metrics['test_metrics']['shape_results_dict']['rmse_R2_meanR2'])\n",
    "print('R2/<R2> std:  \\t %.3e'% metrics['test_metrics']['shape_results_dict']['std_rmse_R2_meanR2'])\n",
    "\n"
   ]
  },
  {
   "cell_type": "code",
   "execution_count": null,
   "id": "f3117fe6",
   "metadata": {},
   "outputs": [],
   "source": []
  }
 ],
 "metadata": {
  "kernelspec": {
   "display_name": "Python 3",
   "language": "python",
   "name": "python3"
  },
  "language_info": {
   "codemirror_mode": {
    "name": "ipython",
    "version": 3
   },
   "file_extension": ".py",
   "mimetype": "text/x-python",
   "name": "python",
   "nbconvert_exporter": "python",
   "pygments_lexer": "ipython3",
   "version": "3.6.12"
  },
  "varInspector": {
   "cols": {
    "lenName": 16,
    "lenType": 16,
    "lenVar": 40
   },
   "kernels_config": {
    "python": {
     "delete_cmd_postfix": "",
     "delete_cmd_prefix": "del ",
     "library": "var_list.py",
     "varRefreshCmd": "print(var_dic_list())"
    },
    "r": {
     "delete_cmd_postfix": ") ",
     "delete_cmd_prefix": "rm(",
     "library": "var_list.r",
     "varRefreshCmd": "cat(var_dic_list()) "
    }
   },
   "types_to_exclude": [
    "module",
    "function",
    "builtin_function_or_method",
    "instance",
    "_Feature"
   ],
   "window_display": false
  }
 },
 "nbformat": 4,
 "nbformat_minor": 5
}
