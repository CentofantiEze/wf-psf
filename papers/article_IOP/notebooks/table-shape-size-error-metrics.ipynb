{
 "cells": [
  {
   "cell_type": "code",
   "execution_count": 1,
   "id": "b3715161",
   "metadata": {},
   "outputs": [],
   "source": [
    "import numpy as np\n"
   ]
  },
  {
   "cell_type": "markdown",
   "id": "dbc5c9b7",
   "metadata": {},
   "source": [
    "# RCA"
   ]
  },
  {
   "cell_type": "code",
   "execution_count": 2,
   "id": "aba6154b",
   "metadata": {},
   "outputs": [
    {
     "name": "stdout",
     "output_type": "stream",
     "text": [
      "\n",
      "e1 RMSE: \t 4.614e-02\n",
      "e1 std:  \t 4.350e-02\n",
      "\n",
      "e2 RMSE: \t 4.171e-02\n",
      "e2 std:  \t 3.513e-02\n",
      "\n",
      "R2/<R2> RMSE: \t 3.603e+00\n",
      "R2/<R2> std:  \t 1.496e+00\n"
     ]
    }
   ],
   "source": [
    "# Load metrics\n",
    "## Super resolution\n",
    "rca_SR_n4_up3_k3_metrics = np.load('./../data/metrics/rca/rca_SR_shifts_n4_up3_k3_metrics.npy', allow_pickle=True)[()]\n",
    "\n",
    "print('')\n",
    "print('e1 RMSE: \\t %.3e'% rca_SR_n4_up3_k3_metrics['metrics_dics'][3]['rmse_e1'])\n",
    "print('e1 std:  \\t %.3e'% rca_SR_n4_up3_k3_metrics['metrics_dics'][3]['std_rmse_e1'])\n",
    "\n",
    "print('')\n",
    "print('e2 RMSE: \\t %.3e'% rca_SR_n4_up3_k3_metrics['metrics_dics'][3]['rmse_e2'])\n",
    "print('e2 std:  \\t %.3e'% rca_SR_n4_up3_k3_metrics['metrics_dics'][3]['std_rmse_e2'])\n",
    "\n",
    "print('')\n",
    "print('R2/<R2> RMSE: \\t %.3e'% rca_SR_n4_up3_k3_metrics['metrics_dics'][3]['rmse_R2_meanR2'])\n",
    "print('R2/<R2> std:  \\t %.3e'% rca_SR_n4_up3_k3_metrics['metrics_dics'][3]['std_rmse_R2_meanR2'])\n",
    "\n"
   ]
  },
  {
   "cell_type": "markdown",
   "id": "ff1b3486",
   "metadata": {},
   "source": [
    "# PSFEx"
   ]
  },
  {
   "cell_type": "code",
   "execution_count": 3,
   "id": "173d8220",
   "metadata": {},
   "outputs": [
    {
     "name": "stdout",
     "output_type": "stream",
     "text": [
      "\n",
      "e1 RMSE: \t 4.380e-02\n",
      "e1 std:  \t 4.305e-02\n",
      "\n",
      "e2 RMSE: \t 4.253e-02\n",
      "e2 std:  \t 3.567e-02\n",
      "\n",
      "R2/<R2> RMSE: \t 1.484e+00\n",
      "R2/<R2> std:  \t 3.803e-01\n"
     ]
    }
   ],
   "source": [
    "\n",
    "# Load metrics\n",
    "## Super resolution\n",
    "psfex_SR_metric_d3_path = './../data/metrics/psfex/psfex_SR_run_d3_metrics.npy'\n",
    "psfex_SR_d3_metrics = np.load(psfex_SR_metric_d3_path, allow_pickle=True)[()]\n",
    "\n",
    "print('')\n",
    "print('e1 RMSE: \\t %.3e'% psfex_SR_d3_metrics['metrics_dics'][3]['rmse_e1'])\n",
    "print('e1 std:  \\t %.3e'% psfex_SR_d3_metrics['metrics_dics'][3]['std_rmse_e1'])\n",
    "\n",
    "print('')\n",
    "print('e2 RMSE: \\t %.3e'% psfex_SR_d3_metrics['metrics_dics'][3]['rmse_e2'])\n",
    "print('e2 std:  \\t %.3e'% psfex_SR_d3_metrics['metrics_dics'][3]['std_rmse_e2'])\n",
    "\n",
    "print('')\n",
    "print('R2/<R2> RMSE: \\t %.3e'% psfex_SR_d3_metrics['metrics_dics'][3]['rmse_R2_meanR2'])\n",
    "print('R2/<R2> std:  \\t %.3e'% psfex_SR_d3_metrics['metrics_dics'][3]['std_rmse_R2_meanR2'])\n",
    "\n",
    "\n"
   ]
  },
  {
   "cell_type": "markdown",
   "id": "9b3b45a0",
   "metadata": {},
   "source": [
    "# MCCD"
   ]
  },
  {
   "cell_type": "code",
   "execution_count": 4,
   "id": "137ab513",
   "metadata": {},
   "outputs": [
    {
     "name": "stdout",
     "output_type": "stream",
     "text": [
      "\n",
      "e1 RMSE: \t 9.787e-02\n",
      "e1 std:  \t 9.757e-02\n",
      "\n",
      "e2 RMSE: \t 7.322e-02\n",
      "e2 std:  \t 7.228e-02\n",
      "\n",
      "R2/<R2> RMSE: \t 4.744e+00\n",
      "R2/<R2> std:  \t 4.168e+00\n"
     ]
    }
   ],
   "source": [
    "\n",
    "# Load metrics\n",
    "## Super resolution\n",
    "mccd_SR_metric_path = './../data/metrics/mccd/mccd_SR_id10_metrics.npy'\n",
    "mccd_SR_metrics = np.load(mccd_SR_metric_path, allow_pickle=True)[()]\n",
    "\n",
    "print('')\n",
    "print('e1 RMSE: \\t %.3e'% mccd_SR_metrics['metrics_dics'][3]['rmse_e1'])\n",
    "print('e1 std:  \\t %.3e'% mccd_SR_metrics['metrics_dics'][3]['std_rmse_e1'])\n",
    "\n",
    "print('')\n",
    "print('e2 RMSE: \\t %.3e'% mccd_SR_metrics['metrics_dics'][3]['rmse_e2'])\n",
    "print('e2 std:  \\t %.3e'% mccd_SR_metrics['metrics_dics'][3]['std_rmse_e2'])\n",
    "\n",
    "print('')\n",
    "print('R2/<R2> RMSE: \\t %.3e'% mccd_SR_metrics['metrics_dics'][3]['rmse_R2_meanR2'])\n",
    "print('R2/<R2> std:  \\t %.3e'% mccd_SR_metrics['metrics_dics'][3]['std_rmse_R2_meanR2'])\n"
   ]
  },
  {
   "cell_type": "markdown",
   "id": "9c095871",
   "metadata": {},
   "source": [
    "# Zernike 15"
   ]
  },
  {
   "cell_type": "code",
   "execution_count": 5,
   "id": "02747189",
   "metadata": {},
   "outputs": [
    {
     "name": "stdout",
     "output_type": "stream",
     "text": [
      "\n",
      "e1 RMSE: \t 3.918e-02\n",
      "e1 std:  \t 2.438e-02\n",
      "\n",
      "e2 RMSE: \t 2.687e-02\n",
      "e2 std:  \t 2.656e-02\n",
      "\n",
      "R2/<R2> RMSE: \t 9.213e-02\n",
      "R2/<R2> std:  \t 7.647e-02\n"
     ]
    }
   ],
   "source": [
    "# Load metrics\n",
    "metrics_wf_inc15_2k_path = './../data/metrics/zernike_15/metrics-param_incomplete_15_sample_w_2k.npy'\n",
    "metrics_wf_inc15_2k = np.load(metrics_wf_inc15_2k_path, allow_pickle=True)[()]\n",
    "metrics = metrics_wf_inc15_2k\n",
    "\n",
    "print('')\n",
    "print('e1 RMSE: \\t %.3e'% metrics['test_metrics']['shape_results_dict']['rmse_e1'])\n",
    "print('e1 std:  \\t %.3e'% metrics['test_metrics']['shape_results_dict']['std_rmse_e1'])\n",
    "\n",
    "print('')\n",
    "print('e2 RMSE: \\t %.3e'% metrics['test_metrics']['shape_results_dict']['rmse_e2'])\n",
    "print('e2 std:  \\t %.3e'% metrics['test_metrics']['shape_results_dict']['std_rmse_e2'])\n",
    "\n",
    "print('')\n",
    "print('R2/<R2> RMSE: \\t %.3e'% metrics['test_metrics']['shape_results_dict']['rmse_R2_meanR2'])\n",
    "print('R2/<R2> std:  \\t %.3e'% metrics['test_metrics']['shape_results_dict']['std_rmse_R2_meanR2'])\n"
   ]
  },
  {
   "cell_type": "markdown",
   "id": "5c4f65b6",
   "metadata": {},
   "source": [
    "# Zernike 40"
   ]
  },
  {
   "cell_type": "code",
   "execution_count": 6,
   "id": "11254ecb",
   "metadata": {},
   "outputs": [
    {
     "name": "stdout",
     "output_type": "stream",
     "text": [
      "\n",
      "e1 RMSE: \t 2.124e-02\n",
      "e1 std:  \t 2.006e-02\n",
      "\n",
      "e2 RMSE: \t 1.380e-02\n",
      "e2 std:  \t 1.360e-02\n",
      "\n",
      "R2/<R2> RMSE: \t 9.711e-02\n",
      "R2/<R2> std:  \t 9.697e-02\n"
     ]
    }
   ],
   "source": [
    "# Load metrics\n",
    "metrics_wf_inc40_2k_path = './../data/metrics/zernike_40/metrics-param_incomplete_40_sample_w_bis1_2k.npy'\n",
    "metrics_wf_inc40_2k = np.load(metrics_wf_inc40_2k_path, allow_pickle=True)[()]\n",
    "metrics = metrics_wf_inc40_2k\n",
    "\n",
    "print('')\n",
    "print('e1 RMSE: \\t %.3e'% metrics['test_metrics']['shape_results_dict']['rmse_e1'])\n",
    "print('e1 std:  \\t %.3e'% metrics['test_metrics']['shape_results_dict']['std_rmse_e1'])\n",
    "\n",
    "print('')\n",
    "print('e2 RMSE: \\t %.3e'% metrics['test_metrics']['shape_results_dict']['rmse_e2'])\n",
    "print('e2 std:  \\t %.3e'% metrics['test_metrics']['shape_results_dict']['std_rmse_e2'])\n",
    "\n",
    "print('')\n",
    "print('R2/<R2> RMSE: \\t %.3e'% metrics['test_metrics']['shape_results_dict']['rmse_R2_meanR2'])\n",
    "print('R2/<R2> std:  \\t %.3e'% metrics['test_metrics']['shape_results_dict']['std_rmse_R2_meanR2'])\n",
    "\n"
   ]
  },
  {
   "cell_type": "markdown",
   "id": "c965e678",
   "metadata": {},
   "source": [
    "# WaveDiff-original"
   ]
  },
  {
   "cell_type": "code",
   "execution_count": 7,
   "id": "0ccaf6fe",
   "metadata": {},
   "outputs": [
    {
     "name": "stdout",
     "output_type": "stream",
     "text": [
      "\n",
      "e1 RMSE: \t 2.306e-03\n",
      "e1 std:  \t 2.305e-03\n",
      "\n",
      "e2 RMSE: \t 1.649e-03\n",
      "e2 std:  \t 1.375e-03\n",
      "\n",
      "R2/<R2> RMSE: \t 1.323e-02\n",
      "R2/<R2> std:  \t 3.872e-03\n"
     ]
    }
   ],
   "source": [
    "# Load metrics\n",
    "metrics_2k_path = './../data/metrics/wavediff-original/metrics-poly_sample_w_bis1_2k.npy'\n",
    "wf_orifinal_metrics = np.load(metrics_2k_path, allow_pickle=True)[()]\n",
    "metrics = wf_orifinal_metrics\n",
    "\n",
    "print('')\n",
    "print('e1 RMSE: \\t %.3e'% metrics['test_metrics']['shape_results_dict']['rmse_e1'])\n",
    "print('e1 std:  \\t %.3e'% metrics['test_metrics']['shape_results_dict']['std_rmse_e1'])\n",
    "\n",
    "print('')\n",
    "print('e2 RMSE: \\t %.3e'% metrics['test_metrics']['shape_results_dict']['rmse_e2'])\n",
    "print('e2 std:  \\t %.3e'% metrics['test_metrics']['shape_results_dict']['std_rmse_e2'])\n",
    "\n",
    "print('')\n",
    "print('R2/<R2> RMSE: \\t %.3e'% metrics['test_metrics']['shape_results_dict']['rmse_R2_meanR2'])\n",
    "print('R2/<R2> std:  \\t %.3e'% metrics['test_metrics']['shape_results_dict']['std_rmse_R2_meanR2'])\n",
    "\n"
   ]
  },
  {
   "cell_type": "markdown",
   "id": "731b979c",
   "metadata": {},
   "source": [
    "# WaveDiff-graph"
   ]
  },
  {
   "cell_type": "code",
   "execution_count": 8,
   "id": "3dbea8ce",
   "metadata": {},
   "outputs": [
    {
     "name": "stdout",
     "output_type": "stream",
     "text": [
      "\n",
      "e1 RMSE: \t 4.187e-02\n",
      "e1 std:  \t 3.645e-02\n",
      "\n",
      "e2 RMSE: \t 1.636e-02\n",
      "e2 std:  \t 1.628e-02\n",
      "\n",
      "R2/<R2> RMSE: \t 1.389e-01\n",
      "R2/<R2> std:  \t 6.890e-02\n"
     ]
    }
   ],
   "source": [
    "# Load metrics\n",
    "metrics_2k_path = './../data/metrics/wavediff-graph/metrics-graph_sample_w_tunned_2k.npy'\n",
    "wf_graph_metrics = np.load(metrics_2k_path, allow_pickle=True)[()]\n",
    "metrics = wf_graph_metrics\n",
    "\n",
    "print('')\n",
    "print('e1 RMSE: \\t %.3e'% metrics['test_metrics']['shape_results_dict']['rmse_e1'])\n",
    "print('e1 std:  \\t %.3e'% metrics['test_metrics']['shape_results_dict']['std_rmse_e1'])\n",
    "\n",
    "print('')\n",
    "print('e2 RMSE: \\t %.3e'% metrics['test_metrics']['shape_results_dict']['rmse_e2'])\n",
    "print('e2 std:  \\t %.3e'% metrics['test_metrics']['shape_results_dict']['std_rmse_e2'])\n",
    "\n",
    "print('')\n",
    "print('R2/<R2> RMSE: \\t %.3e'% metrics['test_metrics']['shape_results_dict']['rmse_R2_meanR2'])\n",
    "print('R2/<R2> std:  \\t %.3e'% metrics['test_metrics']['shape_results_dict']['std_rmse_R2_meanR2'])\n",
    "\n"
   ]
  },
  {
   "cell_type": "markdown",
   "id": "a4fb350f",
   "metadata": {},
   "source": [
    "# WaveDiff-polygraph"
   ]
  },
  {
   "cell_type": "code",
   "execution_count": 9,
   "id": "31f5ac5d",
   "metadata": {},
   "outputs": [
    {
     "name": "stdout",
     "output_type": "stream",
     "text": [
      "\n",
      "e1 RMSE: \t 2.394e-03\n",
      "e1 std:  \t 2.393e-03\n",
      "\n",
      "e2 RMSE: \t 1.380e-03\n",
      "e2 std:  \t 1.261e-03\n",
      "\n",
      "R2/<R2> RMSE: \t 1.647e-02\n",
      "R2/<R2> std:  \t 4.278e-03\n"
     ]
    }
   ],
   "source": [
    "# Load metrics\n",
    "metrics_2k_path = './../data/metrics/wavediff-polygraph/metrics-mccd_sample_w_bis2_2k.npy'\n",
    "wf_polygraph_metrics = np.load(metrics_2k_path, allow_pickle=True)[()]\n",
    "metrics = wf_polygraph_metrics\n",
    "\n",
    "print('')\n",
    "print('e1 RMSE: \\t %.3e'% metrics['test_metrics']['shape_results_dict']['rmse_e1'])\n",
    "print('e1 std:  \\t %.3e'% metrics['test_metrics']['shape_results_dict']['std_rmse_e1'])\n",
    "\n",
    "print('')\n",
    "print('e2 RMSE: \\t %.3e'% metrics['test_metrics']['shape_results_dict']['rmse_e2'])\n",
    "print('e2 std:  \\t %.3e'% metrics['test_metrics']['shape_results_dict']['std_rmse_e2'])\n",
    "\n",
    "print('')\n",
    "print('R2/<R2> RMSE: \\t %.3e'% metrics['test_metrics']['shape_results_dict']['rmse_R2_meanR2'])\n",
    "print('R2/<R2> std:  \\t %.3e'% metrics['test_metrics']['shape_results_dict']['std_rmse_R2_meanR2'])\n",
    "\n"
   ]
  },
  {
   "cell_type": "code",
   "execution_count": null,
   "id": "f87c4f65",
   "metadata": {},
   "outputs": [],
   "source": []
  },
  {
   "cell_type": "code",
   "execution_count": null,
   "id": "2a3dae28",
   "metadata": {},
   "outputs": [],
   "source": []
  }
 ],
 "metadata": {
  "kernelspec": {
   "display_name": "Python 3",
   "language": "python",
   "name": "python3"
  },
  "language_info": {
   "codemirror_mode": {
    "name": "ipython",
    "version": 3
   },
   "file_extension": ".py",
   "mimetype": "text/x-python",
   "name": "python",
   "nbconvert_exporter": "python",
   "pygments_lexer": "ipython3",
   "version": "3.6.12"
  },
  "varInspector": {
   "cols": {
    "lenName": 16,
    "lenType": 16,
    "lenVar": 40
   },
   "kernels_config": {
    "python": {
     "delete_cmd_postfix": "",
     "delete_cmd_prefix": "del ",
     "library": "var_list.py",
     "varRefreshCmd": "print(var_dic_list())"
    },
    "r": {
     "delete_cmd_postfix": ") ",
     "delete_cmd_prefix": "rm(",
     "library": "var_list.r",
     "varRefreshCmd": "cat(var_dic_list()) "
    }
   },
   "types_to_exclude": [
    "module",
    "function",
    "builtin_function_or_method",
    "instance",
    "_Feature"
   ],
   "window_display": false
  }
 },
 "nbformat": 4,
 "nbformat_minor": 5
}
