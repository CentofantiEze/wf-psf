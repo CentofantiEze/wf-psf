{
 "cells": [
  {
   "cell_type": "code",
   "execution_count": 1,
   "id": "e3504e2c",
   "metadata": {},
   "outputs": [],
   "source": [
    "import numpy as np\n"
   ]
  },
  {
   "cell_type": "markdown",
   "id": "ee9826bf",
   "metadata": {},
   "source": [
    "# RCA"
   ]
  },
  {
   "cell_type": "code",
   "execution_count": 2,
   "id": "4b6a0be1",
   "metadata": {},
   "outputs": [
    {
     "name": "stdout",
     "output_type": "stream",
     "text": [
      "Observation resolution:\n",
      "Absolute RMSE x1: 3.959e-04\n",
      "Relative RMSE x1: 5.41 %\n",
      "\n",
      "Super resolution:\n",
      "Absolute RMSE x3: 8.533e-04\n",
      "Relative RMSE x3: 55.49 %\n"
     ]
    }
   ],
   "source": [
    "# Load metrics\n",
    "## Observation resolution\n",
    "rca_n4_up1_k3 = np.load('./../data/metrics/rca/rca_shifts_n4_up1_k3_metrics.npy', allow_pickle=True)[()]\n",
    "## Super resolution\n",
    "rca_SR_n4_up3_k3_metrics = np.load('./../data/metrics/rca/rca_SR_shifts_n4_up3_k3_metrics.npy', allow_pickle=True)[()]\n",
    "\n",
    "print('Observation resolution:')\n",
    "print('Absolute RMSE x1: %.3e'% rca_n4_up1_k3['rmse'][3])\n",
    "print('Relative RMSE x1: %.2f %%'% (rca_n4_up1_k3['rel_rmse'][3]))\n",
    "print('')\n",
    "print('Super resolution:')\n",
    "print('Absolute RMSE x3: %.3e'% rca_SR_n4_up3_k3_metrics['metrics_dics'][3]['pix_rmse'])\n",
    "print('Relative RMSE x3: %.2f %%'% rca_SR_n4_up3_k3_metrics['metrics_dics'][3]['pix_rel_rmse'])\n"
   ]
  },
  {
   "cell_type": "markdown",
   "id": "b8df0ccf",
   "metadata": {},
   "source": [
    "# PSFEx"
   ]
  },
  {
   "cell_type": "code",
   "execution_count": 3,
   "id": "c9c99880",
   "metadata": {},
   "outputs": [
    {
     "name": "stdout",
     "output_type": "stream",
     "text": [
      "Observation resolution:\n",
      "Absolute RMSE x1: 6.918e-04\n",
      "Relative RMSE x1: 9.47 %\n",
      "\n",
      "Super resolution:\n",
      "Absolute RMSE x3: 6.631e-04\n",
      "Relative RMSE x3: 42.96 %\n"
     ]
    }
   ],
   "source": [
    "# Load metrics\n",
    "## Observation resolution\n",
    "psfex_metric_d3_path = './../data/metrics/psfex/psfex_run_r1_d3_metrics.npy'\n",
    "psfex_d3_metrics = np.load(psfex_metric_d3_path, allow_pickle=True)[()]\n",
    "## Super resolution\n",
    "psfex_SR_metric_d3_path = './../data/metrics/psfex/psfex_SR_run_d3_metrics.npy'\n",
    "psfex_SR_d3_metrics = np.load(psfex_SR_metric_d3_path, allow_pickle=True)[()]\n",
    "\n",
    "psfex_SR_d3_metrics['catalog_ids']\n",
    "\n",
    "\n",
    "print('Observation resolution:')\n",
    "print('Absolute RMSE x1: %.3e'% psfex_d3_metrics['rmse'][3])\n",
    "print('Relative RMSE x1: %.2f %%'% psfex_d3_metrics['rel_rmse'][3])\n",
    "print('')\n",
    "print('Super resolution:')\n",
    "print('Absolute RMSE x3: %.3e'% psfex_SR_d3_metrics['metrics_dics'][3]['pix_rmse'])\n",
    "print('Relative RMSE x3: %.2f %%'% psfex_SR_d3_metrics['metrics_dics'][3]['pix_rel_rmse'])\n",
    "\n"
   ]
  },
  {
   "cell_type": "markdown",
   "id": "9e034a81",
   "metadata": {},
   "source": [
    "# MCCD"
   ]
  },
  {
   "cell_type": "code",
   "execution_count": 13,
   "id": "af326cc4",
   "metadata": {},
   "outputs": [
    {
     "name": "stdout",
     "output_type": "stream",
     "text": [
      "Observation resolution:\n",
      "Absolute RMSE x1: 4.353e-04\n",
      "Relative RMSE x1: 5.95 %\n",
      "\n",
      "Super resolution:\n",
      "Absolute RMSE x3: 9.768e-04\n",
      "Relative RMSE x3: 63.55 %\n"
     ]
    }
   ],
   "source": [
    "# Load metrics\n",
    "## Observation resolution\n",
    "mccd_metric_path = './../data/metrics/mccd/mccd_id06_metrics.npy'\n",
    "mccd_metrics = np.load(mccd_metric_path, allow_pickle=True)[()]\n",
    "\n",
    "## Super resolution\n",
    "mccd_SR_metric_path = './../data/metrics/mccd/mccd_SR_id10_metrics.npy'\n",
    "mccd_SR_metrics = np.load(mccd_SR_metric_path, allow_pickle=True)[()]\n",
    "\n",
    "print('Observation resolution:')\n",
    "print('Absolute RMSE x1: %.3e'% mccd_metrics['rmse'][3])\n",
    "print('Relative RMSE x1: %.2f %%'% mccd_metrics['rel_rmse'][3])\n",
    "print('')\n",
    "print('Super resolution:')\n",
    "print('Absolute RMSE x3: %.3e'% mccd_SR_metrics['metrics_dics'][3]['pix_rmse'])\n",
    "print('Relative RMSE x3: %.2f %%'% mccd_SR_metrics['metrics_dics'][3]['pix_rel_rmse'])\n",
    "\n"
   ]
  },
  {
   "cell_type": "markdown",
   "id": "2c287995",
   "metadata": {},
   "source": [
    "# Zernike 15"
   ]
  },
  {
   "cell_type": "code",
   "execution_count": 4,
   "id": "f075c882",
   "metadata": {},
   "outputs": [
    {
     "name": "stdout",
     "output_type": "stream",
     "text": [
      "Observation resolution:\n",
      "Absolute RMSE x1: 7.748e-04\n",
      "Relative RMSE x1: 10.58 %\n",
      "\n",
      "Super resolution:\n",
      "Absolute RMSE x3: 1.895e-04\n",
      "Relative RMSE x3: 12.75 %\n"
     ]
    }
   ],
   "source": [
    "# Load metrics\n",
    "metrics_wf_inc15_2k_path = './../data/metrics/zernike_15/metrics-param_incomplete_15_sample_w_2k.npy'\n",
    "metrics_wf_inc15_2k = np.load(metrics_wf_inc15_2k_path, allow_pickle=True)[()]\n",
    "metrics = metrics_wf_inc15_2k\n",
    "\n",
    "print('Observation resolution:')\n",
    "print('Absolute RMSE x1: %.3e'% metrics['test_metrics']['poly_metric']['rmse'])\n",
    "print('Relative RMSE x1: %.2f %%'% metrics['test_metrics']['poly_metric']['rel_rmse'])\n",
    "print('')\n",
    "print('Super resolution:')\n",
    "print('Absolute RMSE x3: %.3e'% metrics['test_metrics']['shape_results_dict']['pix_rmse'])\n",
    "print('Relative RMSE x3: %.2f %%'% metrics['test_metrics']['shape_results_dict']['rel_pix_rmse'])\n",
    "\n"
   ]
  },
  {
   "cell_type": "markdown",
   "id": "2010e0a6",
   "metadata": {},
   "source": [
    "# Zernike 40"
   ]
  },
  {
   "cell_type": "code",
   "execution_count": 5,
   "id": "478ceb4d",
   "metadata": {},
   "outputs": [
    {
     "name": "stdout",
     "output_type": "stream",
     "text": [
      "Observation resolution:\n",
      "Absolute RMSE x1: 3.260e-04\n",
      "Relative RMSE x1: 4.44 %\n",
      "\n",
      "Super resolution:\n",
      "Absolute RMSE x3: 8.736e-05\n",
      "Relative RMSE x3: 5.87 %\n"
     ]
    }
   ],
   "source": [
    "# Load metrics\n",
    "metrics_wf_inc40_2k_path = './../data/metrics/zernike_40/metrics-param_incomplete_40_sample_w_bis1_2k.npy'\n",
    "metrics_wf_inc40_2k = np.load(metrics_wf_inc40_2k_path, allow_pickle=True)[()]\n",
    "metrics = metrics_wf_inc40_2k\n",
    "\n",
    "print('Observation resolution:')\n",
    "print('Absolute RMSE x1: %.3e'% metrics['test_metrics']['poly_metric']['rmse'])\n",
    "print('Relative RMSE x1: %.2f %%'% metrics['test_metrics']['poly_metric']['rel_rmse'])\n",
    "print('')\n",
    "print('Super resolution:')\n",
    "print('Absolute RMSE x3: %.3e'% metrics['test_metrics']['shape_results_dict']['pix_rmse'])\n",
    "print('Relative RMSE x3: %.2f %%'% metrics['test_metrics']['shape_results_dict']['rel_pix_rmse'])\n",
    "\n"
   ]
  },
  {
   "cell_type": "markdown",
   "id": "ba2a0d75",
   "metadata": {},
   "source": [
    "# WaveDiff-original"
   ]
  },
  {
   "cell_type": "code",
   "execution_count": 6,
   "id": "44aed0fb",
   "metadata": {},
   "outputs": [
    {
     "name": "stdout",
     "output_type": "stream",
     "text": [
      "Observation resolution:\n",
      "Absolute RMSE x1: 6.379e-05\n",
      "Relative RMSE x1: 0.86 %\n",
      "\n",
      "Super resolution:\n",
      "Absolute RMSE x3: 1.933e-05\n",
      "Relative RMSE x3: 1.29 %\n"
     ]
    }
   ],
   "source": [
    "# Load metrics\n",
    "metrics_2k_path = './../data/metrics/wavediff-original/metrics-poly_sample_w_bis1_2k.npy'\n",
    "wf_orifinal_metrics = np.load(metrics_2k_path, allow_pickle=True)[()]\n",
    "metrics = wf_orifinal_metrics\n",
    "\n",
    "print('Observation resolution:')\n",
    "print('Absolute RMSE x1: %.3e'% metrics['test_metrics']['poly_metric']['rmse'])\n",
    "print('Relative RMSE x1: %.2f %%'% metrics['test_metrics']['poly_metric']['rel_rmse'])\n",
    "print('')\n",
    "print('Super resolution:')\n",
    "print('Absolute RMSE x3: %.3e'% metrics['test_metrics']['shape_results_dict']['pix_rmse'])\n",
    "print('Relative RMSE x3: %.2f %%'% metrics['test_metrics']['shape_results_dict']['rel_pix_rmse'])\n",
    "\n"
   ]
  },
  {
   "cell_type": "code",
   "execution_count": null,
   "id": "5d7ec004",
   "metadata": {},
   "outputs": [],
   "source": []
  },
  {
   "cell_type": "markdown",
   "id": "df7cfe10",
   "metadata": {},
   "source": [
    "# WaveDiff-graph\n"
   ]
  },
  {
   "cell_type": "code",
   "execution_count": 7,
   "id": "727627b5",
   "metadata": {},
   "outputs": [
    {
     "name": "stdout",
     "output_type": "stream",
     "text": [
      "Observation resolution:\n",
      "Absolute RMSE x1: 7.175e-04\n",
      "Relative RMSE x1: 9.76 %\n",
      "\n",
      "Super resolution:\n",
      "Absolute RMSE x3: 1.899e-04\n",
      "Relative RMSE x3: 12.72 %\n"
     ]
    }
   ],
   "source": [
    "# Load metrics\n",
    "metrics_2k_path = './../data/metrics/wavediff-graph/metrics-graph_sample_w_tunned_2k.npy'\n",
    "wf_graph_metrics = np.load(metrics_2k_path, allow_pickle=True)[()]\n",
    "metrics = wf_graph_metrics\n",
    "\n",
    "print('Observation resolution:')\n",
    "print('Absolute RMSE x1: %.3e'% metrics['test_metrics']['poly_metric']['rmse'])\n",
    "print('Relative RMSE x1: %.2f %%'% metrics['test_metrics']['poly_metric']['rel_rmse'])\n",
    "print('')\n",
    "print('Super resolution:')\n",
    "print('Absolute RMSE x3: %.3e'% metrics['test_metrics']['shape_results_dict']['pix_rmse'])\n",
    "print('Relative RMSE x3: %.2f %%'% metrics['test_metrics']['shape_results_dict']['rel_pix_rmse'])\n",
    "\n"
   ]
  },
  {
   "cell_type": "markdown",
   "id": "392ee0d8",
   "metadata": {},
   "source": [
    "# WaveDiff-polygraph"
   ]
  },
  {
   "cell_type": "code",
   "execution_count": 8,
   "id": "8e166824",
   "metadata": {},
   "outputs": [
    {
     "name": "stdout",
     "output_type": "stream",
     "text": [
      "Observation resolution:\n",
      "Absolute RMSE x1: 6.945e-05\n",
      "Relative RMSE x1: 0.94 %\n",
      "\n",
      "Super resolution:\n",
      "Absolute RMSE x3: 1.930e-05\n",
      "Relative RMSE x3: 1.28 %\n"
     ]
    }
   ],
   "source": [
    "# Load metrics\n",
    "metrics_2k_path = './../data/metrics/wavediff-polygraph/metrics-mccd_sample_w_bis2_2k.npy'\n",
    "wf_polygraph_metrics = np.load(metrics_2k_path, allow_pickle=True)[()]\n",
    "metrics = wf_polygraph_metrics\n",
    "\n",
    "print('Observation resolution:')\n",
    "print('Absolute RMSE x1: %.3e'% metrics['test_metrics']['poly_metric']['rmse'])\n",
    "print('Relative RMSE x1: %.2f %%'% metrics['test_metrics']['poly_metric']['rel_rmse'])\n",
    "print('')\n",
    "print('Super resolution:')\n",
    "print('Absolute RMSE x3: %.3e'% metrics['test_metrics']['shape_results_dict']['pix_rmse'])\n",
    "print('Relative RMSE x3: %.2f %%'% metrics['test_metrics']['shape_results_dict']['rel_pix_rmse'])\n",
    "\n"
   ]
  },
  {
   "cell_type": "code",
   "execution_count": null,
   "id": "98e34c4e",
   "metadata": {},
   "outputs": [],
   "source": []
  },
  {
   "cell_type": "code",
   "execution_count": null,
   "id": "49ea9786",
   "metadata": {},
   "outputs": [],
   "source": []
  },
  {
   "cell_type": "code",
   "execution_count": null,
   "id": "06dc9669",
   "metadata": {},
   "outputs": [],
   "source": []
  }
 ],
 "metadata": {
  "kernelspec": {
   "display_name": "Python 3",
   "language": "python",
   "name": "python3"
  },
  "language_info": {
   "codemirror_mode": {
    "name": "ipython",
    "version": 3
   },
   "file_extension": ".py",
   "mimetype": "text/x-python",
   "name": "python",
   "nbconvert_exporter": "python",
   "pygments_lexer": "ipython3",
   "version": "3.6.12"
  },
  "varInspector": {
   "cols": {
    "lenName": 16,
    "lenType": 16,
    "lenVar": 40
   },
   "kernels_config": {
    "python": {
     "delete_cmd_postfix": "",
     "delete_cmd_prefix": "del ",
     "library": "var_list.py",
     "varRefreshCmd": "print(var_dic_list())"
    },
    "r": {
     "delete_cmd_postfix": ") ",
     "delete_cmd_prefix": "rm(",
     "library": "var_list.r",
     "varRefreshCmd": "cat(var_dic_list()) "
    }
   },
   "types_to_exclude": [
    "module",
    "function",
    "builtin_function_or_method",
    "instance",
    "_Feature"
   ],
   "window_display": false
  }
 },
 "nbformat": 4,
 "nbformat_minor": 5
}
