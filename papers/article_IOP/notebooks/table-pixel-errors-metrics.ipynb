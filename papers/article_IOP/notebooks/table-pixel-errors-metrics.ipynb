{
 "cells": [
  {
   "cell_type": "code",
   "execution_count": 1,
   "id": "7e574cd0",
   "metadata": {},
   "outputs": [],
   "source": [
    "import numpy as np\n"
   ]
  },
  {
   "cell_type": "markdown",
   "id": "8ae2fa08",
   "metadata": {},
   "source": [
    "# RCA"
   ]
  },
  {
   "cell_type": "code",
   "execution_count": 2,
   "id": "259b03ac",
   "metadata": {},
   "outputs": [
    {
     "name": "stdout",
     "output_type": "stream",
     "text": [
      "Observation resolution:\n",
      "Absolute RMSE x1: 3.959e-04\n",
      "Relative RMSE x1: 5.41 %\n",
      "\n",
      "Super resolution:\n",
      "Absolute RMSE x3: 8.533e-04\n",
      "Relative RMSE x3: 55.49 %\n"
     ]
    }
   ],
   "source": [
    "# Load metrics\n",
    "## Observation resolution\n",
    "rca_n4_up1_k3 = np.load('./../data/metrics/rca/rca_shifts_n4_up1_k3_metrics.npy', allow_pickle=True)[()]\n",
    "## Super resolution\n",
    "rca_SR_n4_up3_k3_metrics = np.load('./../data/metrics/rca/rca_SR_shifts_n4_up3_k3_metrics.npy', allow_pickle=True)[()]\n",
    "\n",
    "print('Observation resolution:')\n",
    "print('Absolute RMSE x1: %.3e'% rca_n4_up1_k3['rmse'][3])\n",
    "print('Relative RMSE x1: %.2f %%'% (rca_n4_up1_k3['rel_rmse'][3]))\n",
    "print('')\n",
    "print('Super resolution:')\n",
    "print('Absolute RMSE x3: %.3e'% rca_SR_n4_up3_k3_metrics['metrics_dics'][3]['pix_rmse'])\n",
    "print('Relative RMSE x3: %.2f %%'% rca_SR_n4_up3_k3_metrics['metrics_dics'][3]['pix_rel_rmse'])\n"
   ]
  },
  {
   "cell_type": "markdown",
   "id": "3ad1d07b",
   "metadata": {},
   "source": [
    "# PSFEx"
   ]
  },
  {
   "cell_type": "code",
   "execution_count": 3,
   "id": "c4c9c2ea",
   "metadata": {},
   "outputs": [
    {
     "name": "stdout",
     "output_type": "stream",
     "text": [
      "Observation resolution:\n",
      "Absolute RMSE x1: 6.918e-04\n",
      "Relative RMSE x1: 9.47 %\n",
      "\n",
      "Super resolution:\n",
      "Absolute RMSE x3: 6.631e-04\n",
      "Relative RMSE x3: 42.96 %\n"
     ]
    }
   ],
   "source": [
    "# Load metrics\n",
    "## Observation resolution\n",
    "psfex_metric_d3_path = './../data/metrics/psfex/psfex_run_r1_d3_metrics.npy'\n",
    "psfex_d3_metrics = np.load(psfex_metric_d3_path, allow_pickle=True)[()]\n",
    "## Super resolution\n",
    "psfex_SR_metric_d3_path = './../data/metrics/psfex/psfex_SR_run_d3_metrics.npy'\n",
    "psfex_SR_d3_metrics = np.load(psfex_SR_metric_d3_path, allow_pickle=True)[()]\n",
    "\n",
    "psfex_SR_d3_metrics['catalog_ids']\n",
    "\n",
    "\n",
    "print('Observation resolution:')\n",
    "print('Absolute RMSE x1: %.3e'% psfex_d3_metrics['rmse'][3])\n",
    "print('Relative RMSE x1: %.2f %%'% psfex_d3_metrics['rel_rmse'][3])\n",
    "print('')\n",
    "print('Super resolution:')\n",
    "print('Absolute RMSE x3: %.3e'% psfex_SR_d3_metrics['metrics_dics'][3]['pix_rmse'])\n",
    "print('Relative RMSE x3: %.2f %%'% psfex_SR_d3_metrics['metrics_dics'][3]['pix_rel_rmse'])\n",
    "\n"
   ]
  },
  {
   "cell_type": "markdown",
   "id": "0976bf8a",
   "metadata": {},
   "source": [
    "# Zernike 15"
   ]
  },
  {
   "cell_type": "code",
   "execution_count": 27,
   "id": "f9fd98c0",
   "metadata": {},
   "outputs": [
    {
     "name": "stdout",
     "output_type": "stream",
     "text": [
      "Observation resolution:\n",
      "Absolute RMSE x1: 7.748e-04\n",
      "Relative RMSE x1: 10.58 %\n",
      "\n",
      "Super resolution:\n",
      "Absolute RMSE x3: 1.895e-04\n",
      "Relative RMSE x3: 12.75 %\n"
     ]
    }
   ],
   "source": [
    "# Load metrics\n",
    "metrics_wf_inc15_2k_path = './../data/metrics/zernike_15/metrics-param_incomplete_15_sample_w_2k.npy'\n",
    "metrics_wf_inc15_2k = np.load(metrics_wf_inc15_2k_path, allow_pickle=True)[()]\n",
    "metrics = metrics_wf_inc15_2k\n",
    "\n",
    "print('Observation resolution:')\n",
    "print('Absolute RMSE x1: %.3e'% metrics['test_metrics']['poly_metric']['rmse'])\n",
    "print('Relative RMSE x1: %.2f %%'% metrics['test_metrics']['poly_metric']['rel_rmse'])\n",
    "print('')\n",
    "print('Super resolution:')\n",
    "print('Absolute RMSE x3: %.3e'% metrics['test_metrics']['shape_results_dict']['pix_rmse'])\n",
    "print('Relative RMSE x3: %.2f %%'% metrics['test_metrics']['shape_results_dict']['rel_pix_rmse'])\n",
    "\n"
   ]
  },
  {
   "cell_type": "markdown",
   "id": "8f9ff15d",
   "metadata": {},
   "source": [
    "# Zernike 40"
   ]
  },
  {
   "cell_type": "code",
   "execution_count": 5,
   "id": "f0acf2e6",
   "metadata": {},
   "outputs": [
    {
     "name": "stdout",
     "output_type": "stream",
     "text": [
      "Observation resolution:\n",
      "Absolute RMSE x1: 2.536e-04\n",
      "Relative RMSE x1: 3.45 %\n",
      "\n",
      "Super resolution:\n",
      "Absolute RMSE x3: 6.448e-05\n",
      "Relative RMSE x3: 4.34 %\n"
     ]
    }
   ],
   "source": [
    "# Load metrics\n",
    "metrics_wf_inc40_2k_path = './../data/metrics/zernike_40/metrics-param_incomplete_40_sample_w_2k.npy'\n",
    "metrics_wf_inc40_2k = np.load(metrics_wf_inc40_2k_path, allow_pickle=True)[()]\n",
    "metrics = metrics_wf_inc40_2k\n",
    "\n",
    "print('Observation resolution:')\n",
    "print('Absolute RMSE x1: %.3e'% metrics['test_metrics']['poly_metric']['rmse'])\n",
    "print('Relative RMSE x1: %.2f %%'% metrics['test_metrics']['poly_metric']['rel_rmse'])\n",
    "print('')\n",
    "print('Super resolution:')\n",
    "print('Absolute RMSE x3: %.3e'% metrics['test_metrics']['shape_results_dict']['pix_rmse'])\n",
    "print('Relative RMSE x3: %.2f %%'% metrics['test_metrics']['shape_results_dict']['rel_pix_rmse'])\n",
    "\n"
   ]
  },
  {
   "cell_type": "markdown",
   "id": "89e5ac66",
   "metadata": {},
   "source": [
    "# WaveDiff-original"
   ]
  },
  {
   "cell_type": "code",
   "execution_count": 28,
   "id": "17ce0469",
   "metadata": {},
   "outputs": [
    {
     "name": "stdout",
     "output_type": "stream",
     "text": [
      "Observation resolution:\n",
      "Absolute RMSE x1: 6.379e-05\n",
      "Relative RMSE x1: 0.86 %\n",
      "\n",
      "Super resolution:\n",
      "Absolute RMSE x3: 1.933e-05\n",
      "Relative RMSE x3: 1.29 %\n"
     ]
    }
   ],
   "source": [
    "# Load metrics\n",
    "metrics_2k_path = './../data/metrics/wavediff-original/metrics-poly_sample_w_bis1_2k.npy'\n",
    "wf_orifinal_metrics = np.load(metrics_2k_path, allow_pickle=True)[()]\n",
    "metrics = wf_orifinal_metrics\n",
    "\n",
    "print('Observation resolution:')\n",
    "print('Absolute RMSE x1: %.3e'% metrics['test_metrics']['poly_metric']['rmse'])\n",
    "print('Relative RMSE x1: %.2f %%'% metrics['test_metrics']['poly_metric']['rel_rmse'])\n",
    "print('')\n",
    "print('Super resolution:')\n",
    "print('Absolute RMSE x3: %.3e'% metrics['test_metrics']['shape_results_dict']['pix_rmse'])\n",
    "print('Relative RMSE x3: %.2f %%'% metrics['test_metrics']['shape_results_dict']['rel_pix_rmse'])\n",
    "\n"
   ]
  },
  {
   "cell_type": "code",
   "execution_count": 7,
   "id": "3f9406c2",
   "metadata": {},
   "outputs": [],
   "source": [
    "# wf_dd_metrics['test_metrics'].keys()\n",
    "# wf_dd_metrics['test_metrics']['shape_results_dict'].keys()"
   ]
  },
  {
   "cell_type": "markdown",
   "id": "72acde4a",
   "metadata": {},
   "source": [
    "# WaveDiff-graph\n"
   ]
  },
  {
   "cell_type": "code",
   "execution_count": 29,
   "id": "0b0e89c5",
   "metadata": {},
   "outputs": [
    {
     "name": "stdout",
     "output_type": "stream",
     "text": [
      "Observation resolution:\n",
      "Absolute RMSE x1: 7.753e-04\n",
      "Relative RMSE x1: 10.61 %\n",
      "\n",
      "Super resolution:\n",
      "Absolute RMSE x3: 2.032e-04\n",
      "Relative RMSE x3: 13.67 %\n"
     ]
    }
   ],
   "source": [
    "# Load metrics\n",
    "metrics_2k_path = './../data/metrics/wavediff-graph/metrics-graph_sample_w_2k.npy'\n",
    "wf_graph_metrics = np.load(metrics_2k_path, allow_pickle=True)[()]\n",
    "metrics = wf_graph_metrics\n",
    "\n",
    "print('Observation resolution:')\n",
    "print('Absolute RMSE x1: %.3e'% metrics['test_metrics']['poly_metric']['rmse'])\n",
    "print('Relative RMSE x1: %.2f %%'% metrics['test_metrics']['poly_metric']['rel_rmse'])\n",
    "print('')\n",
    "print('Super resolution:')\n",
    "print('Absolute RMSE x3: %.3e'% metrics['test_metrics']['shape_results_dict']['pix_rmse'])\n",
    "print('Relative RMSE x3: %.2f %%'% metrics['test_metrics']['shape_results_dict']['rel_pix_rmse'])\n",
    "\n"
   ]
  },
  {
   "cell_type": "markdown",
   "id": "310a3cc9",
   "metadata": {},
   "source": [
    "# WaveDiff-polygraph"
   ]
  },
  {
   "cell_type": "code",
   "execution_count": 32,
   "id": "3c0f01f7",
   "metadata": {},
   "outputs": [
    {
     "name": "stdout",
     "output_type": "stream",
     "text": [
      "Observation resolution:\n",
      "Absolute RMSE x1: 8.646e-05\n",
      "Relative RMSE x1: 1.16 %\n",
      "\n",
      "Super resolution:\n",
      "Absolute RMSE x3: 3.924e-05\n",
      "Relative RMSE x3: 2.61 %\n"
     ]
    }
   ],
   "source": [
    "# Load metrics\n",
    "metrics_2k_path = './../data/metrics/wavediff-polygraph/metrics-mccd_sample_w_2k.npy'\n",
    "wf_polygraph_metrics = np.load(metrics_2k_path, allow_pickle=True)[()]\n",
    "metrics = wf_polygraph_metrics\n",
    "\n",
    "print('Observation resolution:')\n",
    "print('Absolute RMSE x1: %.3e'% metrics['test_metrics']['poly_metric']['rmse'])\n",
    "print('Relative RMSE x1: %.2f %%'% metrics['test_metrics']['poly_metric']['rel_rmse'])\n",
    "print('')\n",
    "print('Super resolution:')\n",
    "print('Absolute RMSE x3: %.3e'% metrics['test_metrics']['shape_results_dict']['pix_rmse'])\n",
    "print('Relative RMSE x3: %.2f %%'% metrics['test_metrics']['shape_results_dict']['rel_pix_rmse'])\n",
    "\n"
   ]
  },
  {
   "cell_type": "code",
   "execution_count": null,
   "id": "fe6c4f7e",
   "metadata": {},
   "outputs": [],
   "source": []
  },
  {
   "cell_type": "code",
   "execution_count": null,
   "id": "e57e307c",
   "metadata": {},
   "outputs": [],
   "source": []
  }
 ],
 "metadata": {
  "kernelspec": {
   "display_name": "Python 3",
   "language": "python",
   "name": "python3"
  },
  "language_info": {
   "codemirror_mode": {
    "name": "ipython",
    "version": 3
   },
   "file_extension": ".py",
   "mimetype": "text/x-python",
   "name": "python",
   "nbconvert_exporter": "python",
   "pygments_lexer": "ipython3",
   "version": "3.6.12"
  },
  "varInspector": {
   "cols": {
    "lenName": 16,
    "lenType": 16,
    "lenVar": 40
   },
   "kernels_config": {
    "python": {
     "delete_cmd_postfix": "",
     "delete_cmd_prefix": "del ",
     "library": "var_list.py",
     "varRefreshCmd": "print(var_dic_list())"
    },
    "r": {
     "delete_cmd_postfix": ") ",
     "delete_cmd_prefix": "rm(",
     "library": "var_list.r",
     "varRefreshCmd": "cat(var_dic_list()) "
    }
   },
   "types_to_exclude": [
    "module",
    "function",
    "builtin_function_or_method",
    "instance",
    "_Feature"
   ],
   "window_display": false
  }
 },
 "nbformat": 4,
 "nbformat_minor": 5
}
