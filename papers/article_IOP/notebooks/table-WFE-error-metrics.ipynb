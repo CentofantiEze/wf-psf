{
 "cells": [
  {
   "cell_type": "code",
   "execution_count": 20,
   "id": "7318a1fe",
   "metadata": {},
   "outputs": [],
   "source": [
    "import numpy as np\n"
   ]
  },
  {
   "cell_type": "markdown",
   "id": "7121b21f",
   "metadata": {},
   "source": [
    "# Zernike 15"
   ]
  },
  {
   "cell_type": "code",
   "execution_count": 21,
   "id": "af5d3cc1",
   "metadata": {},
   "outputs": [
    {
     "name": "stdout",
     "output_type": "stream",
     "text": [
      "Absolute WFE RMSE: 1.851e+02 nm\n",
      "Relative WFE RMSE: 284.26 %\n"
     ]
    }
   ],
   "source": [
    "# Load metrics\n",
    "metrics_wf_inc15_2k_path = './../data/metrics/zernike_15/metrics-param_incomplete_15_sample_w_2k.npy'\n",
    "metrics_wf_inc15_2k = np.load(metrics_wf_inc15_2k_path, allow_pickle=True)[()]\n",
    "metrics = metrics_wf_inc15_2k\n",
    "\n",
    "print('Absolute WFE RMSE: %.3e nm'% (1e3*metrics['test_metrics']['opd_metric']['rmse_opd']))\n",
    "print('Relative WFE RMSE: %.2f %%'% metrics['test_metrics']['opd_metric']['rel_rmse_opd'])\n"
   ]
  },
  {
   "cell_type": "markdown",
   "id": "f5887352",
   "metadata": {},
   "source": [
    "# Zernike 40"
   ]
  },
  {
   "cell_type": "code",
   "execution_count": 22,
   "id": "be3fde3e",
   "metadata": {},
   "outputs": [
    {
     "name": "stdout",
     "output_type": "stream",
     "text": [
      "Absolute WFE RMSE: 5.276e+01 nm\n",
      "Relative WFE RMSE: 79.16 %\n"
     ]
    }
   ],
   "source": [
    "# Load metrics\n",
    "metrics_wf_inc40_2k_path = './../data/metrics/zernike_40/metrics-param_incomplete_40_sample_w_2k.npy'\n",
    "metrics_wf_inc40_2k = np.load(metrics_wf_inc40_2k_path, allow_pickle=True)[()]\n",
    "metrics = metrics_wf_inc40_2k\n",
    "\n",
    "print('Absolute WFE RMSE: %.3e nm'% (1e3*metrics['test_metrics']['opd_metric']['rmse_opd']))\n",
    "print('Relative WFE RMSE: %.2f %%'% metrics['test_metrics']['opd_metric']['rel_rmse_opd'])\n",
    "\n"
   ]
  },
  {
   "cell_type": "markdown",
   "id": "e12d5030",
   "metadata": {},
   "source": [
    "# WaveDiff-original"
   ]
  },
  {
   "cell_type": "code",
   "execution_count": 23,
   "id": "e19b6ed3",
   "metadata": {},
   "outputs": [
    {
     "name": "stdout",
     "output_type": "stream",
     "text": [
      "Absolute WFE RMSE: 1.400e+02 nm\n",
      "Relative WFE RMSE: 212.29 %\n"
     ]
    }
   ],
   "source": [
    "# Load metrics\n",
    "metrics_2k_path = './../data/metrics/wavediff-original/metrics-poly_sample_w_bis1_2k.npy'\n",
    "wf_orifinal_metrics = np.load(metrics_2k_path, allow_pickle=True)[()]\n",
    "metrics = wf_orifinal_metrics\n",
    "\n",
    "print('Absolute WFE RMSE: %.3e nm'% (1e3*metrics['test_metrics']['opd_metric']['rmse_opd']))\n",
    "print('Relative WFE RMSE: %.2f %%'% metrics['test_metrics']['opd_metric']['rel_rmse_opd'])\n"
   ]
  },
  {
   "cell_type": "markdown",
   "id": "8e5d7aad",
   "metadata": {},
   "source": [
    "# WaveDiff-graph"
   ]
  },
  {
   "cell_type": "code",
   "execution_count": 24,
   "id": "384be34e",
   "metadata": {},
   "outputs": [
    {
     "name": "stdout",
     "output_type": "stream",
     "text": [
      "Absolute WFE RMSE: 1.150e+02 nm\n",
      "Relative WFE RMSE: 171.73 %\n"
     ]
    }
   ],
   "source": [
    "# Load metrics\n",
    "metrics_2k_path = './../data/metrics/wavediff-graph/metrics-graph_sample_w_2k.npy'\n",
    "wf_graph_metrics = np.load(metrics_2k_path, allow_pickle=True)[()]\n",
    "metrics = wf_graph_metrics\n",
    "\n",
    "print('Absolute WFE RMSE: %.3e nm'% (1e3*metrics['test_metrics']['opd_metric']['rmse_opd']))\n",
    "print('Relative WFE RMSE: %.2f %%'% metrics['test_metrics']['opd_metric']['rel_rmse_opd'])\n"
   ]
  },
  {
   "cell_type": "markdown",
   "id": "60d14824",
   "metadata": {},
   "source": [
    "# WaveDiff-polygraph"
   ]
  },
  {
   "cell_type": "code",
   "execution_count": 25,
   "id": "204a012a",
   "metadata": {},
   "outputs": [
    {
     "name": "stdout",
     "output_type": "stream",
     "text": [
      "Absolute WFE RMSE: 2.704e+02 nm\n",
      "Relative WFE RMSE: 412.98 %\n"
     ]
    }
   ],
   "source": [
    "# Load metrics\n",
    "metrics_2k_path = './../data/metrics/wavediff-polygraph/metrics-mccd_sample_w_2k.npy'\n",
    "wf_polygraph_metrics = np.load(metrics_2k_path, allow_pickle=True)[()]\n",
    "metrics = wf_polygraph_metrics\n",
    "\n",
    "print('Absolute WFE RMSE: %.3e nm'% (1e3*metrics['test_metrics']['opd_metric']['rmse_opd']))\n",
    "print('Relative WFE RMSE: %.2f %%'% metrics['test_metrics']['opd_metric']['rel_rmse_opd'])\n",
    "\n"
   ]
  },
  {
   "cell_type": "code",
   "execution_count": null,
   "id": "7a7db458",
   "metadata": {},
   "outputs": [],
   "source": []
  },
  {
   "cell_type": "code",
   "execution_count": null,
   "id": "73cf9067",
   "metadata": {},
   "outputs": [],
   "source": []
  },
  {
   "cell_type": "code",
   "execution_count": null,
   "id": "14a1446c",
   "metadata": {},
   "outputs": [],
   "source": []
  },
  {
   "cell_type": "code",
   "execution_count": null,
   "id": "b4005071",
   "metadata": {},
   "outputs": [],
   "source": []
  }
 ],
 "metadata": {
  "kernelspec": {
   "display_name": "Python 3",
   "language": "python",
   "name": "python3"
  },
  "language_info": {
   "codemirror_mode": {
    "name": "ipython",
    "version": 3
   },
   "file_extension": ".py",
   "mimetype": "text/x-python",
   "name": "python",
   "nbconvert_exporter": "python",
   "pygments_lexer": "ipython3",
   "version": "3.6.12"
  },
  "varInspector": {
   "cols": {
    "lenName": 16,
    "lenType": 16,
    "lenVar": 40
   },
   "kernels_config": {
    "python": {
     "delete_cmd_postfix": "",
     "delete_cmd_prefix": "del ",
     "library": "var_list.py",
     "varRefreshCmd": "print(var_dic_list())"
    },
    "r": {
     "delete_cmd_postfix": ") ",
     "delete_cmd_prefix": "rm(",
     "library": "var_list.r",
     "varRefreshCmd": "cat(var_dic_list()) "
    }
   },
   "types_to_exclude": [
    "module",
    "function",
    "builtin_function_or_method",
    "instance",
    "_Feature"
   ],
   "window_display": false
  }
 },
 "nbformat": 4,
 "nbformat_minor": 5
}
