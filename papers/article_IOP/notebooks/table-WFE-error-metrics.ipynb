{
 "cells": [
  {
   "cell_type": "code",
   "execution_count": 1,
   "id": "b74eea0a",
   "metadata": {},
   "outputs": [],
   "source": [
    "import numpy as np\n"
   ]
  },
  {
   "cell_type": "markdown",
   "id": "44ed1270",
   "metadata": {},
   "source": [
    "# Zernike 15"
   ]
  },
  {
   "cell_type": "code",
   "execution_count": 2,
   "id": "3d149a95",
   "metadata": {},
   "outputs": [
    {
     "name": "stdout",
     "output_type": "stream",
     "text": [
      "Absolute WFE RMSE: 1.064e+02 nm\n",
      "Relative WFE RMSE: 135.53 %\n"
     ]
    }
   ],
   "source": [
    "# Load metrics\n",
    "metrics_wf_inc15_2k_path = './../data/metrics/zernike_15/metrics-param_incomplete_15_sample_w_2k.npy'\n",
    "metrics_wf_inc15_2k = np.load(metrics_wf_inc15_2k_path, allow_pickle=True)[()]\n",
    "metrics = metrics_wf_inc15_2k\n",
    "\n",
    "print('Absolute WFE RMSE: %.3e nm'% (1e3*metrics['test_metrics']['opd_metric']['rmse_opd']))\n",
    "print('Relative WFE RMSE: %.2f %%'% metrics['test_metrics']['opd_metric']['rel_rmse_opd'])\n"
   ]
  },
  {
   "cell_type": "markdown",
   "id": "7eeec55a",
   "metadata": {},
   "source": [
    "# Zernike 40"
   ]
  },
  {
   "cell_type": "code",
   "execution_count": 3,
   "id": "b15a2e36",
   "metadata": {},
   "outputs": [
    {
     "name": "stdout",
     "output_type": "stream",
     "text": [
      "Absolute WFE RMSE: 1.024e+02 nm\n",
      "Relative WFE RMSE: 130.34 %\n"
     ]
    }
   ],
   "source": [
    "# Load metrics\n",
    "metrics_wf_inc40_2k_path = './../data/metrics/zernike_40/metrics-param_incomplete_40_sample_w_bis1_2k.npy'\n",
    "metrics_wf_inc40_2k = np.load(metrics_wf_inc40_2k_path, allow_pickle=True)[()]\n",
    "metrics = metrics_wf_inc40_2k\n",
    "\n",
    "print('Absolute WFE RMSE: %.3e nm'% (1e3*metrics['test_metrics']['opd_metric']['rmse_opd']))\n",
    "print('Relative WFE RMSE: %.2f %%'% metrics['test_metrics']['opd_metric']['rel_rmse_opd'])\n",
    "\n"
   ]
  },
  {
   "cell_type": "markdown",
   "id": "cd6faff4",
   "metadata": {},
   "source": [
    "# WaveDiff-original"
   ]
  },
  {
   "cell_type": "code",
   "execution_count": 4,
   "id": "a9f05243",
   "metadata": {},
   "outputs": [
    {
     "name": "stdout",
     "output_type": "stream",
     "text": [
      "Absolute WFE RMSE: 1.010e+02 nm\n",
      "Relative WFE RMSE: 128.58 %\n"
     ]
    }
   ],
   "source": [
    "# Load metrics\n",
    "metrics_2k_path = './../data/metrics/wavediff-original/metrics-poly_sample_w_bis1_2k.npy'\n",
    "wf_orifinal_metrics = np.load(metrics_2k_path, allow_pickle=True)[()]\n",
    "metrics = wf_orifinal_metrics\n",
    "\n",
    "print('Absolute WFE RMSE: %.3e nm'% (1e3*metrics['test_metrics']['opd_metric']['rmse_opd']))\n",
    "print('Relative WFE RMSE: %.2f %%'% metrics['test_metrics']['opd_metric']['rel_rmse_opd'])\n"
   ]
  },
  {
   "cell_type": "markdown",
   "id": "d559cda6",
   "metadata": {},
   "source": [
    "# WaveDiff-graph"
   ]
  },
  {
   "cell_type": "code",
   "execution_count": 5,
   "id": "8ae83f49",
   "metadata": {},
   "outputs": [
    {
     "name": "stdout",
     "output_type": "stream",
     "text": [
      "Absolute WFE RMSE: 1.082e+02 nm\n",
      "Relative WFE RMSE: 137.97 %\n"
     ]
    }
   ],
   "source": [
    "# Load metrics\n",
    "metrics_2k_path = './../data/metrics/wavediff-graph/metrics-graph_sample_w_tunned_2k.npy'\n",
    "wf_graph_metrics = np.load(metrics_2k_path, allow_pickle=True)[()]\n",
    "metrics = wf_graph_metrics\n",
    "\n",
    "print('Absolute WFE RMSE: %.3e nm'% (1e3*metrics['test_metrics']['opd_metric']['rmse_opd']))\n",
    "print('Relative WFE RMSE: %.2f %%'% metrics['test_metrics']['opd_metric']['rel_rmse_opd'])\n"
   ]
  },
  {
   "cell_type": "markdown",
   "id": "7301f33a",
   "metadata": {},
   "source": [
    "# WaveDiff-polygraph"
   ]
  },
  {
   "cell_type": "code",
   "execution_count": 6,
   "id": "fadbe593",
   "metadata": {},
   "outputs": [
    {
     "name": "stdout",
     "output_type": "stream",
     "text": [
      "Absolute WFE RMSE: 1.113e+02 nm\n",
      "Relative WFE RMSE: 142.06 %\n"
     ]
    }
   ],
   "source": [
    "# Load metrics\n",
    "metrics_2k_path = './../data/metrics/wavediff-polygraph/metrics-mccd_sample_w_bis2_2k.npy'\n",
    "wf_polygraph_metrics = np.load(metrics_2k_path, allow_pickle=True)[()]\n",
    "metrics = wf_polygraph_metrics\n",
    "\n",
    "print('Absolute WFE RMSE: %.3e nm'% (1e3*metrics['test_metrics']['opd_metric']['rmse_opd']))\n",
    "print('Relative WFE RMSE: %.2f %%'% metrics['test_metrics']['opd_metric']['rel_rmse_opd'])\n",
    "\n"
   ]
  },
  {
   "cell_type": "code",
   "execution_count": null,
   "id": "f08ee11f",
   "metadata": {},
   "outputs": [],
   "source": []
  },
  {
   "cell_type": "code",
   "execution_count": null,
   "id": "cb644843",
   "metadata": {},
   "outputs": [],
   "source": []
  },
  {
   "cell_type": "code",
   "execution_count": null,
   "id": "4d326ac3",
   "metadata": {},
   "outputs": [],
   "source": []
  },
  {
   "cell_type": "code",
   "execution_count": null,
   "id": "eb466dd2",
   "metadata": {},
   "outputs": [],
   "source": []
  }
 ],
 "metadata": {
  "kernelspec": {
   "display_name": "Python 3",
   "language": "python",
   "name": "python3"
  },
  "language_info": {
   "codemirror_mode": {
    "name": "ipython",
    "version": 3
   },
   "file_extension": ".py",
   "mimetype": "text/x-python",
   "name": "python",
   "nbconvert_exporter": "python",
   "pygments_lexer": "ipython3",
   "version": "3.6.12"
  },
  "varInspector": {
   "cols": {
    "lenName": 16,
    "lenType": 16,
    "lenVar": 40
   },
   "kernels_config": {
    "python": {
     "delete_cmd_postfix": "",
     "delete_cmd_prefix": "del ",
     "library": "var_list.py",
     "varRefreshCmd": "print(var_dic_list())"
    },
    "r": {
     "delete_cmd_postfix": ") ",
     "delete_cmd_prefix": "rm(",
     "library": "var_list.r",
     "varRefreshCmd": "cat(var_dic_list()) "
    }
   },
   "types_to_exclude": [
    "module",
    "function",
    "builtin_function_or_method",
    "instance",
    "_Feature"
   ],
   "window_display": false
  }
 },
 "nbformat": 4,
 "nbformat_minor": 5
}
