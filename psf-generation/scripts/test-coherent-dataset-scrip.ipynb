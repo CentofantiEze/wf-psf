{
 "cells": [
  {
   "cell_type": "code",
   "execution_count": 1,
   "id": "3f5b7da7",
   "metadata": {},
   "outputs": [],
   "source": [
    "\n",
    "import numpy as np\n",
    "import matplotlib.pyplot as plt\n",
    "import wf_psf\n",
    "from tqdm import tqdm\n"
   ]
  },
  {
   "cell_type": "code",
   "execution_count": 3,
   "id": "935c1131",
   "metadata": {},
   "outputs": [
    {
     "name": "stderr",
     "output_type": "stream",
     "text": [
      "100%|██████████| 60/60 [01:23<00:00,  1.39s/it]\n"
     ]
    }
   ],
   "source": [
    "\n",
    "# Paths\n",
    "\n",
    "# SED folder path\n",
    "SED_path = '/Users/tliaudat/Documents/PhD/codes/WF_PSF/notebooks/explore_SEDs/save_SEDs/'\n",
    "# SED_path = '/local/home/tliaudat/data/'\n",
    "\n",
    "# Output saving path\n",
    "output_folder = '/Users/tliaudat/Documents/PhD/codes/WF_PSF/github/wf-psf/psf-generation/scripts/output/'\n",
    "# output_folder = '/local/home/tliaudat/psf-datasets/'\n",
    "\n",
    "\n",
    "# Dataset ID\n",
    "dataset_id = 1\n",
    "dataset_id_str = '%03d'%(dataset_id)\n",
    "\n",
    "\n",
    "# This list must be in order from bigger to smaller\n",
    "# n_star_list = [2000, 1000, 500, 200]\n",
    "# n_test_stars = 400  # 20% of the max test stars\n",
    "\n",
    "n_star_list = [50, 40, 30, 20]\n",
    "n_test_stars = 10  # 20% of the max test stars\n",
    "\n",
    "\n",
    "\n",
    "# Parameters\n",
    "d_max = 2\n",
    "max_order = 45\n",
    "x_lims = [0, 1e3]\n",
    "y_lims = [0, 1e3]\n",
    "grid_points = [4, 4]\n",
    "n_bins = 20\n",
    "verbose = True\n",
    "\n",
    "oversampling_rate = 3.\n",
    "output_Q = 3.\n",
    "\n",
    "max_wfe_rms = 0.1\n",
    "output_dim = 32\n",
    "LP_filter_length = 2\n",
    "euclid_obsc = True\n",
    "pupil_diameter = 256\n",
    "\n",
    "\n",
    "\n",
    "\n",
    "# Generate Zernike maps\n",
    "zernikes = wf_psf.utils.zernike_generator(n_zernikes=max_order, wfe_dim=pupil_diameter)\n",
    "\n",
    "# Initialize PSF simulator\n",
    "sim_PSF_toolkit = wf_psf.SimPSFToolkit(\n",
    "    zernikes, max_order=max_order, max_wfe_rms=max_wfe_rms, oversampling_rate=oversampling_rate,\n",
    "    output_Q=output_Q, output_dim=output_dim, pupil_diameter=pupil_diameter, euclid_obsc=euclid_obsc,\n",
    "    LP_filter_length=LP_filter_length)\n",
    "\n",
    "# Initialize PSF field\n",
    "gen_poly_fieldPSF = wf_psf.GenPolyFieldPSF(sim_PSF_toolkit, d_max=d_max,\n",
    "                                    grid_points=grid_points, max_order=max_order,\n",
    "                                    x_lims=x_lims, y_lims=y_lims, n_bins=n_bins,\n",
    "                                    lim_max_wfe_rms=max_wfe_rms, verbose=verbose)\n",
    "\n",
    "\n",
    "\n",
    "# Load the SEDs\n",
    "stellar_SEDs = np.load(SED_path + 'SEDs.npy', allow_pickle=True)\n",
    "stellar_lambdas = np.load(SED_path + 'lambdas.npy', allow_pickle=True)\n",
    "\n",
    "\n",
    "\n",
    "# Total stars\n",
    "n_stars = n_star_list[0] + n_test_stars\n",
    "# Max train stars\n",
    "tot_train_stars = n_star_list[0]\n",
    "\n",
    "# Generate all the stars and then go saving different subsets\n",
    "\n",
    "\n",
    "\n",
    "# Select random SEDs\n",
    "SED_list = []\n",
    "for it in range(n_stars):\n",
    "    selected_id_SED = np.random.randint(low=0, high=13)\n",
    "    concat_SED_wv = np.concatenate((stellar_lambdas.reshape(-1,1),\n",
    "                                    stellar_SEDs[selected_id_SED,:].reshape(-1,1)), axis=1)\n",
    "    SED_list.append(concat_SED_wv)\n",
    "\n",
    "    \n",
    "\n",
    "# First we choose the locations (randomly)\n",
    "pos_np = np.random.rand(n_stars, 2)\n",
    "\n",
    "pos_np[:,0] = pos_np[:,0]*(x_lims[1] - x_lims[0]) + x_lims[0]\n",
    "pos_np[:,1] = pos_np[:,1]*(y_lims[1] - y_lims[0]) + y_lims[0]    \n",
    "    \n",
    "    \n",
    "    \n",
    "# Generate all the polychromatic PSFs\n",
    "poly_psf_list = []\n",
    "zernike_coef_list = []\n",
    "\n",
    "for it in tqdm(range(n_stars)):\n",
    "    _psf, _zernike, _ = gen_poly_fieldPSF.get_poly_PSF(xv_flat=pos_np[it, 0],\n",
    "                                                       yv_flat=pos_np[it, 1],\n",
    "                                                       SED=SED_list[it])\n",
    "\n",
    "    poly_psf_list.append(_psf)\n",
    "    zernike_coef_list.append(_zernike)   \n",
    "\n",
    "    \n",
    "    \n",
    "# Generate numpy arrays from the lists\n",
    "poly_psf_np = np.array(poly_psf_list)\n",
    "zernike_coef_np = np.array(zernike_coef_list)\n",
    "SED_np = np.array(SED_list)\n",
    "    \n",
    "    \n",
    "# Generate the noisy train stars\n",
    "\n",
    "# Copy the training stars\n",
    "noisy_train_stars = np.copy(poly_psf_np[:tot_train_stars, :, :])\n",
    "# Generate a dataset with a SNR varying randomly from 10 to 120\n",
    "rand_SNR = (np.random.rand(noisy_train_stars.shape[0]) * 100) + 10\n",
    "# Add Gaussian noise to the observations\n",
    "noisy_train_stars = np.stack([wf_psf.utils.add_noise(_im, desired_SNR=_SNR) \n",
    "                              for _im, _SNR in zip(noisy_train_stars, rand_SNR)], axis=0)\n",
    "\n",
    "\n",
    "\n",
    "# Save only one test dataset\n",
    "\n",
    "# Build param dicitionary\n",
    "dataset_params = {'d_max':d_max, 'max_order':max_order, 'x_lims':x_lims, 'y_lims':y_lims,\n",
    "                 'grid_points':grid_points, 'n_bins':n_bins, 'max_wfe_rms':max_wfe_rms,\n",
    "                 'oversampling_rate':oversampling_rate, 'output_Q':output_Q,\n",
    "                 'output_dim':output_dim, 'LP_filter_length':LP_filter_length,\n",
    "                 'pupil_diameter':pupil_diameter, 'euclid_obsc':euclid_obsc,\n",
    "                 'n_stars':n_test_stars}\n",
    "\n",
    "# Save dataset C coefficient matrix (reproductible dataset)\n",
    "C_poly = gen_poly_fieldPSF.C_poly\n",
    "\n",
    "test_psf_dataset = {'stars' : poly_psf_np[tot_train_stars:, :, :],\n",
    "                     'positions' : pos_np[tot_train_stars:, :],\n",
    "                     'SEDs' : SED_np[tot_train_stars:, :, :],\n",
    "                     'zernike_coef' : zernike_coef_np[tot_train_stars:, :, :],\n",
    "                     'C_poly' : C_poly,\n",
    "                     'parameters': dataset_params}\n",
    "\n",
    "np.save(output_folder + 'test_Euclid_res_id_' + dataset_id_str + '.npy',\n",
    "        test_psf_dataset, allow_pickle=True)\n",
    "\n",
    "\n",
    "\n",
    "# Save the different train datasets\n",
    "\n",
    "\n",
    "for it_glob in range(len(n_star_list)):\n",
    "\n",
    "    n_train_stars = n_star_list[it_glob]\n",
    "\n",
    "    # Build param dicitionary\n",
    "    dataset_params = {'d_max':d_max, 'max_order':max_order, 'x_lims':x_lims, 'y_lims':y_lims,\n",
    "                     'grid_points':grid_points, 'n_bins':n_bins, 'max_wfe_rms':max_wfe_rms,\n",
    "                     'oversampling_rate':oversampling_rate, 'output_Q':output_Q,\n",
    "                     'output_dim':output_dim, 'LP_filter_length':LP_filter_length,\n",
    "                     'pupil_diameter':pupil_diameter, 'euclid_obsc':euclid_obsc,\n",
    "                     'n_stars':n_train_stars}\n",
    "    \n",
    "    train_psf_dataset = {'stars' : poly_psf_np[:n_train_stars, :, :],\n",
    "                     'noisy_stars': noisy_train_stars[:n_train_stars, :, :],\n",
    "                     'positions' : pos_np[:n_train_stars, :],\n",
    "                     'SEDs' : SED_np[:n_train_stars, :, :],\n",
    "                     'zernike_coef' : zernike_coef_np[:n_train_stars, :, :],\n",
    "                     'C_poly' : C_poly,\n",
    "                     'parameters': dataset_params}\n",
    "    \n",
    "\n",
    "    np.save(output_folder + 'train_Euclid_res_' + str(n_train_stars) + '_TrainStars_id_' + dataset_id_str + '.npy',\n",
    "            train_psf_dataset, allow_pickle=True)\n",
    "\n",
    "\n",
    "    "
   ]
  },
  {
   "cell_type": "code",
   "execution_count": null,
   "id": "14f06d71",
   "metadata": {},
   "outputs": [],
   "source": []
  },
  {
   "cell_type": "code",
   "execution_count": 18,
   "id": "0af1b926",
   "metadata": {},
   "outputs": [],
   "source": [
    "path = '/Users/tliaudat/Documents/PhD/codes/WF_PSF/github/wf-psf/psf-generation/scripts/output/'\n",
    "\n",
    "dataset = np.load(path + 'train_Euclid_res_20_TrainStars_id_001.npy', allow_pickle=True)[()]\n"
   ]
  },
  {
   "cell_type": "code",
   "execution_count": 19,
   "id": "f15d1d3b",
   "metadata": {
    "scrolled": false
   },
   "outputs": [
    {
     "data": {
      "text/plain": [
       "(20, 32, 32)"
      ]
     },
     "execution_count": 19,
     "metadata": {},
     "output_type": "execute_result"
    }
   ],
   "source": [
    "dataset['noisy_stars'].shape"
   ]
  },
  {
   "cell_type": "code",
   "execution_count": 20,
   "id": "b31bf2ef",
   "metadata": {},
   "outputs": [],
   "source": [
    "dataset2 = np.load(path + 'train_Euclid_res_30_TrainStars_id_001.npy', allow_pickle=True)[()]\n",
    "\n"
   ]
  },
  {
   "cell_type": "code",
   "execution_count": 21,
   "id": "167e004f",
   "metadata": {},
   "outputs": [
    {
     "data": {
      "text/plain": [
       "0.0"
      ]
     },
     "execution_count": 21,
     "metadata": {},
     "output_type": "execute_result"
    }
   ],
   "source": [
    "\n",
    "np.sum(dataset['noisy_stars'] - dataset2['noisy_stars'][0:20,:,:])\n"
   ]
  },
  {
   "cell_type": "code",
   "execution_count": null,
   "id": "40994301",
   "metadata": {},
   "outputs": [],
   "source": []
  },
  {
   "cell_type": "code",
   "execution_count": null,
   "id": "d8ecf14a",
   "metadata": {},
   "outputs": [],
   "source": []
  },
  {
   "cell_type": "code",
   "execution_count": null,
   "id": "9b50a56e",
   "metadata": {},
   "outputs": [],
   "source": []
  },
  {
   "cell_type": "code",
   "execution_count": null,
   "id": "f6ab25dd",
   "metadata": {},
   "outputs": [],
   "source": []
  }
 ],
 "metadata": {
  "kernelspec": {
   "display_name": "Python 3",
   "language": "python",
   "name": "python3"
  },
  "language_info": {
   "codemirror_mode": {
    "name": "ipython",
    "version": 3
   },
   "file_extension": ".py",
   "mimetype": "text/x-python",
   "name": "python",
   "nbconvert_exporter": "python",
   "pygments_lexer": "ipython3",
   "version": "3.6.12"
  },
  "varInspector": {
   "cols": {
    "lenName": 16,
    "lenType": 16,
    "lenVar": 40
   },
   "kernels_config": {
    "python": {
     "delete_cmd_postfix": "",
     "delete_cmd_prefix": "del ",
     "library": "var_list.py",
     "varRefreshCmd": "print(var_dic_list())"
    },
    "r": {
     "delete_cmd_postfix": ") ",
     "delete_cmd_prefix": "rm(",
     "library": "var_list.r",
     "varRefreshCmd": "cat(var_dic_list()) "
    }
   },
   "types_to_exclude": [
    "module",
    "function",
    "builtin_function_or_method",
    "instance",
    "_Feature"
   ],
   "window_display": false
  }
 },
 "nbformat": 4,
 "nbformat_minor": 5
}
