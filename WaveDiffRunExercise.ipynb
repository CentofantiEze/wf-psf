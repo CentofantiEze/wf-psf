{
  "nbformat": 4,
  "nbformat_minor": 0,
  "metadata": {
    "colab": {
      "provenance": [],
      "authorship_tag": "ABX9TyMpDRivHREbVDw1AoHjda/R",
      "include_colab_link": true
    },
    "kernelspec": {
      "name": "python3",
      "display_name": "Python 3"
    },
    "language_info": {
      "name": "python"
    },
    "gpuClass": "standard"
  },
  "cells": [
    {
      "cell_type": "markdown",
      "metadata": {
        "id": "view-in-github",
        "colab_type": "text"
      },
      "source": [
        "<a href=\"https://colab.research.google.com/github/CosmoStat/wf-psf/blob/Refactor-psf-models/WaveDiffRunExercise.ipynb\" target=\"_parent\"><img src=\"https://colab.research.google.com/assets/colab-badge.svg\" alt=\"Open In Colab\"/></a>"
      ]
    },
    {
      "cell_type": "code",
      "execution_count": 1,
      "metadata": {
        "colab": {
          "base_uri": "https://localhost:8080/"
        },
        "id": "MFFP117dBZE7",
        "outputId": "9a2b622e-5bab-490e-a89b-513c73cf9753"
      },
      "outputs": [
        {
          "output_type": "stream",
          "name": "stdout",
          "text": [
            "Mounted at /content/drive\n"
          ]
        }
      ],
      "source": [
        "from google.colab import drive\n",
        "drive.mount('/content/drive')"
      ]
    },
    {
      "cell_type": "code",
      "source": [
        "%cd /content/drive/MyDrive/Github/wf-psf"
      ],
      "metadata": {
        "colab": {
          "base_uri": "https://localhost:8080/"
        },
        "id": "bHUm5GfvBmKH",
        "outputId": "f37d6953-2bf6-4c8b-9666-bb363a2418b8"
      },
      "execution_count": 2,
      "outputs": [
        {
          "output_type": "stream",
          "name": "stdout",
          "text": [
            "/content/drive/MyDrive/Github/wf-psf\n"
          ]
        }
      ]
    },
    {
      "cell_type": "code",
      "source": [
        "!git status"
      ],
      "metadata": {
        "colab": {
          "base_uri": "https://localhost:8080/"
        },
        "id": "7Su1MAOA2rAz",
        "outputId": "84f2956a-af62-406e-98e9-f829071bb67c"
      },
      "execution_count": 3,
      "outputs": [
        {
          "output_type": "stream",
          "name": "stdout",
          "text": [
            "Refresh index: 100% (397/397), done.\n",
            "On branch Refactor-psf-models\n",
            "Your branch is up to date with 'origin/Refactor-psf-models'.\n",
            "\n",
            "Changes not staged for commit:\n",
            "  (use \"git add <file>...\" to update what will be committed)\n",
            "  (use \"git restore <file>...\" to discard changes in working directory)\n",
            "\t\u001b[31mmodified:   data/SEDs/Pickles_input/J_PASP_110_863_a0v.dat.gz.fits\u001b[m\n",
            "\t\u001b[31mmodified:   data/SEDs/Pickles_input/J_PASP_110_863_a5iii.dat.gz.fits\u001b[m\n",
            "\t\u001b[31mmodified:   data/SEDs/Pickles_input/J_PASP_110_863_a5v.dat.gz.fits\u001b[m\n",
            "\t\u001b[31mmodified:   data/SEDs/Pickles_input/J_PASP_110_863_b0v.dat.gz.fits\u001b[m\n",
            "\t\u001b[31mmodified:   data/SEDs/Pickles_input/J_PASP_110_863_b57v.dat.gz.fits\u001b[m\n",
            "\t\u001b[31mmodified:   data/SEDs/Pickles_input/J_PASP_110_863_b5ii.dat.gz.fits\u001b[m\n",
            "\t\u001b[31mmodified:   data/SEDs/Pickles_input/J_PASP_110_863_b5iii.dat.gz.fits\u001b[m\n",
            "\t\u001b[31mmodified:   data/SEDs/Pickles_input/J_PASP_110_863_f0v.dat.gz.fits\u001b[m\n",
            "\t\u001b[31mmodified:   data/SEDs/Pickles_input/J_PASP_110_863_f5i.dat.gz.fits\u001b[m\n",
            "\t\u001b[31mmodified:   data/SEDs/Pickles_input/J_PASP_110_863_f5iii.dat.gz.fits\u001b[m\n",
            "\t\u001b[31mmodified:   data/SEDs/Pickles_input/J_PASP_110_863_f5iv.dat.gz.fits\u001b[m\n",
            "\t\u001b[31mmodified:   data/SEDs/Pickles_input/J_PASP_110_863_f5v.dat.gz.fits\u001b[m\n",
            "\t\u001b[31mmodified:   data/SEDs/Pickles_input/J_PASP_110_863_g0v.dat.gz.fits\u001b[m\n",
            "\t\u001b[31mmodified:   data/SEDs/Pickles_input/J_PASP_110_863_g5v.dat.gz.fits\u001b[m\n",
            "\t\u001b[31mmodified:   data/SEDs/Pickles_input/J_PASP_110_863_k0v.dat.gz.fits\u001b[m\n",
            "\t\u001b[31mmodified:   data/SEDs/Pickles_input/J_PASP_110_863_k5v.dat.gz.fits\u001b[m\n",
            "\t\u001b[31mmodified:   data/SEDs/Pickles_input/J_PASP_110_863_m0v.dat.gz.fits\u001b[m\n",
            "\t\u001b[31mmodified:   data/SEDs/Pickles_input/J_PASP_110_863_m5v.dat.gz.fits\u001b[m\n",
            "\t\u001b[31mmodified:   data/SEDs/Pickles_input/J_PASP_110_863_o5v.dat.gz.fits\u001b[m\n",
            "\t\u001b[31mmodified:   method-comparison/jobs/mccd_SR_job_id08.sh\u001b[m\n",
            "\t\u001b[31mmodified:   method-comparison/jobs/mccd_SR_job_id08_test.sh\u001b[m\n",
            "\t\u001b[31mmodified:   method-comparison/jobs/mccd_SR_job_id09.sh\u001b[m\n",
            "\t\u001b[31mmodified:   method-comparison/jobs/mccd_SR_job_id10.sh\u001b[m\n",
            "\t\u001b[31mmodified:   method-comparison/jobs/mccd_data_gen_candide.sh\u001b[m\n",
            "\t\u001b[31mmodified:   method-comparison/jobs/mccd_data_gen_local.sh\u001b[m\n",
            "\t\u001b[31mmodified:   method-comparison/jobs/mccd_data_gen_shifts_candide.sh\u001b[m\n",
            "\t\u001b[31mmodified:   method-comparison/jobs/mccd_job.sh\u001b[m\n",
            "\t\u001b[31mmodified:   method-comparison/jobs/mccd_job_id01.sh\u001b[m\n",
            "\t\u001b[31mmodified:   method-comparison/jobs/mccd_job_id02.sh\u001b[m\n",
            "\t\u001b[31mmodified:   method-comparison/jobs/mccd_job_id03.sh\u001b[m\n",
            "\t\u001b[31mmodified:   method-comparison/jobs/mccd_job_id04.sh\u001b[m\n",
            "\t\u001b[31mmodified:   method-comparison/jobs/mccd_job_id05.sh\u001b[m\n",
            "\t\u001b[31mmodified:   method-comparison/jobs/mccd_job_id06.sh\u001b[m\n",
            "\t\u001b[31mmodified:   method-comparison/jobs/mccd_job_id07.sh\u001b[m\n",
            "\t\u001b[31mmodified:   method-comparison/jobs/psfex_SR_run_d2_candide.sh\u001b[m\n",
            "\t\u001b[31mmodified:   method-comparison/jobs/psfex_SR_run_d3_candide.sh\u001b[m\n",
            "\t\u001b[31mmodified:   method-comparison/jobs/psfex_data_gen_candide.sh\u001b[m\n",
            "\t\u001b[31mmodified:   method-comparison/jobs/psfex_data_gen_local.sh\u001b[m\n",
            "\t\u001b[31mmodified:   method-comparison/jobs/psfex_data_gen_shifts_candide.sh\u001b[m\n",
            "\t\u001b[31mmodified:   method-comparison/jobs/psfex_run_candide.sh\u001b[m\n",
            "\t\u001b[31mmodified:   method-comparison/jobs/psfex_run_d3_candide.sh\u001b[m\n",
            "\t\u001b[31mmodified:   method-comparison/jobs/psfex_run_d4_candide.sh\u001b[m\n",
            "\t\u001b[31mmodified:   method-comparison/jobs/rca_SR_job.sh\u001b[m\n",
            "\t\u001b[31mmodified:   method-comparison/jobs/rca_SR_job_n4.sh\u001b[m\n",
            "\t\u001b[31mmodified:   method-comparison/jobs/rca_data_gen_candide.sh\u001b[m\n",
            "\t\u001b[31mmodified:   method-comparison/jobs/rca_data_gen_local.sh\u001b[m\n",
            "\t\u001b[31mmodified:   method-comparison/jobs/rca_data_gen_shifts_candide.sh\u001b[m\n",
            "\t\u001b[31mmodified:   method-comparison/jobs/rca_job_n12.sh\u001b[m\n",
            "\t\u001b[31mmodified:   method-comparison/jobs/rca_job_n16.sh\u001b[m\n",
            "\t\u001b[31mmodified:   method-comparison/jobs/rca_job_n4.sh\u001b[m\n",
            "\t\u001b[31mmodified:   method-comparison/jobs/rca_job_n4_up1_k0.sh\u001b[m\n",
            "\t\u001b[31mmodified:   method-comparison/jobs/rca_job_n4_up1_k1.sh\u001b[m\n",
            "\t\u001b[31mmodified:   method-comparison/jobs/rca_job_n4_up2.sh\u001b[m\n",
            "\t\u001b[31mmodified:   method-comparison/jobs/rca_job_n4_up3.sh\u001b[m\n",
            "\t\u001b[31mmodified:   method-comparison/jobs/rca_job_n8.sh\u001b[m\n",
            "\t\u001b[31mmodified:   method-comparison/jobs/test_rca_job.sh\u001b[m\n",
            "\t\u001b[31mmodified:   method-comparison/jobs/test_rca_job_n8.sh\u001b[m\n",
            "\t\u001b[31mmodified:   papers/Neurips2021_ML4Physics_workshop/scripts/psfex_SR_run_d3_candide.sh\u001b[m\n",
            "\t\u001b[31mmodified:   papers/Neurips2021_ML4Physics_workshop/scripts/psfex_run_d3_candide.sh\u001b[m\n",
            "\t\u001b[31mmodified:   papers/Neurips2021_ML4Physics_workshop/scripts/rca_SR_job_n4.sh\u001b[m\n",
            "\t\u001b[31mmodified:   papers/Neurips2021_ML4Physics_workshop/scripts/rca_job_n4.sh\u001b[m\n",
            "\t\u001b[31mmodified:   papers/article_IOP/figures/AllModels_PixRMSE_vs_NbStars_WF_SOTA.pdf\u001b[m\n",
            "\t\u001b[31mmodified:   papers/article_IOP/figures/AllModels_relative_PixRMSE_vs_NbStars_WF_SOTA.pdf\u001b[m\n",
            "\t\u001b[31mmodified:   papers/article_IOP/figures/SR_AllModels_relative_PixRMSE_vs_NbStars_WF_SOTA.pdf\u001b[m\n",
            "\t\u001b[31mmodified:   papers/article_IOP/jobs/mccd_SR_job_id10.sh\u001b[m\n",
            "\t\u001b[31mmodified:   papers/article_IOP/jobs/mccd_job_id06.sh\u001b[m\n",
            "\t\u001b[31mmodified:   papers/article_IOP/jobs/psfex_SR_run_d3_candide.sh\u001b[m\n",
            "\t\u001b[31mmodified:   papers/article_IOP/jobs/psfex_run_d3_candide.sh\u001b[m\n",
            "\t\u001b[31mmodified:   papers/article_IOP/jobs/rca_SR_job_n4.sh\u001b[m\n",
            "\t\u001b[31mmodified:   papers/article_IOP/jobs/rca_job_n4.sh\u001b[m\n",
            "\n",
            "no changes added to commit (use \"git add\" and/or \"git commit -a\")\n"
          ]
        }
      ]
    },
    {
      "cell_type": "code",
      "source": [
        "!cd .. && ls"
      ],
      "metadata": {
        "colab": {
          "base_uri": "https://localhost:8080/"
        },
        "id": "5_nQ-f1wgQV2",
        "outputId": "eea19d34-435f-4ef0-cadb-84a8b45e5a9a"
      },
      "execution_count": 4,
      "outputs": [
        {
          "output_type": "stream",
          "name": "stdout",
          "text": [
            "wf-outputs  wf-psf\n"
          ]
        }
      ]
    },
    {
      "cell_type": "code",
      "source": [
        "!git pull origin"
      ],
      "metadata": {
        "colab": {
          "base_uri": "https://localhost:8080/"
        },
        "id": "dPV_3nWFZmUP",
        "outputId": "a2adcdea-d428-4af6-a91d-5f8563b37062"
      },
      "execution_count": 5,
      "outputs": [
        {
          "output_type": "stream",
          "name": "stdout",
          "text": [
            "remote: Enumerating objects: 54, done.\u001b[K\n",
            "remote: Counting objects:   1% (1/54)\u001b[K\rremote: Counting objects:   3% (2/54)\u001b[K\rremote: Counting objects:   5% (3/54)\u001b[K\rremote: Counting objects:   7% (4/54)\u001b[K\rremote: Counting objects:   9% (5/54)\u001b[K\rremote: Counting objects:  11% (6/54)\u001b[K\rremote: Counting objects:  12% (7/54)\u001b[K\rremote: Counting objects:  14% (8/54)\u001b[K\rremote: Counting objects:  16% (9/54)\u001b[K\rremote: Counting objects:  18% (10/54)\u001b[K\rremote: Counting objects:  20% (11/54)\u001b[K\rremote: Counting objects:  22% (12/54)\u001b[K\rremote: Counting objects:  24% (13/54)\u001b[K\rremote: Counting objects:  25% (14/54)\u001b[K\rremote: Counting objects:  27% (15/54)\u001b[K\rremote: Counting objects:  29% (16/54)\u001b[K\rremote: Counting objects:  31% (17/54)\u001b[K\rremote: Counting objects:  33% (18/54)\u001b[K\rremote: Counting objects:  35% (19/54)\u001b[K\rremote: Counting objects:  37% (20/54)\u001b[K\rremote: Counting objects:  38% (21/54)\u001b[K\rremote: Counting objects:  40% (22/54)\u001b[K\rremote: Counting objects:  42% (23/54)\u001b[K\rremote: Counting objects:  44% (24/54)\u001b[K\rremote: Counting objects:  46% (25/54)\u001b[K\rremote: Counting objects:  48% (26/54)\u001b[K\rremote: Counting objects:  50% (27/54)\u001b[K\rremote: Counting objects:  51% (28/54)\u001b[K\rremote: Counting objects:  53% (29/54)\u001b[K\rremote: Counting objects:  55% (30/54)\u001b[K\rremote: Counting objects:  57% (31/54)\u001b[K\rremote: Counting objects:  59% (32/54)\u001b[K\rremote: Counting objects:  61% (33/54)\u001b[K\rremote: Counting objects:  62% (34/54)\u001b[K\rremote: Counting objects:  64% (35/54)\u001b[K\rremote: Counting objects:  66% (36/54)\u001b[K\rremote: Counting objects:  68% (37/54)\u001b[K\rremote: Counting objects:  70% (38/54)\u001b[K\rremote: Counting objects:  72% (39/54)\u001b[K\rremote: Counting objects:  74% (40/54)\u001b[K\rremote: Counting objects:  75% (41/54)\u001b[K\rremote: Counting objects:  77% (42/54)\u001b[K\rremote: Counting objects:  79% (43/54)\u001b[K\rremote: Counting objects:  81% (44/54)\u001b[K\rremote: Counting objects:  83% (45/54)\u001b[K\rremote: Counting objects:  85% (46/54)\u001b[K\rremote: Counting objects:  87% (47/54)\u001b[K\rremote: Counting objects:  88% (48/54)\u001b[K\rremote: Counting objects:  90% (49/54)\u001b[K\rremote: Counting objects:  92% (50/54)\u001b[K\rremote: Counting objects:  94% (51/54)\u001b[K\rremote: Counting objects:  96% (52/54)\u001b[K\rremote: Counting objects:  98% (53/54)\u001b[K\rremote: Counting objects: 100% (54/54)\u001b[K\rremote: Counting objects: 100% (54/54), done.\u001b[K\n",
            "remote: Compressing objects:   3% (1/28)\u001b[K\rremote: Compressing objects:   7% (2/28)\u001b[K\rremote: Compressing objects:  10% (3/28)\u001b[K\rremote: Compressing objects:  14% (4/28)\u001b[K\rremote: Compressing objects:  17% (5/28)\u001b[K\rremote: Compressing objects:  21% (6/28)\u001b[K\rremote: Compressing objects:  25% (7/28)\u001b[K\rremote: Compressing objects:  28% (8/28)\u001b[K\rremote: Compressing objects:  32% (9/28)\u001b[K\rremote: Compressing objects:  35% (10/28)\u001b[K\rremote: Compressing objects:  39% (11/28)\u001b[K\rremote: Compressing objects:  42% (12/28)\u001b[K\rremote: Compressing objects:  46% (13/28)\u001b[K\rremote: Compressing objects:  50% (14/28)\u001b[K\rremote: Compressing objects:  53% (15/28)\u001b[K\rremote: Compressing objects:  57% (16/28)\u001b[K\rremote: Compressing objects:  60% (17/28)\u001b[K\rremote: Compressing objects:  64% (18/28)\u001b[K\rremote: Compressing objects:  67% (19/28)\u001b[K\rremote: Compressing objects:  71% (20/28)\u001b[K\rremote: Compressing objects:  75% (21/28)\u001b[K\rremote: Compressing objects:  78% (22/28)\u001b[K\rremote: Compressing objects:  82% (23/28)\u001b[K\rremote: Compressing objects:  85% (24/28)\u001b[K\rremote: Compressing objects:  89% (25/28)\u001b[K\rremote: Compressing objects:  92% (26/28)\u001b[K\rremote: Compressing objects:  96% (27/28)\u001b[K\rremote: Compressing objects: 100% (28/28)\u001b[K\rremote: Compressing objects: 100% (28/28), done.\u001b[K\n",
            "remote: Total 42 (delta 33), reused 21 (delta 14), pack-reused 0\u001b[K\n",
            "Unpacking objects: 100% (42/42), 5.73 KiB | 2.00 KiB/s, done.\n",
            "From https://github.com/CosmoStat/wf-psf\n",
            "   5c927e7..14009d6  Refactor-psf-models -> origin/Refactor-psf-models\n",
            "Updating 5c927e7..14009d6\n",
            "Fast-forward\n",
            " README.md                                     |  27 \u001b[32m++\u001b[m\u001b[31m--\u001b[m\n",
            " config/training_config.yaml                   |  44 \u001b[32m+++\u001b[m\u001b[31m---\u001b[m\n",
            " wf_psf/data/training_preprocessing.py         |   2 \u001b[32m+\u001b[m\u001b[31m-\u001b[m\n",
            " wf_psf/psf_models/psf_model_semiparametric.py |  63 \u001b[32m++++\u001b[m\u001b[31m----\u001b[m\n",
            " wf_psf/run.py                                 |   5 \u001b[32m+\u001b[m\u001b[31m-\u001b[m\n",
            " wf_psf/training/train.py                      | 199 \u001b[32m+++++++++++++++++++\u001b[m\u001b[31m-------\u001b[m\n",
            " 6 files changed, 226 insertions(+), 114 deletions(-)\n"
          ]
        }
      ]
    },
    {
      "cell_type": "code",
      "source": [
        "!git checkout Refactor-psf-models"
      ],
      "metadata": {
        "colab": {
          "base_uri": "https://localhost:8080/"
        },
        "id": "F4sZQS-kae8t",
        "outputId": "516bc575-2e90-4e4e-a06c-f4830f15fbca"
      },
      "execution_count": null,
      "outputs": [
        {
          "output_type": "stream",
          "name": "stdout",
          "text": [
            "M\tdata/SEDs/Pickles_input/J_PASP_110_863_a0v.dat.gz.fits\n",
            "M\tdata/SEDs/Pickles_input/J_PASP_110_863_a5iii.dat.gz.fits\n",
            "M\tdata/SEDs/Pickles_input/J_PASP_110_863_a5v.dat.gz.fits\n",
            "M\tdata/SEDs/Pickles_input/J_PASP_110_863_b0v.dat.gz.fits\n",
            "M\tdata/SEDs/Pickles_input/J_PASP_110_863_b57v.dat.gz.fits\n",
            "M\tdata/SEDs/Pickles_input/J_PASP_110_863_b5ii.dat.gz.fits\n",
            "M\tdata/SEDs/Pickles_input/J_PASP_110_863_b5iii.dat.gz.fits\n",
            "M\tdata/SEDs/Pickles_input/J_PASP_110_863_f0v.dat.gz.fits\n",
            "M\tdata/SEDs/Pickles_input/J_PASP_110_863_f5i.dat.gz.fits\n",
            "M\tdata/SEDs/Pickles_input/J_PASP_110_863_f5iii.dat.gz.fits\n",
            "M\tdata/SEDs/Pickles_input/J_PASP_110_863_f5iv.dat.gz.fits\n",
            "M\tdata/SEDs/Pickles_input/J_PASP_110_863_f5v.dat.gz.fits\n",
            "M\tdata/SEDs/Pickles_input/J_PASP_110_863_g0v.dat.gz.fits\n",
            "M\tdata/SEDs/Pickles_input/J_PASP_110_863_g5v.dat.gz.fits\n",
            "M\tdata/SEDs/Pickles_input/J_PASP_110_863_k0v.dat.gz.fits\n",
            "M\tdata/SEDs/Pickles_input/J_PASP_110_863_k5v.dat.gz.fits\n",
            "M\tdata/SEDs/Pickles_input/J_PASP_110_863_m0v.dat.gz.fits\n",
            "M\tdata/SEDs/Pickles_input/J_PASP_110_863_m5v.dat.gz.fits\n",
            "M\tdata/SEDs/Pickles_input/J_PASP_110_863_o5v.dat.gz.fits\n",
            "M\tmethod-comparison/jobs/mccd_SR_job_id08.sh\n",
            "M\tmethod-comparison/jobs/mccd_SR_job_id08_test.sh\n",
            "M\tmethod-comparison/jobs/mccd_SR_job_id09.sh\n",
            "M\tmethod-comparison/jobs/mccd_SR_job_id10.sh\n",
            "M\tmethod-comparison/jobs/mccd_data_gen_candide.sh\n",
            "M\tmethod-comparison/jobs/mccd_data_gen_local.sh\n",
            "M\tmethod-comparison/jobs/mccd_data_gen_shifts_candide.sh\n",
            "M\tmethod-comparison/jobs/mccd_job.sh\n",
            "M\tmethod-comparison/jobs/mccd_job_id01.sh\n",
            "M\tmethod-comparison/jobs/mccd_job_id02.sh\n",
            "M\tmethod-comparison/jobs/mccd_job_id03.sh\n",
            "M\tmethod-comparison/jobs/mccd_job_id04.sh\n",
            "M\tmethod-comparison/jobs/mccd_job_id05.sh\n",
            "M\tmethod-comparison/jobs/mccd_job_id06.sh\n",
            "M\tmethod-comparison/jobs/mccd_job_id07.sh\n",
            "M\tmethod-comparison/jobs/psfex_SR_run_d2_candide.sh\n",
            "M\tmethod-comparison/jobs/psfex_SR_run_d3_candide.sh\n",
            "M\tmethod-comparison/jobs/psfex_data_gen_candide.sh\n",
            "M\tmethod-comparison/jobs/psfex_data_gen_local.sh\n",
            "M\tmethod-comparison/jobs/psfex_data_gen_shifts_candide.sh\n",
            "M\tmethod-comparison/jobs/psfex_run_candide.sh\n",
            "M\tmethod-comparison/jobs/psfex_run_d3_candide.sh\n",
            "M\tmethod-comparison/jobs/psfex_run_d4_candide.sh\n",
            "M\tmethod-comparison/jobs/rca_SR_job.sh\n",
            "M\tmethod-comparison/jobs/rca_SR_job_n4.sh\n",
            "M\tmethod-comparison/jobs/rca_data_gen_candide.sh\n",
            "M\tmethod-comparison/jobs/rca_data_gen_local.sh\n",
            "M\tmethod-comparison/jobs/rca_data_gen_shifts_candide.sh\n",
            "M\tmethod-comparison/jobs/rca_job_n12.sh\n",
            "M\tmethod-comparison/jobs/rca_job_n16.sh\n",
            "M\tmethod-comparison/jobs/rca_job_n4.sh\n",
            "M\tmethod-comparison/jobs/rca_job_n4_up1_k0.sh\n",
            "M\tmethod-comparison/jobs/rca_job_n4_up1_k1.sh\n",
            "M\tmethod-comparison/jobs/rca_job_n4_up2.sh\n",
            "M\tmethod-comparison/jobs/rca_job_n4_up3.sh\n",
            "M\tmethod-comparison/jobs/rca_job_n8.sh\n",
            "M\tmethod-comparison/jobs/test_rca_job.sh\n",
            "M\tmethod-comparison/jobs/test_rca_job_n8.sh\n",
            "M\tpapers/Neurips2021_ML4Physics_workshop/scripts/psfex_SR_run_d3_candide.sh\n",
            "M\tpapers/Neurips2021_ML4Physics_workshop/scripts/psfex_run_d3_candide.sh\n",
            "M\tpapers/Neurips2021_ML4Physics_workshop/scripts/rca_SR_job_n4.sh\n",
            "M\tpapers/Neurips2021_ML4Physics_workshop/scripts/rca_job_n4.sh\n",
            "M\tpapers/article_IOP/figures/AllModels_PixRMSE_vs_NbStars_WF_SOTA.pdf\n",
            "M\tpapers/article_IOP/figures/AllModels_relative_PixRMSE_vs_NbStars_WF_SOTA.pdf\n",
            "M\tpapers/article_IOP/figures/SR_AllModels_relative_PixRMSE_vs_NbStars_WF_SOTA.pdf\n",
            "M\tpapers/article_IOP/jobs/mccd_SR_job_id10.sh\n",
            "M\tpapers/article_IOP/jobs/mccd_job_id06.sh\n",
            "M\tpapers/article_IOP/jobs/psfex_SR_run_d3_candide.sh\n",
            "M\tpapers/article_IOP/jobs/psfex_run_d3_candide.sh\n",
            "M\tpapers/article_IOP/jobs/rca_SR_job_n4.sh\n",
            "M\tpapers/article_IOP/jobs/rca_job_n4.sh\n",
            "Branch 'Refactor-psf-models' set up to track remote branch 'Refactor-psf-models' from 'origin'.\n",
            "Switched to a new branch 'Refactor-psf-models'\n"
          ]
        }
      ]
    },
    {
      "cell_type": "code",
      "source": [
        "!pip install -r requirements.txt"
      ],
      "metadata": {
        "colab": {
          "base_uri": "https://localhost:8080/"
        },
        "id": "MDW3AejfCmCP",
        "outputId": "5155888a-2948-455a-d84e-01943b7e2db5"
      },
      "execution_count": 8,
      "outputs": [
        {
          "output_type": "stream",
          "name": "stdout",
          "text": [
            "Looking in indexes: https://pypi.org/simple, https://us-python.pkg.dev/colab-wheels/public/simple/\n",
            "Requirement already satisfied: numpy>=1.19.2 in /usr/local/lib/python3.9/dist-packages (from -r requirements.txt (line 1)) (1.22.4)\n",
            "Requirement already satisfied: scipy>=1.5.2 in /usr/local/lib/python3.9/dist-packages (from -r requirements.txt (line 2)) (1.10.1)\n",
            "Requirement already satisfied: tensorflow>=2.4.1 in /usr/local/lib/python3.9/dist-packages (from -r requirements.txt (line 3)) (2.12.0)\n",
            "Collecting tensorflow-addons>=0.12.1\n",
            "  Downloading tensorflow_addons-0.19.0-cp39-cp39-manylinux_2_17_x86_64.manylinux2014_x86_64.whl (1.1 MB)\n",
            "\u001b[2K     \u001b[90m━━━━━━━━━━━━━━━━━━━━━━━━━━━━━━━━━━━━━━━━\u001b[0m \u001b[32m1.1/1.1 MB\u001b[0m \u001b[31m16.7 MB/s\u001b[0m eta \u001b[36m0:00:00\u001b[0m\n",
            "\u001b[?25hCollecting zernike==0.0.31\n",
            "  Downloading zernike-0.0.31-py2.py3-none-any.whl (31 kB)\n",
            "Requirement already satisfied: opencv-python>=4.5.1.48 in /usr/local/lib/python3.9/dist-packages (from -r requirements.txt (line 6)) (4.7.0.72)\n",
            "Requirement already satisfied: pillow>=8.1.0 in /usr/local/lib/python3.9/dist-packages (from -r requirements.txt (line 7)) (8.4.0)\n",
            "Collecting galsim>=2.3.1\n",
            "  Downloading GalSim-2.4.8-cp39-cp39-manylinux_2_17_x86_64.manylinux2014_x86_64.whl (44.3 MB)\n",
            "\u001b[2K     \u001b[90m━━━━━━━━━━━━━━━━━━━━━━━━━━━━━━━━━━━━━━━━\u001b[0m \u001b[32m44.3/44.3 MB\u001b[0m \u001b[31m16.9 MB/s\u001b[0m eta \u001b[36m0:00:00\u001b[0m\n",
            "\u001b[?25hRequirement already satisfied: astropy>=4.1 in /usr/local/lib/python3.9/dist-packages (from -r requirements.txt (line 9)) (5.2.2)\n",
            "Requirement already satisfied: matplotlib>=3.3.2 in /usr/local/lib/python3.9/dist-packages (from -r requirements.txt (line 10)) (3.7.1)\n",
            "Requirement already satisfied: seaborn>=0.11 in /usr/local/lib/python3.9/dist-packages (from -r requirements.txt (line 11)) (0.12.2)\n",
            "Requirement already satisfied: opt-einsum>=2.3.2 in /usr/local/lib/python3.9/dist-packages (from tensorflow>=2.4.1->-r requirements.txt (line 3)) (3.3.0)\n",
            "Requirement already satisfied: typing-extensions>=3.6.6 in /usr/local/lib/python3.9/dist-packages (from tensorflow>=2.4.1->-r requirements.txt (line 3)) (4.5.0)\n",
            "Requirement already satisfied: wrapt<1.15,>=1.11.0 in /usr/local/lib/python3.9/dist-packages (from tensorflow>=2.4.1->-r requirements.txt (line 3)) (1.14.1)\n",
            "Requirement already satisfied: termcolor>=1.1.0 in /usr/local/lib/python3.9/dist-packages (from tensorflow>=2.4.1->-r requirements.txt (line 3)) (2.2.0)\n",
            "Requirement already satisfied: absl-py>=1.0.0 in /usr/local/lib/python3.9/dist-packages (from tensorflow>=2.4.1->-r requirements.txt (line 3)) (1.4.0)\n",
            "Requirement already satisfied: gast<=0.4.0,>=0.2.1 in /usr/local/lib/python3.9/dist-packages (from tensorflow>=2.4.1->-r requirements.txt (line 3)) (0.4.0)\n",
            "Requirement already satisfied: libclang>=13.0.0 in /usr/local/lib/python3.9/dist-packages (from tensorflow>=2.4.1->-r requirements.txt (line 3)) (16.0.0)\n",
            "Requirement already satisfied: packaging in /usr/local/lib/python3.9/dist-packages (from tensorflow>=2.4.1->-r requirements.txt (line 3)) (23.0)\n",
            "Requirement already satisfied: setuptools in /usr/local/lib/python3.9/dist-packages (from tensorflow>=2.4.1->-r requirements.txt (line 3)) (67.6.1)\n",
            "Requirement already satisfied: google-pasta>=0.1.1 in /usr/local/lib/python3.9/dist-packages (from tensorflow>=2.4.1->-r requirements.txt (line 3)) (0.2.0)\n",
            "Requirement already satisfied: flatbuffers>=2.0 in /usr/local/lib/python3.9/dist-packages (from tensorflow>=2.4.1->-r requirements.txt (line 3)) (23.3.3)\n",
            "Requirement already satisfied: tensorflow-estimator<2.13,>=2.12.0 in /usr/local/lib/python3.9/dist-packages (from tensorflow>=2.4.1->-r requirements.txt (line 3)) (2.12.0)\n",
            "Requirement already satisfied: tensorflow-io-gcs-filesystem>=0.23.1 in /usr/local/lib/python3.9/dist-packages (from tensorflow>=2.4.1->-r requirements.txt (line 3)) (0.32.0)\n",
            "Requirement already satisfied: astunparse>=1.6.0 in /usr/local/lib/python3.9/dist-packages (from tensorflow>=2.4.1->-r requirements.txt (line 3)) (1.6.3)\n",
            "Requirement already satisfied: keras<2.13,>=2.12.0 in /usr/local/lib/python3.9/dist-packages (from tensorflow>=2.4.1->-r requirements.txt (line 3)) (2.12.0)\n",
            "Requirement already satisfied: protobuf!=4.21.0,!=4.21.1,!=4.21.2,!=4.21.3,!=4.21.4,!=4.21.5,<5.0.0dev,>=3.20.3 in /usr/local/lib/python3.9/dist-packages (from tensorflow>=2.4.1->-r requirements.txt (line 3)) (3.20.3)\n",
            "Requirement already satisfied: six>=1.12.0 in /usr/local/lib/python3.9/dist-packages (from tensorflow>=2.4.1->-r requirements.txt (line 3)) (1.16.0)\n",
            "Requirement already satisfied: jax>=0.3.15 in /usr/local/lib/python3.9/dist-packages (from tensorflow>=2.4.1->-r requirements.txt (line 3)) (0.4.7)\n",
            "Requirement already satisfied: grpcio<2.0,>=1.24.3 in /usr/local/lib/python3.9/dist-packages (from tensorflow>=2.4.1->-r requirements.txt (line 3)) (1.53.0)\n",
            "Requirement already satisfied: h5py>=2.9.0 in /usr/local/lib/python3.9/dist-packages (from tensorflow>=2.4.1->-r requirements.txt (line 3)) (3.8.0)\n",
            "Requirement already satisfied: tensorboard<2.13,>=2.12 in /usr/local/lib/python3.9/dist-packages (from tensorflow>=2.4.1->-r requirements.txt (line 3)) (2.12.0)\n",
            "Collecting typeguard>=2.7\n",
            "  Downloading typeguard-3.0.2-py3-none-any.whl (30 kB)\n",
            "Collecting LSSTDESC.Coord\n",
            "  Downloading LSSTDESC.Coord-1.2.3-cp39-cp39-manylinux2010_x86_64.whl (32 kB)\n",
            "Collecting pybind11>=2.2\n",
            "  Downloading pybind11-2.10.4-py3-none-any.whl (222 kB)\n",
            "\u001b[2K     \u001b[90m━━━━━━━━━━━━━━━━━━━━━━━━━━━━━━━━━━━━━━\u001b[0m \u001b[32m222.3/222.3 KB\u001b[0m \u001b[31m25.3 MB/s\u001b[0m eta \u001b[36m0:00:00\u001b[0m\n",
            "\u001b[?25hRequirement already satisfied: pyerfa>=2.0 in /usr/local/lib/python3.9/dist-packages (from astropy>=4.1->-r requirements.txt (line 9)) (2.0.0.3)\n",
            "Requirement already satisfied: PyYAML>=3.13 in /usr/local/lib/python3.9/dist-packages (from astropy>=4.1->-r requirements.txt (line 9)) (6.0)\n",
            "Requirement already satisfied: contourpy>=1.0.1 in /usr/local/lib/python3.9/dist-packages (from matplotlib>=3.3.2->-r requirements.txt (line 10)) (1.0.7)\n",
            "Requirement already satisfied: fonttools>=4.22.0 in /usr/local/lib/python3.9/dist-packages (from matplotlib>=3.3.2->-r requirements.txt (line 10)) (4.39.3)\n",
            "Requirement already satisfied: pyparsing>=2.3.1 in /usr/local/lib/python3.9/dist-packages (from matplotlib>=3.3.2->-r requirements.txt (line 10)) (3.0.9)\n",
            "Requirement already satisfied: python-dateutil>=2.7 in /usr/local/lib/python3.9/dist-packages (from matplotlib>=3.3.2->-r requirements.txt (line 10)) (2.8.2)\n",
            "Requirement already satisfied: kiwisolver>=1.0.1 in /usr/local/lib/python3.9/dist-packages (from matplotlib>=3.3.2->-r requirements.txt (line 10)) (1.4.4)\n",
            "Requirement already satisfied: importlib-resources>=3.2.0 in /usr/local/lib/python3.9/dist-packages (from matplotlib>=3.3.2->-r requirements.txt (line 10)) (5.12.0)\n",
            "Requirement already satisfied: cycler>=0.10 in /usr/local/lib/python3.9/dist-packages (from matplotlib>=3.3.2->-r requirements.txt (line 10)) (0.11.0)\n",
            "Requirement already satisfied: pandas>=0.25 in /usr/local/lib/python3.9/dist-packages (from seaborn>=0.11->-r requirements.txt (line 11)) (1.4.4)\n",
            "Requirement already satisfied: wheel<1.0,>=0.23.0 in /usr/local/lib/python3.9/dist-packages (from astunparse>=1.6.0->tensorflow>=2.4.1->-r requirements.txt (line 3)) (0.40.0)\n",
            "Requirement already satisfied: zipp>=3.1.0 in /usr/local/lib/python3.9/dist-packages (from importlib-resources>=3.2.0->matplotlib>=3.3.2->-r requirements.txt (line 10)) (3.15.0)\n",
            "Requirement already satisfied: ml-dtypes>=0.0.3 in /usr/local/lib/python3.9/dist-packages (from jax>=0.3.15->tensorflow>=2.4.1->-r requirements.txt (line 3)) (0.0.4)\n",
            "Requirement already satisfied: pytz>=2020.1 in /usr/local/lib/python3.9/dist-packages (from pandas>=0.25->seaborn>=0.11->-r requirements.txt (line 11)) (2022.7.1)\n",
            "Requirement already satisfied: werkzeug>=1.0.1 in /usr/local/lib/python3.9/dist-packages (from tensorboard<2.13,>=2.12->tensorflow>=2.4.1->-r requirements.txt (line 3)) (2.2.3)\n",
            "Requirement already satisfied: tensorboard-plugin-wit>=1.6.0 in /usr/local/lib/python3.9/dist-packages (from tensorboard<2.13,>=2.12->tensorflow>=2.4.1->-r requirements.txt (line 3)) (1.8.1)\n",
            "Requirement already satisfied: tensorboard-data-server<0.8.0,>=0.7.0 in /usr/local/lib/python3.9/dist-packages (from tensorboard<2.13,>=2.12->tensorflow>=2.4.1->-r requirements.txt (line 3)) (0.7.0)\n",
            "Requirement already satisfied: markdown>=2.6.8 in /usr/local/lib/python3.9/dist-packages (from tensorboard<2.13,>=2.12->tensorflow>=2.4.1->-r requirements.txt (line 3)) (3.4.3)\n",
            "Requirement already satisfied: requests<3,>=2.21.0 in /usr/local/lib/python3.9/dist-packages (from tensorboard<2.13,>=2.12->tensorflow>=2.4.1->-r requirements.txt (line 3)) (2.27.1)\n",
            "Requirement already satisfied: google-auth-oauthlib<0.5,>=0.4.1 in /usr/local/lib/python3.9/dist-packages (from tensorboard<2.13,>=2.12->tensorflow>=2.4.1->-r requirements.txt (line 3)) (0.4.6)\n",
            "Requirement already satisfied: google-auth<3,>=1.6.3 in /usr/local/lib/python3.9/dist-packages (from tensorboard<2.13,>=2.12->tensorflow>=2.4.1->-r requirements.txt (line 3)) (2.17.0)\n",
            "Requirement already satisfied: importlib-metadata>=3.6 in /usr/local/lib/python3.9/dist-packages (from typeguard>=2.7->tensorflow-addons>=0.12.1->-r requirements.txt (line 4)) (6.1.0)\n",
            "Requirement already satisfied: cffi in /usr/local/lib/python3.9/dist-packages (from LSSTDESC.Coord->galsim>=2.3.1->-r requirements.txt (line 8)) (1.15.1)\n",
            "Requirement already satisfied: future in /usr/local/lib/python3.9/dist-packages (from LSSTDESC.Coord->galsim>=2.3.1->-r requirements.txt (line 8)) (0.18.3)\n",
            "Requirement already satisfied: rsa<5,>=3.1.4 in /usr/local/lib/python3.9/dist-packages (from google-auth<3,>=1.6.3->tensorboard<2.13,>=2.12->tensorflow>=2.4.1->-r requirements.txt (line 3)) (4.9)\n",
            "Requirement already satisfied: pyasn1-modules>=0.2.1 in /usr/local/lib/python3.9/dist-packages (from google-auth<3,>=1.6.3->tensorboard<2.13,>=2.12->tensorflow>=2.4.1->-r requirements.txt (line 3)) (0.2.8)\n",
            "Requirement already satisfied: cachetools<6.0,>=2.0.0 in /usr/local/lib/python3.9/dist-packages (from google-auth<3,>=1.6.3->tensorboard<2.13,>=2.12->tensorflow>=2.4.1->-r requirements.txt (line 3)) (5.3.0)\n",
            "Requirement already satisfied: requests-oauthlib>=0.7.0 in /usr/local/lib/python3.9/dist-packages (from google-auth-oauthlib<0.5,>=0.4.1->tensorboard<2.13,>=2.12->tensorflow>=2.4.1->-r requirements.txt (line 3)) (1.3.1)\n",
            "Requirement already satisfied: certifi>=2017.4.17 in /usr/local/lib/python3.9/dist-packages (from requests<3,>=2.21.0->tensorboard<2.13,>=2.12->tensorflow>=2.4.1->-r requirements.txt (line 3)) (2022.12.7)\n",
            "Requirement already satisfied: idna<4,>=2.5 in /usr/local/lib/python3.9/dist-packages (from requests<3,>=2.21.0->tensorboard<2.13,>=2.12->tensorflow>=2.4.1->-r requirements.txt (line 3)) (3.4)\n",
            "Requirement already satisfied: charset-normalizer~=2.0.0 in /usr/local/lib/python3.9/dist-packages (from requests<3,>=2.21.0->tensorboard<2.13,>=2.12->tensorflow>=2.4.1->-r requirements.txt (line 3)) (2.0.12)\n",
            "Requirement already satisfied: urllib3<1.27,>=1.21.1 in /usr/local/lib/python3.9/dist-packages (from requests<3,>=2.21.0->tensorboard<2.13,>=2.12->tensorflow>=2.4.1->-r requirements.txt (line 3)) (1.26.15)\n",
            "Requirement already satisfied: MarkupSafe>=2.1.1 in /usr/local/lib/python3.9/dist-packages (from werkzeug>=1.0.1->tensorboard<2.13,>=2.12->tensorflow>=2.4.1->-r requirements.txt (line 3)) (2.1.2)\n",
            "Requirement already satisfied: pycparser in /usr/local/lib/python3.9/dist-packages (from cffi->LSSTDESC.Coord->galsim>=2.3.1->-r requirements.txt (line 8)) (2.21)\n",
            "Requirement already satisfied: pyasn1<0.5.0,>=0.4.6 in /usr/local/lib/python3.9/dist-packages (from pyasn1-modules>=0.2.1->google-auth<3,>=1.6.3->tensorboard<2.13,>=2.12->tensorflow>=2.4.1->-r requirements.txt (line 3)) (0.4.8)\n",
            "Requirement already satisfied: oauthlib>=3.0.0 in /usr/local/lib/python3.9/dist-packages (from requests-oauthlib>=0.7.0->google-auth-oauthlib<0.5,>=0.4.1->tensorboard<2.13,>=2.12->tensorflow>=2.4.1->-r requirements.txt (line 3)) (3.2.2)\n",
            "Installing collected packages: zernike, pybind11, typeguard, LSSTDESC.Coord, tensorflow-addons, galsim\n",
            "Successfully installed LSSTDESC.Coord-1.2.3 galsim-2.4.8 pybind11-2.10.4 tensorflow-addons-0.19.0 typeguard-3.0.2 zernike-0.0.31\n"
          ]
        }
      ]
    },
    {
      "cell_type": "code",
      "source": [
        "!pip install -U matplotlib"
      ],
      "metadata": {
        "colab": {
          "base_uri": "https://localhost:8080/"
        },
        "id": "4xQTiaOoCp6r",
        "outputId": "8da50799-c2e3-4342-c5f0-c4ada89ea99e"
      },
      "execution_count": 10,
      "outputs": [
        {
          "output_type": "stream",
          "name": "stdout",
          "text": [
            "Looking in indexes: https://pypi.org/simple, https://us-python.pkg.dev/colab-wheels/public/simple/\n",
            "Requirement already satisfied: matplotlib in /usr/local/lib/python3.9/dist-packages (3.7.1)\n",
            "Requirement already satisfied: fonttools>=4.22.0 in /usr/local/lib/python3.9/dist-packages (from matplotlib) (4.39.3)\n",
            "Requirement already satisfied: pyparsing>=2.3.1 in /usr/local/lib/python3.9/dist-packages (from matplotlib) (3.0.9)\n",
            "Requirement already satisfied: packaging>=20.0 in /usr/local/lib/python3.9/dist-packages (from matplotlib) (23.0)\n",
            "Requirement already satisfied: cycler>=0.10 in /usr/local/lib/python3.9/dist-packages (from matplotlib) (0.11.0)\n",
            "Requirement already satisfied: python-dateutil>=2.7 in /usr/local/lib/python3.9/dist-packages (from matplotlib) (2.8.2)\n",
            "Requirement already satisfied: importlib-resources>=3.2.0 in /usr/local/lib/python3.9/dist-packages (from matplotlib) (5.12.0)\n",
            "Requirement already satisfied: numpy>=1.20 in /usr/local/lib/python3.9/dist-packages (from matplotlib) (1.22.4)\n",
            "Requirement already satisfied: contourpy>=1.0.1 in /usr/local/lib/python3.9/dist-packages (from matplotlib) (1.0.7)\n",
            "Requirement already satisfied: kiwisolver>=1.0.1 in /usr/local/lib/python3.9/dist-packages (from matplotlib) (1.4.4)\n",
            "Requirement already satisfied: pillow>=6.2.0 in /usr/local/lib/python3.9/dist-packages (from matplotlib) (8.4.0)\n",
            "Requirement already satisfied: zipp>=3.1.0 in /usr/local/lib/python3.9/dist-packages (from importlib-resources>=3.2.0->matplotlib) (3.15.0)\n",
            "Requirement already satisfied: six>=1.5 in /usr/local/lib/python3.9/dist-packages (from python-dateutil>=2.7->matplotlib) (1.16.0)\n"
          ]
        }
      ]
    },
    {
      "cell_type": "code",
      "source": [
        "!pip install ."
      ],
      "metadata": {
        "colab": {
          "base_uri": "https://localhost:8080/"
        },
        "id": "YdfosOJYCyJw",
        "outputId": "71a0fcff-2b12-45b2-b64c-ede919fe4865"
      },
      "execution_count": 11,
      "outputs": [
        {
          "output_type": "stream",
          "name": "stdout",
          "text": [
            "Looking in indexes: https://pypi.org/simple, https://us-python.pkg.dev/colab-wheels/public/simple/\n",
            "Processing /content/drive/MyDrive/Github/wf-psf\n",
            "  Preparing metadata (setup.py) ... \u001b[?25l\u001b[?25hdone\n",
            "Building wheels for collected packages: wf-psf\n",
            "  Building wheel for wf-psf (setup.py) ... \u001b[?25l\u001b[?25hdone\n",
            "  Created wheel for wf-psf: filename=wf_psf-1.3.0-py3-none-any.whl size=142633 sha256=c1dfe0bc52b0dcfb7c13dbcdae0e84af5857db7714bc0127e6eec603272cd09c\n",
            "  Stored in directory: /root/.cache/pip/wheels/11/90/03/1cf6ab1ef0d79eca0905077d67191b483b6f2c5bf08ceb2f5f\n",
            "Successfully built wf-psf\n",
            "Installing collected packages: wf-psf\n",
            "  Attempting uninstall: wf-psf\n",
            "    Found existing installation: wf-psf 1.3.0\n",
            "    Uninstalling wf-psf-1.3.0:\n",
            "      Successfully uninstalled wf-psf-1.3.0\n",
            "Successfully installed wf-psf-1.3.0\n"
          ]
        }
      ]
    },
    {
      "cell_type": "code",
      "source": [
        "!python3 wf_psf/run.py -c config/configs.yaml -r /content/drive/MyDrive/Github/wf-psf -o /content/drive/MyDrive/Github/wf-outputs \n"
      ],
      "metadata": {
        "colab": {
          "base_uri": "https://localhost:8080/"
        },
        "id": "sJwGzrLMFBJg",
        "outputId": "bee4eec6-24a5-4d7a-9506-82727c378bc6"
      },
      "execution_count": 12,
      "outputs": [
        {
          "output_type": "stream",
          "name": "stdout",
          "text": [
            "2023-04-04 11:43:47.954823: I tensorflow/core/platform/cpu_feature_guard.cc:182] This TensorFlow binary is optimized to use available CPU instructions in performance-critical operations.\n",
            "To enable the following instructions: AVX2 FMA, in other operations, rebuild TensorFlow with the appropriate compiler flags.\n",
            "2023-04-04 11:43:48.869623: W tensorflow/compiler/tf2tensorrt/utils/py_utils.cc:38] TF-TRT Warning: Could not find TensorRT\n",
            "/usr/local/lib/python3.9/dist-packages/tensorflow_addons/utils/ensure_tf_install.py:53: UserWarning: Tensorflow Addons supports using Python ops for all Tensorflow versions above or equal to 2.9.0 and strictly below 2.12.0 (nightly versions are not supported). \n",
            " The versions of TensorFlow you are currently using is 2.12.0 and is not supported. \n",
            "Some things might work, some things might not.\n",
            "If you were to encounter a bug, do not file an issue.\n",
            "If you want to make sure you're using a tested and supported configuration, either change the TensorFlow version or the TensorFlow Addons's version. \n",
            "You can find the compatibility matrix in TensorFlow Addon's readme:\n",
            "https://github.com/tensorflow/addons\n",
            "  warnings.warn(\n",
            "2023-04-04 11:43:54,067 - wavediff - INFO - #\n",
            "2023-04-04 11:43:54,067 - wavediff - INFO - # Entering wavediff mainMethod()\n",
            "2023-04-04 11:43:54,067 - wavediff - INFO - #\n",
            "2023-04-04 11:43:54,085 - wavediff - INFO - RecursiveNamespace(model_params=RecursiveNamespace(model_name='poly', n_bins_lda=8, output_Q=3, oversampling_rate=3, output_dim=32, pupil_diameter=256, use_sample_weights=True, interpolation_type='None', interp_pts_per_bin=0, extrapolate=True, sed_interp_kind='linear', sed_sigma=0, x_lims=[0.0, 1000.0], y_lims=[0.0, 1000.0], param_hparams=RecursiveNamespace(l2_param=0.0, n_zernikes=15, d_max=2, save_optim_history_param=True), nonparam_hparams=RecursiveNamespace(d_max_nonparam=5, num_graph_features=10, l1_rate=1e-08, project_dd_features=False, reset_dd_features=False, save_optim_history_nonparam=True)), training_hparams=RecursiveNamespace(n_epochs_params=[2, 2, 2], n_epochs_non_params=[2, 2, 2], batch_size=32, multi_cycle_params=RecursiveNamespace(total_cycles=3, cycle_def='complete', save_all_cycles=False, saved_cycle='cycle3', learning_rate_params=[0.01, 0.01, 0.01], learning_rate_non_params=[0.1, 0.1, 0.1], n_epochs_params=[20, 20, 20], n_epochs_non_params=[100, 120, 120])), data=RecursiveNamespace(training=RecursiveNamespace(file='data/coherent_euclid_dataset/train_Euclid_res_200_TrainStars_id_001.npy', stars=None, positions=None, SEDS=None, zernike_coef=None, C_poly=None, params=RecursiveNamespace(d_max=2, max_order=45, x_lims=[0, 1000.0], y_lims=[0, 1000.0], grid_points=[4, 4], n_bins=20, max_wfe_rms=0.1, oversampling_rate=3.0, output_Q=3.0, output_dim=32, LP_filter_length=2, pupil_diameter=256, euclid_obsc=True, n_stars=200)), test=RecursiveNamespace(file='data/coherent_euclid_dataset/test_Euclid_res_id_001.npy', stars=None, noisy_stars=None, positions=None, SEDS=None, zernike_coef=None, C_poly=None, parameters=RecursiveNamespace(d_max=2, max_order=45, x_lims=[0, 1000.0], y_lims=[0, 1000.0], grid_points=[4, 4], max_wfe_rms=0.1))))\n",
            "2023-04-04 11:43:54.153250: I tensorflow/compiler/xla/stream_executor/cuda/cuda_gpu_executor.cc:996] successful NUMA node read from SysFS had negative value (-1), but there must be at least one NUMA node, so returning NUMA node zero. See more at https://github.com/torvalds/linux/blob/v6.0/Documentation/ABI/testing/sysfs-bus-pci#L344-L355\n",
            "2023-04-04 11:43:54.655592: I tensorflow/compiler/xla/stream_executor/cuda/cuda_gpu_executor.cc:996] successful NUMA node read from SysFS had negative value (-1), but there must be at least one NUMA node, so returning NUMA node zero. See more at https://github.com/torvalds/linux/blob/v6.0/Documentation/ABI/testing/sysfs-bus-pci#L344-L355\n",
            "2023-04-04 11:43:54.655969: I tensorflow/compiler/xla/stream_executor/cuda/cuda_gpu_executor.cc:996] successful NUMA node read from SysFS had negative value (-1), but there must be at least one NUMA node, so returning NUMA node zero. See more at https://github.com/torvalds/linux/blob/v6.0/Documentation/ABI/testing/sysfs-bus-pci#L344-L355\n",
            "2023-04-04 11:43:54.656764: I tensorflow/compiler/xla/stream_executor/cuda/cuda_gpu_executor.cc:996] successful NUMA node read from SysFS had negative value (-1), but there must be at least one NUMA node, so returning NUMA node zero. See more at https://github.com/torvalds/linux/blob/v6.0/Documentation/ABI/testing/sysfs-bus-pci#L344-L355\n",
            "2023-04-04 11:43:54.657015: I tensorflow/compiler/xla/stream_executor/cuda/cuda_gpu_executor.cc:996] successful NUMA node read from SysFS had negative value (-1), but there must be at least one NUMA node, so returning NUMA node zero. See more at https://github.com/torvalds/linux/blob/v6.0/Documentation/ABI/testing/sysfs-bus-pci#L344-L355\n",
            "2023-04-04 11:43:54.657205: I tensorflow/compiler/xla/stream_executor/cuda/cuda_gpu_executor.cc:996] successful NUMA node read from SysFS had negative value (-1), but there must be at least one NUMA node, so returning NUMA node zero. See more at https://github.com/torvalds/linux/blob/v6.0/Documentation/ABI/testing/sysfs-bus-pci#L344-L355\n",
            "2023-04-04 11:43:57.320183: I tensorflow/compiler/xla/stream_executor/cuda/cuda_gpu_executor.cc:996] successful NUMA node read from SysFS had negative value (-1), but there must be at least one NUMA node, so returning NUMA node zero. See more at https://github.com/torvalds/linux/blob/v6.0/Documentation/ABI/testing/sysfs-bus-pci#L344-L355\n",
            "2023-04-04 11:43:57.320532: I tensorflow/compiler/xla/stream_executor/cuda/cuda_gpu_executor.cc:996] successful NUMA node read from SysFS had negative value (-1), but there must be at least one NUMA node, so returning NUMA node zero. See more at https://github.com/torvalds/linux/blob/v6.0/Documentation/ABI/testing/sysfs-bus-pci#L344-L355\n",
            "2023-04-04 11:43:57.320810: I tensorflow/compiler/xla/stream_executor/cuda/cuda_gpu_executor.cc:996] successful NUMA node read from SysFS had negative value (-1), but there must be at least one NUMA node, so returning NUMA node zero. See more at https://github.com/torvalds/linux/blob/v6.0/Documentation/ABI/testing/sysfs-bus-pci#L344-L355\n",
            "2023-04-04 11:43:57.320979: W tensorflow/core/common_runtime/gpu/gpu_bfc_allocator.cc:47] Overriding orig_value setting because the TF_FORCE_GPU_ALLOW_GROWTH environment variable is set. Original config value was 0.\n",
            "2023-04-04 11:43:57.321022: I tensorflow/core/common_runtime/gpu/gpu_device.cc:1635] Created device /job:localhost/replica:0/task:0/device:GPU:0 with 13678 MB memory:  -> device: 0, name: Tesla T4, pci bus id: 0000:00:04.0, compute capability: 7.5\n",
            "2023-04-04 11:43:57,584 - wf_psf.training.train - INFO - PSF Model class: `poly` initialized...\n",
            "2023-04-04 11:43:57,584 - wf_psf.training.train - INFO - Instantiating simPSF toolkit...\n",
            "2023-04-04 11:43:57,585 - wf_psf.training.train - INFO - Fetching and preprocessing training and test data...\n",
            "2023-04-04 11:43:59,040 - wf_psf.training.train - INFO - Preparing Keras model callback...\n",
            "2023-04-04 11:43:59,041 - wf_psf.training.train - INFO - Preparing Keras model callback...\n",
            "2023-04-04 11:43:59,042 - wf_psf.training.train - INFO - Starting cycle 1..\n",
            "Starting parametric update..\n",
            "Epoch 1/2\n",
            "2023-04-04 11:44:06.549436: I tensorflow/compiler/xla/stream_executor/cuda/cuda_dnn.cc:424] Loaded cuDNN version 8700\n",
            "\n",
            "Epoch 1: mean_squared_error improved from inf to 0.00002, saving model to /content/drive/MyDrive/Github/wf-outputs/wf-outputs/checkpoint/chkp_callback_poly-coherent_euclid_200stars_cycle1\n",
            "7/7 - 24s - loss: 2.1539e-05 - mean_squared_error: 1.8576e-05 - val_loss: 1.5200e-05 - val_mean_squared_error: 1.5200e-05 - 24s/epoch - 3s/step\n",
            "Epoch 2/2\n",
            "\n",
            "Epoch 2: mean_squared_error improved from 0.00002 to 0.00001, saving model to /content/drive/MyDrive/Github/wf-outputs/wf-outputs/checkpoint/chkp_callback_poly-coherent_euclid_200stars_cycle1\n",
            "7/7 - 16s - loss: 1.6626e-05 - mean_squared_error: 1.4633e-05 - val_loss: 8.8465e-06 - val_mean_squared_error: 8.8465e-06 - 16s/epoch - 2s/step\n",
            "Starting non-parametric update..\n",
            "Epoch 1/2\n",
            "\n",
            "Epoch 1: mean_squared_error improved from 0.00001 to 0.00001, saving model to /content/drive/MyDrive/Github/wf-outputs/wf-outputs/checkpoint/chkp_callback_poly-coherent_euclid_200stars_cycle1\n",
            "7/7 - 19s - loss: 1.1490e-05 - mean_squared_error: 1.0483e-05 - val_loss: 8.6932e-06 - val_mean_squared_error: 8.6932e-06 - 19s/epoch - 3s/step\n",
            "Epoch 2/2\n",
            "\n",
            "Epoch 2: mean_squared_error improved from 0.00001 to 0.00001, saving model to /content/drive/MyDrive/Github/wf-outputs/wf-outputs/checkpoint/chkp_callback_poly-coherent_euclid_200stars_cycle1\n",
            "7/7 - 19s - loss: 1.1037e-05 - mean_squared_error: 1.0085e-05 - val_loss: 7.9718e-06 - val_mean_squared_error: 7.9718e-06 - 19s/epoch - 3s/step\n",
            "2023-04-04 11:45:22,396 - wf_psf.training.train - INFO - Cycle1 elapsed time: 83.35345602035522\n",
            "2023-04-04 11:45:22,396 - wf_psf.training.train - INFO - Preparing Keras model callback...\n",
            "2023-04-04 11:45:22,396 - wf_psf.training.train - INFO - Preparing Keras model callback...\n",
            "2023-04-04 11:45:22,397 - wf_psf.training.train - INFO - Starting cycle 2..\n",
            "Starting parametric update..\n",
            "Epoch 1/2\n",
            "\n",
            "Epoch 1: mean_squared_error improved from inf to 0.00001, saving model to /content/drive/MyDrive/Github/wf-outputs/wf-outputs/checkpoint/chkp_callback_poly-coherent_euclid_200stars_cycle2\n",
            "7/7 - 19s - loss: 1.0347e-05 - mean_squared_error: 9.5258e-06 - val_loss: 7.1576e-06 - val_mean_squared_error: 7.1576e-06 - 19s/epoch - 3s/step\n",
            "Epoch 2/2\n",
            "\n",
            "Epoch 2: mean_squared_error improved from 0.00001 to 0.00001, saving model to /content/drive/MyDrive/Github/wf-outputs/wf-outputs/checkpoint/chkp_callback_poly-coherent_euclid_200stars_cycle2\n",
            "7/7 - 19s - loss: 8.3034e-06 - mean_squared_error: 7.8476e-06 - val_loss: 5.1268e-06 - val_mean_squared_error: 5.1268e-06 - 19s/epoch - 3s/step\n",
            "Starting non-parametric update..\n",
            "Epoch 1/2\n",
            "\n",
            "Epoch 1: mean_squared_error improved from 0.00001 to 0.00001, saving model to /content/drive/MyDrive/Github/wf-outputs/wf-outputs/checkpoint/chkp_callback_poly-coherent_euclid_200stars_cycle2\n",
            "7/7 - 19s - loss: 6.8933e-06 - mean_squared_error: 6.6082e-06 - val_loss: 5.0875e-06 - val_mean_squared_error: 5.0875e-06 - 19s/epoch - 3s/step\n",
            "Epoch 2/2\n",
            "\n",
            "Epoch 2: mean_squared_error improved from 0.00001 to 0.00001, saving model to /content/drive/MyDrive/Github/wf-outputs/wf-outputs/checkpoint/chkp_callback_poly-coherent_euclid_200stars_cycle2\n",
            "7/7 - 19s - loss: 6.7759e-06 - mean_squared_error: 6.5107e-06 - val_loss: 4.9016e-06 - val_mean_squared_error: 4.9016e-06 - 19s/epoch - 3s/step\n",
            "2023-04-04 11:46:50,391 - wf_psf.training.train - INFO - Cycle2 elapsed time: 87.99313187599182\n",
            "2023-04-04 11:46:50,391 - wf_psf.training.train - INFO - Preparing Keras model callback...\n",
            "2023-04-04 11:46:50,392 - wf_psf.training.train - INFO - Preparing Keras model callback...\n",
            "2023-04-04 11:46:50,393 - wf_psf.training.train - INFO - Starting cycle 3..\n",
            "Starting parametric update..\n",
            "Epoch 1/2\n",
            "\n",
            "Epoch 1: mean_squared_error improved from inf to 0.00001, saving model to /content/drive/MyDrive/Github/wf-outputs/wf-outputs/checkpoint/chkp_callback_poly-coherent_euclid_200stars_cycle3\n",
            "7/7 - 22s - loss: 6.6052e-06 - mean_squared_error: 6.3643e-06 - val_loss: 4.5233e-06 - val_mean_squared_error: 4.5233e-06 - 22s/epoch - 3s/step\n",
            "Epoch 2/2\n",
            "\n",
            "Epoch 2: mean_squared_error improved from 0.00001 to 0.00001, saving model to /content/drive/MyDrive/Github/wf-outputs/wf-outputs/checkpoint/chkp_callback_poly-coherent_euclid_200stars_cycle3\n",
            "7/7 - 19s - loss: 5.6707e-06 - mean_squared_error: 5.5422e-06 - val_loss: 3.2467e-06 - val_mean_squared_error: 3.2467e-06 - 19s/epoch - 3s/step\n",
            "Starting non-parametric update..\n",
            "Epoch 1/2\n",
            "\n",
            "Epoch 1: mean_squared_error improved from 0.00001 to 0.00000, saving model to /content/drive/MyDrive/Github/wf-outputs/wf-outputs/checkpoint/chkp_callback_poly-coherent_euclid_200stars_cycle3\n",
            "7/7 - 20s - loss: 4.7463e-06 - mean_squared_error: 4.7525e-06 - val_loss: 3.2320e-06 - val_mean_squared_error: 3.2320e-06 - 20s/epoch - 3s/step\n",
            "Epoch 2/2\n",
            "\n",
            "Epoch 2: mean_squared_error improved from 0.00000 to 0.00000, saving model to /content/drive/MyDrive/Github/wf-outputs/wf-outputs/checkpoint/chkp_callback_poly-coherent_euclid_200stars_cycle3\n",
            "7/7 - 18s - loss: 4.7033e-06 - mean_squared_error: 4.7139e-06 - val_loss: 3.1610e-06 - val_mean_squared_error: 3.1610e-06 - 18s/epoch - 3s/step\n",
            "2023-04-04 11:48:11,154 - wf_psf.training.train - INFO - Cycle3 elapsed time: 80.7611894607544\n",
            "2023-04-04 11:48:11,472 - wf_psf.training.train - INFO - \n",
            "Total elapsed time: 257.386186\n",
            "2023-04-04 11:48:11,472 - wf_psf.training.train - INFO - \n",
            " Good bye..\n",
            "2023-04-04 11:48:11,473 - wavediff - INFO - #\n",
            "2023-04-04 11:48:11,473 - wavediff - INFO - # Exiting wavediff mainMethod()\n",
            "2023-04-04 11:48:11,473 - wavediff - INFO - #\n"
          ]
        }
      ]
    }
  ]
}