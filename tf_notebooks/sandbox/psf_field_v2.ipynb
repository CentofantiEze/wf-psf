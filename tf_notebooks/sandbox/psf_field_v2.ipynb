{
  "nbformat": 4,
  "nbformat_minor": 0,
  "metadata": {
    "accelerator": "GPU",
    "colab": {
      "name": "psf_field_v3.ipynb",
      "provenance": [],
      "collapsed_sections": []
    },
    "kernelspec": {
      "display_name": "Python 3",
      "language": "python",
      "name": "python3"
    },
    "language_info": {
      "codemirror_mode": {
        "name": "ipython",
        "version": 3
      },
      "file_extension": ".py",
      "mimetype": "text/x-python",
      "name": "python",
      "nbconvert_exporter": "python",
      "pygments_lexer": "ipython3",
      "version": "3.6.12"
    },
    "varInspector": {
      "cols": {
        "lenName": 16,
        "lenType": 16,
        "lenVar": 40
      },
      "kernels_config": {
        "python": {
          "delete_cmd_postfix": "",
          "delete_cmd_prefix": "del ",
          "library": "var_list.py",
          "varRefreshCmd": "print(var_dic_list())"
        },
        "r": {
          "delete_cmd_postfix": ") ",
          "delete_cmd_prefix": "rm(",
          "library": "var_list.r",
          "varRefreshCmd": "cat(var_dic_list()) "
        }
      },
      "types_to_exclude": [
        "module",
        "function",
        "builtin_function_or_method",
        "instance",
        "_Feature"
      ],
      "window_display": false
    },
    "widgets": {
      "application/vnd.jupyter.widget-state+json": {
        "73bcd7f17fab44ee9d1c96b64bce45e8": {
          "model_module": "@jupyter-widgets/controls",
          "model_name": "HBoxModel",
          "state": {
            "_view_name": "HBoxView",
            "_dom_classes": [],
            "_model_name": "HBoxModel",
            "_view_module": "@jupyter-widgets/controls",
            "_model_module_version": "1.5.0",
            "_view_count": null,
            "_view_module_version": "1.5.0",
            "box_style": "",
            "layout": "IPY_MODEL_be118a31feff4942a77dc497f21d54a0",
            "_model_module": "@jupyter-widgets/controls",
            "children": [
              "IPY_MODEL_314e33582ae24c7c8a5631552eadd6ba",
              "IPY_MODEL_3ca381d90e664b1282927481114a9898"
            ]
          }
        },
        "be118a31feff4942a77dc497f21d54a0": {
          "model_module": "@jupyter-widgets/base",
          "model_name": "LayoutModel",
          "state": {
            "_view_name": "LayoutView",
            "grid_template_rows": null,
            "right": null,
            "justify_content": null,
            "_view_module": "@jupyter-widgets/base",
            "overflow": null,
            "_model_module_version": "1.2.0",
            "_view_count": null,
            "flex_flow": null,
            "width": null,
            "min_width": null,
            "border": null,
            "align_items": null,
            "bottom": null,
            "_model_module": "@jupyter-widgets/base",
            "top": null,
            "grid_column": null,
            "overflow_y": null,
            "overflow_x": null,
            "grid_auto_flow": null,
            "grid_area": null,
            "grid_template_columns": null,
            "flex": null,
            "_model_name": "LayoutModel",
            "justify_items": null,
            "grid_row": null,
            "max_height": null,
            "align_content": null,
            "visibility": null,
            "align_self": null,
            "height": null,
            "min_height": null,
            "padding": null,
            "grid_auto_rows": null,
            "grid_gap": null,
            "max_width": null,
            "order": null,
            "_view_module_version": "1.2.0",
            "grid_template_areas": null,
            "object_position": null,
            "object_fit": null,
            "grid_auto_columns": null,
            "margin": null,
            "display": null,
            "left": null
          }
        },
        "314e33582ae24c7c8a5631552eadd6ba": {
          "model_module": "@jupyter-widgets/controls",
          "model_name": "FloatProgressModel",
          "state": {
            "_view_name": "ProgressView",
            "style": "IPY_MODEL_122ae447e78b4f94b6c651f931def822",
            "_dom_classes": [],
            "description": "  0%",
            "_model_name": "FloatProgressModel",
            "bar_style": "",
            "max": 200,
            "_view_module": "@jupyter-widgets/controls",
            "_model_module_version": "1.5.0",
            "value": 0,
            "_view_count": null,
            "_view_module_version": "1.5.0",
            "orientation": "horizontal",
            "min": 0,
            "description_tooltip": null,
            "_model_module": "@jupyter-widgets/controls",
            "layout": "IPY_MODEL_04a8482f2cc24d61a7a503e5c31dc70b"
          }
        },
        "3ca381d90e664b1282927481114a9898": {
          "model_module": "@jupyter-widgets/controls",
          "model_name": "HTMLModel",
          "state": {
            "_view_name": "HTMLView",
            "style": "IPY_MODEL_a039892bd7e64df4b282e72ab3fdfecf",
            "_dom_classes": [],
            "description": "",
            "_model_name": "HTMLModel",
            "placeholder": "​",
            "_view_module": "@jupyter-widgets/controls",
            "_model_module_version": "1.5.0",
            "value": " 0/200 [00:00&lt;?, ?it/s]",
            "_view_count": null,
            "_view_module_version": "1.5.0",
            "description_tooltip": null,
            "_model_module": "@jupyter-widgets/controls",
            "layout": "IPY_MODEL_a1616e050aba4ed4a5891a9e0d6724bf"
          }
        },
        "122ae447e78b4f94b6c651f931def822": {
          "model_module": "@jupyter-widgets/controls",
          "model_name": "ProgressStyleModel",
          "state": {
            "_view_name": "StyleView",
            "_model_name": "ProgressStyleModel",
            "description_width": "initial",
            "_view_module": "@jupyter-widgets/base",
            "_model_module_version": "1.5.0",
            "_view_count": null,
            "_view_module_version": "1.2.0",
            "bar_color": null,
            "_model_module": "@jupyter-widgets/controls"
          }
        },
        "04a8482f2cc24d61a7a503e5c31dc70b": {
          "model_module": "@jupyter-widgets/base",
          "model_name": "LayoutModel",
          "state": {
            "_view_name": "LayoutView",
            "grid_template_rows": null,
            "right": null,
            "justify_content": null,
            "_view_module": "@jupyter-widgets/base",
            "overflow": null,
            "_model_module_version": "1.2.0",
            "_view_count": null,
            "flex_flow": null,
            "width": null,
            "min_width": null,
            "border": null,
            "align_items": null,
            "bottom": null,
            "_model_module": "@jupyter-widgets/base",
            "top": null,
            "grid_column": null,
            "overflow_y": null,
            "overflow_x": null,
            "grid_auto_flow": null,
            "grid_area": null,
            "grid_template_columns": null,
            "flex": null,
            "_model_name": "LayoutModel",
            "justify_items": null,
            "grid_row": null,
            "max_height": null,
            "align_content": null,
            "visibility": null,
            "align_self": null,
            "height": null,
            "min_height": null,
            "padding": null,
            "grid_auto_rows": null,
            "grid_gap": null,
            "max_width": null,
            "order": null,
            "_view_module_version": "1.2.0",
            "grid_template_areas": null,
            "object_position": null,
            "object_fit": null,
            "grid_auto_columns": null,
            "margin": null,
            "display": null,
            "left": null
          }
        },
        "a039892bd7e64df4b282e72ab3fdfecf": {
          "model_module": "@jupyter-widgets/controls",
          "model_name": "DescriptionStyleModel",
          "state": {
            "_view_name": "StyleView",
            "_model_name": "DescriptionStyleModel",
            "description_width": "",
            "_view_module": "@jupyter-widgets/base",
            "_model_module_version": "1.5.0",
            "_view_count": null,
            "_view_module_version": "1.2.0",
            "_model_module": "@jupyter-widgets/controls"
          }
        },
        "a1616e050aba4ed4a5891a9e0d6724bf": {
          "model_module": "@jupyter-widgets/base",
          "model_name": "LayoutModel",
          "state": {
            "_view_name": "LayoutView",
            "grid_template_rows": null,
            "right": null,
            "justify_content": null,
            "_view_module": "@jupyter-widgets/base",
            "overflow": null,
            "_model_module_version": "1.2.0",
            "_view_count": null,
            "flex_flow": null,
            "width": null,
            "min_width": null,
            "border": null,
            "align_items": null,
            "bottom": null,
            "_model_module": "@jupyter-widgets/base",
            "top": null,
            "grid_column": null,
            "overflow_y": null,
            "overflow_x": null,
            "grid_auto_flow": null,
            "grid_area": null,
            "grid_template_columns": null,
            "flex": null,
            "_model_name": "LayoutModel",
            "justify_items": null,
            "grid_row": null,
            "max_height": null,
            "align_content": null,
            "visibility": null,
            "align_self": null,
            "height": null,
            "min_height": null,
            "padding": null,
            "grid_auto_rows": null,
            "grid_gap": null,
            "max_width": null,
            "order": null,
            "_view_module_version": "1.2.0",
            "grid_template_areas": null,
            "object_position": null,
            "object_fit": null,
            "grid_auto_columns": null,
            "margin": null,
            "display": null,
            "left": null
          }
        }
      }
    }
  },
  "cells": [
    {
      "cell_type": "code",
      "metadata": {
        "colab": {
          "base_uri": "https://localhost:8080/"
        },
        "id": "JlDaMbSegQIq",
        "outputId": "db2d0208-b92a-418e-b6f9-10ce1ea53085"
      },
      "source": [
        "import numpy as np\n",
        "import scipy.signal as spsig\n",
        "import scipy.interpolate as sinterp\n",
        "import scipy.io as sio\n",
        "import matplotlib.pyplot as plt\n",
        "import matplotlib as mpl\n",
        "from matplotlib.colors import ListedColormap, LinearSegmentedColormap\n",
        "from mpl_toolkits.axes_grid1 import make_axes_locatable\n",
        "import PIL\n",
        "import time\n",
        "from tqdm.notebook import tqdm\n",
        "\n",
        "%pylab inline"
      ],
      "execution_count": 1,
      "outputs": [
        {
          "output_type": "stream",
          "text": [
            "Populating the interactive namespace from numpy and matplotlib\n"
          ],
          "name": "stdout"
        }
      ]
    },
    {
      "cell_type": "code",
      "metadata": {
        "id": "8-V5Q3QSgZ8d"
      },
      "source": [
        "plt.rcParams['figure.figsize'] = (16, 8)"
      ],
      "execution_count": 2,
      "outputs": []
    },
    {
      "cell_type": "code",
      "metadata": {
        "colab": {
          "base_uri": "https://localhost:8080/"
        },
        "id": "C27P_h8Egbiq",
        "outputId": "628bee08-6085-463f-ebc0-8871f66f1235"
      },
      "source": [
        "%tensorflow_version 2.x\n",
        "import tensorflow as tf\n",
        "device_name = tf.test.gpu_device_name()\n",
        "if device_name != '/device:GPU:0':\n",
        "    raise SystemError('GPU device not found')\n",
        "print('Found GPU at: {}'.format(device_name))"
      ],
      "execution_count": 3,
      "outputs": [
        {
          "output_type": "stream",
          "text": [
            "Found GPU at: /device:GPU:0\n"
          ],
          "name": "stdout"
        }
      ]
    },
    {
      "cell_type": "code",
      "metadata": {
        "colab": {
          "base_uri": "https://localhost:8080/"
        },
        "id": "qUtM0vuA2TyA",
        "outputId": "62218ef0-f65e-4dfb-c417-81b1e220d667"
      },
      "source": [
        "# memory footprint support libraries/code\n",
        "!ln -sf /opt/bin/nvidia-smi /usr/bin/nvidia-smi\n",
        "!pip install gputil\n",
        "!pip install psutil\n",
        "!pip install humanize\n",
        "import psutil\n",
        "import humanize\n",
        "import os\n",
        "import GPUtil as GPU\n",
        "GPUs = GPU.getGPUs()\n",
        "# XXX: only one GPU on Colab and isn’t guaranteed\n",
        "gpu = GPUs[0]\n",
        "def printm():\n",
        " process = psutil.Process(os.getpid())\n",
        " print(\"Gen RAM Free: \" + humanize.naturalsize( psutil.virtual_memory().available ), \" | Proc size: \" + humanize.naturalsize( process.memory_info().rss))\n",
        " print(\"GPU RAM Free: {0:.0f}MB | Used: {1:.0f}MB | Util {2:3.0f}% | Total {3:.0f}MB\".format(gpu.memoryFree, gpu.memoryUsed, gpu.memoryUtil*100, gpu.memoryTotal))\n",
        "printm()"
      ],
      "execution_count": 4,
      "outputs": [
        {
          "output_type": "stream",
          "text": [
            "Collecting gputil\n",
            "  Downloading https://files.pythonhosted.org/packages/ed/0e/5c61eedde9f6c87713e89d794f01e378cfd9565847d4576fa627d758c554/GPUtil-1.4.0.tar.gz\n",
            "Building wheels for collected packages: gputil\n",
            "  Building wheel for gputil (setup.py) ... \u001b[?25l\u001b[?25hdone\n",
            "  Created wheel for gputil: filename=GPUtil-1.4.0-cp36-none-any.whl size=7411 sha256=1a2262d1a96843069cb61b290861773992ad812b880c3a68a10c1ddf8bcf46cb\n",
            "  Stored in directory: /root/.cache/pip/wheels/3d/77/07/80562de4bb0786e5ea186911a2c831fdd0018bda69beab71fd\n",
            "Successfully built gputil\n",
            "Installing collected packages: gputil\n",
            "Successfully installed gputil-1.4.0\n",
            "Requirement already satisfied: psutil in /usr/local/lib/python3.6/dist-packages (5.4.8)\n",
            "Requirement already satisfied: humanize in /usr/local/lib/python3.6/dist-packages (0.5.1)\n",
            "Gen RAM Free: 12.2 GB  | Proc size: 1.1 GB\n",
            "GPU RAM Free: 14852MB | Used: 227MB | Util   2% | Total 15079MB\n"
          ],
          "name": "stdout"
        }
      ]
    },
    {
      "cell_type": "code",
      "metadata": {
        "colab": {
          "base_uri": "https://localhost:8080/"
        },
        "id": "sSjqCuyyggCo",
        "outputId": "172745f0-95ab-42ee-e914-9169dd48343e"
      },
      "source": [
        "from google.colab import drive\n",
        "drive.mount('/content/drive')"
      ],
      "execution_count": 5,
      "outputs": [
        {
          "output_type": "stream",
          "text": [
            "Mounted at /content/drive\n"
          ],
          "name": "stdout"
        }
      ]
    },
    {
      "cell_type": "code",
      "metadata": {
        "id": "tpebYyHegkwi"
      },
      "source": [
        "# Pre-defined colormap\n",
        "top = mpl.cm.get_cmap('Oranges_r', 128)\n",
        "bottom = mpl.cm.get_cmap('Blues', 128)\n",
        "newcolors = np.vstack((top(np.linspace(0, 1, 128)),\n",
        "                       bottom(np.linspace(0, 1, 128))))\n",
        "newcmp = ListedColormap(newcolors, name='OrangeBlue')\n"
      ],
      "execution_count": 7,
      "outputs": []
    },
    {
      "cell_type": "code",
      "metadata": {
        "cellView": "form",
        "id": "V1-0i9JTgr2K"
      },
      "source": [
        "#@title SimPSFToolkit definition\n",
        "\n",
        "class SimPSFToolkit(object):\n",
        "    \"\"\"Simulate PSFs.\n",
        "    \n",
        "    In the future the zernike maps could be created with galsim.\n",
        "    \n",
        "    Parameters\n",
        "    ----------\n",
        "    zernike_maps\n",
        "    pad_factor=2\n",
        "    max_order=45\n",
        "    max_wfe: float\n",
        "        Maximum allowed WFE at ``lambda_norm``. Used for\n",
        "        normalization. Units in [\\mu m].\n",
        "        Default is ``0.1``.\n",
        "    lambda_norm: float\n",
        "        Corresponds to the wavelength at which the normalization \n",
        "        of the WFE is taking place. Units in [\\mu m].\n",
        "        Default is ``0.550``.\n",
        "    rand_seed=None\n",
        "    plot_opt=True\n",
        "    \n",
        "    \"\"\"\n",
        "    \n",
        "    def __init__(self, zernike_maps, max_order=45, max_wfe_rms=0.1,\n",
        "                 output_dim=64, rand_seed=None, plot_opt=False, oversampling_rate=2,\n",
        "                 pix_sampling=12, tel_diameter=1.2, tel_focal_length=24.5,\n",
        "                 pupil_diameter=1024, euclid_obsc=True, LP_filter_length=3, verbose=0):\n",
        "        # Input attributes\n",
        "        self.max_order = max_order\n",
        "        self.rand_seed = rand_seed\n",
        "        self.plot_opt = plot_opt\n",
        "        self.zernike_maps = zernike_maps\n",
        "        self.max_wfe_rms = max_wfe_rms  # In [um]\n",
        "        self.output_dim = output_dim  # In pixels per dimension\n",
        "        self.verbose = verbose\n",
        "        \n",
        "        \n",
        "        # Telescope characteristics\n",
        "        self.oversampling_rate = oversampling_rate  # dimensionless\n",
        "        self.pix_sampling = pix_sampling  # In [um]\n",
        "        self.tel_diameter = tel_diameter  # In [m]\n",
        "        self.tel_focal_length = tel_focal_length  # In [m]\n",
        "        self.pupil_diameter = pupil_diameter  # In [pix]\n",
        "        \n",
        "        # Class attributes\n",
        "        self.z_coeffs = None\n",
        "        self.psf = None\n",
        "        self.opd = None\n",
        "        self.phase = None\n",
        "        self.lambda_obs = None\n",
        "        self.poly_psf = None\n",
        "        \n",
        "        # Generate pupil mask\n",
        "        self.pupil_mask = ~np.isnan(self.zernike_maps[0])\n",
        "        \n",
        "        # Generate obscurations\n",
        "        if euclid_obsc:\n",
        "            self.obscurations = self.generate_pupil_obscurations(N_pix=pupil_diameter, N_filter=LP_filter_length)\n",
        "        else:\n",
        "            self.obscurations = np.ones((pupil_diameter, pupil_diameter))    \n",
        "        \n",
        "        \n",
        "    @staticmethod\n",
        "    def _OLD_fft_diffraction_op(wf, pupil_mask, pad_factor=2, match_shapes=True):\n",
        "        \"\"\" Perform a fft-based diffraction.\n",
        "\n",
        "        Parameters\n",
        "        ----------\n",
        "        wf: np.ndarray\n",
        "            A complex 2D array that corresponds to the wavefront function.\n",
        "        pupil_mask: np.ndarray of bools\n",
        "            A 2D boolean mask that corresponds to the pupil function.\n",
        "\n",
        "\n",
        "        Returns\n",
        "        -------\n",
        "        psf: np.ndarray\n",
        "            A real 2D array corresponding to the PSF.\n",
        "\n",
        "        \"\"\"\n",
        "        start = (wf.shape[0]*pad_factor)//2 - wf.shape[0]//2\n",
        "        stop = (wf.shape[0]*pad_factor)//2 + wf.shape[0]//2\n",
        "\n",
        "        padded_wf = np.zeros((wf.shape[0]*pad_factor, wf.shape[1]*pad_factor), dtype=np.complex128)\n",
        "\n",
        "        padded_wf[start:stop, start:stop][pupil_mask] = wf[pupil_mask]\n",
        "\n",
        "        fft_wf = np.fft.fftshift(np.fft.fft2(padded_wf))\n",
        "        # fft_wf = np.fft.fftshift(np.fft.fft2(np.fft.ifftshift(padded_wf)))\n",
        "        \n",
        "        psf = np.abs(fft_wf)**2\n",
        "        \n",
        "        if match_shapes:\n",
        "            # Return the psf with its original shape without the padding factor\n",
        "            x_dif = int((psf.shape[0]/pad_factor)//2)\n",
        "            y_dif = int((psf.shape[1]/pad_factor)//2)        \n",
        "\n",
        "            return psf[x_dif :psf.shape[0]-x_dif, y_dif :psf.shape[1]-y_dif]\n",
        "        else:\n",
        "            return psf\n",
        "    \n",
        "    \n",
        "    @staticmethod\n",
        "    def fft_diffract(wf, output_dim=64):\n",
        "        # Perform the FFT-based diffraction operation\n",
        "        fft_wf = np.fft.fftshift(np.fft.fft2(wf))\n",
        "        psf = np.abs(fft_wf)**2\n",
        "        \n",
        "        # Crop the image\n",
        "        start = int(psf.shape[0]//2-output_dim//2)\n",
        "        stop = int(psf.shape[0]//2+output_dim//2)        \n",
        "\n",
        "        return psf[start:stop, start:stop]\n",
        "\n",
        "    @staticmethod\n",
        "    def generate_pupil_obscurations(N_pix=1024, N_filter=3):\n",
        "        \"\"\"Generate Euclid like pupil obscurations.\n",
        "\n",
        "        Simple procedure considering only the 2D plane.\n",
        "        No 3D projections wrt the angle of the FoV is done.\n",
        "\n",
        "        Parameters\n",
        "        ----------\n",
        "        N_pix: int\n",
        "            Total number of pixels\n",
        "        N_filter: int\n",
        "            Length of the low-pass filter [pixels]\n",
        "\n",
        "        \"\"\"\n",
        "        # Telescope parameters\n",
        "        AS_diam = 1200  # Aperture stop diameter [mm]\n",
        "        M1_diam = 395  # Mirror 1 cap stopper diameter [mm]\n",
        "\n",
        "        sp_lenght = 700  # Spider length [mm]\n",
        "        sp_width = 12  # Spider width [mm] \n",
        "\n",
        "        AS_centre = [0, 0]\n",
        "        M1_centre = [0, 51]\n",
        "\n",
        "        sp1_angle = 106.78 - 90 # [degrees]\n",
        "        sp2_angle = 50.11 - 90 # [degrees]\n",
        "        sp3_angle = -10.76 - 90 # [degrees]\n",
        "\n",
        "        sp1_x_pos = 260  # [mm]\n",
        "        sp1_y_pos = 240  # [mm]\n",
        "        sp2_x_pos = -330  # [mm]\n",
        "        sp2_y_pos = 130  # [mm]\n",
        "        sp3_x_pos = 70  # [mm]\n",
        "        sp3_y_pos = -330  # [mm]\n",
        "\n",
        "\n",
        "        # Build pupil plane\n",
        "        pupil_plane = np.ones((N_pix, N_pix))\n",
        "\n",
        "        # coordinates of map in [mm]\n",
        "        W, H  = np.meshgrid(np.linspace(-AS_diam//2, AS_diam//2, N_pix), np.linspace(-AS_diam//2, AS_diam//2, N_pix)) \n",
        "\n",
        "\n",
        "        ### Calculate the Aperture stop and draw it ###\n",
        "        aperture_stop_mask = np.sqrt((W - AS_centre[0])**2 + (H - AS_centre[1])**2) <= (AS_diam/2) \n",
        "        pupil_plane[~aperture_stop_mask] = 0\n",
        "\n",
        "\n",
        "        ### Calculate the M1/M2 obscurations and draw them ###\n",
        "        M1_mask = np.sqrt((W - M1_centre[0])**2 + (H - M1_centre[1])**2) <= (M1_diam/2)\n",
        "        pupil_plane[M1_mask] = 0\n",
        "\n",
        "\n",
        "        ### Calculate the spiders and draw them ###\n",
        "\n",
        "        # Spider 1\n",
        "        sp1_a = np.tan(sp1_angle*(np.pi/180))\n",
        "        sp1_b = sp1_y_pos - sp1_a*sp1_x_pos\n",
        "\n",
        "        sp1_mask_1 = sp1_a*W + sp1_b - sp_width/2 * np.sqrt(1 + sp1_a**2) < H\n",
        "        sp1_mask_2 = sp1_a*W + sp1_b + sp_width/2 * np.sqrt(1 + sp1_a**2) > H\n",
        "        sp1_mask = np.logical_and(sp1_mask_1, sp1_mask_2)\n",
        "\n",
        "        sp1_length_mask = np.sqrt((W - sp1_x_pos)**2 + (H - sp1_y_pos)**2) <= (sp_lenght/2)\n",
        "        sp1_mask = np.logical_and(sp1_mask, sp1_length_mask)\n",
        "\n",
        "        # Spider 2\n",
        "        sp2_a = np.tan(sp2_angle*(np.pi/180))\n",
        "        sp2_b = sp2_y_pos - sp2_a*sp2_x_pos\n",
        "\n",
        "        sp2_mask_1 = sp2_a*W + sp2_b - sp_width/2 * np.sqrt(1 + sp2_a**2) < H\n",
        "        sp2_mask_2 = sp2_a*W + sp2_b + sp_width/2 * np.sqrt(1 + sp2_a**2) > H\n",
        "        sp2_mask = np.logical_and(sp2_mask_1, sp2_mask_2)\n",
        "\n",
        "        sp2_length_mask = np.sqrt((W - sp2_x_pos)**2 + (H - sp2_y_pos)**2) <= (sp_lenght/2)\n",
        "        sp2_mask = np.logical_and(sp2_mask, sp2_length_mask)\n",
        "\n",
        "        # Spider 3\n",
        "        sp3_a = np.tan(sp3_angle*(np.pi/180))\n",
        "        sp3_b = sp3_y_pos - sp3_a*sp3_x_pos\n",
        "\n",
        "        sp3_mask_1 = sp3_a*W + sp3_b - sp_width/2 * np.sqrt(1 + sp3_a**2) < H\n",
        "        sp3_mask_2 = sp3_a*W + sp3_b + sp_width/2 * np.sqrt(1 + sp3_a**2) > H\n",
        "        sp3_mask = np.logical_and(sp3_mask_1, sp3_mask_2)\n",
        "\n",
        "        sp3_length_mask = np.sqrt((W - sp3_x_pos)**2 + (H - sp3_y_pos)**2) <= (sp_lenght/2)\n",
        "        sp3_mask = np.logical_and(sp3_mask, sp3_length_mask)\n",
        "\n",
        "        # Draw the three spider arms\n",
        "        pupil_plane[sp1_mask] = 0\n",
        "        pupil_plane[sp2_mask] = 0\n",
        "        pupil_plane[sp3_mask] = 0\n",
        "\n",
        "\n",
        "        ### Low-pass filter the image ###\n",
        "        top_hat_filter = np.ones((N_filter, N_filter))\n",
        "\n",
        "        pupil_plane = spsig.convolve2d(\n",
        "        pupil_plane, top_hat_filter, boundary='fill', mode='same', fillvalue=0)\n",
        "\n",
        "        pupil_plane /= np.sum(top_hat_filter)\n",
        "\n",
        "        return pupil_plane\n",
        "    \n",
        "    \n",
        "    @staticmethod\n",
        "    def crop_img(to_crop_img, ref_im):\n",
        "        cent_x = int(to_crop_img.shape[0]//2)\n",
        "        cent_y = int(to_crop_img.shape[1]//2)\n",
        "        \n",
        "        delta_x = int(ref_im.shape[0]//2)\n",
        "        delta_y = int(ref_im.shape[1]//2)\n",
        "        \n",
        "        return to_crop_img[ cent_x-delta_x : cent_x+delta_x , cent_y-delta_y : cent_y+delta_y ]\n",
        "        \n",
        "    \n",
        "    @staticmethod\n",
        "    def decimate_im(input_im, decim_f):\n",
        "        \"\"\"Decimate image.\n",
        "        \n",
        "        Decimated by a factor of decim_f.\n",
        "        Based on the PIL library using the default interpolator.\n",
        "        \n",
        "        \"\"\"\n",
        "\n",
        "        pil_im = PIL.Image.fromarray(input_im)\n",
        "        (width, height) = (pil_im.width // decim_f, pil_im.height // decim_f)\n",
        "        im_resized = pil_im.resize((width, height))\n",
        "\n",
        "        return np.array(im_resized)\n",
        "    \n",
        "    \n",
        "    @staticmethod\n",
        "    def get_radial_idx(max_order=45):\n",
        "        it=1\n",
        "        radial_idxs = []\n",
        "\n",
        "        while(len(radial_idxs)<=max_order):\n",
        "            for _it in range(it):\n",
        "                radial_idxs.append(it-1)\n",
        "\n",
        "            it+=1\n",
        "\n",
        "        return np.array(radial_idxs)\n",
        "\n",
        "    \n",
        "    @staticmethod\n",
        "    def psf_plotter(psf, lambda_obs=0.000, cmap='gist_stern', save_img=False):\n",
        "        fig = plt.figure(figsize=(18,10))\n",
        "        \n",
        "        ax1 = fig.add_subplot(131)\n",
        "        im1 = ax1.imshow(psf, cmap=cmap, interpolation='None')\n",
        "        divider = make_axes_locatable(ax1)\n",
        "        cax = divider.append_axes('right', size='5%', pad=0.05)\n",
        "        fig.colorbar(im1, cax=cax, orientation='vertical')\n",
        "        ax1.set_xticks([]);ax1.set_yticks([])\n",
        "        ax1.set_title('PSF (lambda=%.3f [um])'%(lambda_obs))\n",
        "\n",
        "        ax2 = fig.add_subplot(132)\n",
        "        im2 = ax2.imshow(np.sqrt(abs(psf)), cmap=cmap, interpolation='None')\n",
        "        divider2 = make_axes_locatable(ax2)\n",
        "        cax2 = divider2.append_axes('right', size='5%', pad=0.05)\n",
        "        fig.colorbar(im2, cax=cax2, orientation='vertical')\n",
        "        ax2.set_title('sqrt PSF (lambda=%.3f [um])'%(lambda_obs))\n",
        "        ax2.set_xticks([]);ax2.set_yticks([])\n",
        "\n",
        "        ax3 = fig.add_subplot(133)\n",
        "        im3 = ax3.imshow(np.log(abs(psf)), cmap=cmap, interpolation='None')\n",
        "        divider3 = make_axes_locatable(ax3)\n",
        "        cax3 = divider3.append_axes('right', size='5%', pad=0.05)\n",
        "        fig.colorbar(im3, cax=cax3, orientation='vertical')\n",
        "        ax3.set_title('log PSF (lambda=%.3f [um])'%(lambda_obs))\n",
        "        ax3.set_xticks([]);ax3.set_yticks([])\n",
        "        \n",
        "        if save_img:\n",
        "            plt.savefig('./PSF_lambda_%.3f.pdf'%lambda_obs, bbox_inches='tight')\n",
        "\n",
        "        plt.show()\n",
        "\n",
        "        \n",
        "    @staticmethod\n",
        "    def opd_phase_plotter(pupil_mask, opd, phase, lambda_obs, cmap='viridis', save_img=False):\n",
        "        fig = plt.figure(figsize=(18,10))\n",
        "        \n",
        "        ax1 = fig.add_subplot(131)\n",
        "        im1 = ax1.imshow(pupil_mask, interpolation='None')\n",
        "        divider = make_axes_locatable(ax1)\n",
        "        cax = divider.append_axes('right', size='5%', pad=0.05)\n",
        "        fig.colorbar(im1, cax=cax, orientation='vertical')\n",
        "        ax1.set_title('Pupil mask')\n",
        "        ax1.set_xticks([]);ax1.set_yticks([])\n",
        "\n",
        "        vmax = np.max(abs(opd))\n",
        "        ax2 = fig.add_subplot(132)\n",
        "        im2 = ax2.imshow(opd, cmap=cmap, interpolation='None', vmin=-vmax, vmax=vmax)\n",
        "        divider2 = make_axes_locatable(ax2)\n",
        "        cax2 = divider2.append_axes('right', size='5%', pad=0.05)\n",
        "        fig.colorbar(im2, cax=cax2, orientation='vertical')\n",
        "        ax2.set_title('OPD [um]')\n",
        "        ax2.set_xticks([]);ax2.set_yticks([])\n",
        "        \n",
        "        vmax = np.max(abs(np.angle(phase)))\n",
        "        ax3 = fig.add_subplot(133)\n",
        "        im3 = ax3.imshow(np.angle(phase), cmap=cmap, interpolation='None', vmin=-vmax, vmax=vmax)\n",
        "        divider3 = make_axes_locatable(ax3)\n",
        "        cax3 = divider3.append_axes('right', size='5%', pad=0.05)\n",
        "        fig.colorbar(im3, cax=cax3, orientation='vertical')\n",
        "        ax3.set_title('W phase [rad](wv=%.2f[um])'%(lambda_obs))\n",
        "        ax3.set_xticks([]);ax3.set_yticks([])\n",
        "        \n",
        "        if save_img:\n",
        "            plt.savefig('./OPD_lambda_%.3f.pdf'%lambda_obs, bbox_inches='tight')\n",
        "\n",
        "        plt.show()\n",
        "\n",
        "        \n",
        "    def get_psf(self):\n",
        "        if self.psf is not None:\n",
        "            return self.psf\n",
        "        else:\n",
        "            print('No PSF has been computed yet.')\n",
        "\n",
        "            \n",
        "    def plot_psf(self, cmap='gist_stern', save_img=False):\n",
        "        if self.psf is not None:\n",
        "            self.psf_plotter(self.psf,self.lambda_obs, cmap, save_img)\n",
        "        else:\n",
        "            print('No PSF has been computed yet.')\n",
        "\n",
        "            \n",
        "    def plot_opd_phase(self, cmap='viridis', save_img=False):\n",
        "        if self.opd is not None:\n",
        "            self.opd_phase_plotter(self.pupil_mask*self.obscurations,\n",
        "                                   self.opd*self.obscurations,\n",
        "                                   self.phase, self.lambda_obs,\n",
        "                                   cmap, save_img)\n",
        "        else:\n",
        "            print('No WF has been computed yet.')\n",
        "\n",
        "            \n",
        "    def gen_random_Z_coeffs(self, max_order=45, rand_seed=None):\n",
        "        \"\"\" Generate a random set of Zernike coefficients.\n",
        "\n",
        "        The coefficients are generated following a uniform law U~[-1,1] \n",
        "        divided by their radial zernike index. \n",
        "        Ex: u_i / r(i) (u_i is a realization of U)\n",
        "\n",
        "        Parameters\n",
        "        ----------\n",
        "        max_order: int\n",
        "            Maximum order of Zernike polynomials.\n",
        "        rand_seed: int\n",
        "            Seed for the random initialization.\n",
        "\n",
        "        Returns\n",
        "        -------\n",
        "        rand_coeffs: list of floats\n",
        "            List containing the random coefficients.\n",
        "\n",
        "        \"\"\"\n",
        "        if rand_seed is not None:\n",
        "            np.random.seed(rand_seed)\n",
        "\n",
        "        rad_idx = self.get_radial_idx(max_order)\n",
        "        rad_idx[0] = 1 \n",
        "        \n",
        "        z_coeffs = []\n",
        "\n",
        "        for it in range(max_order):\n",
        "            z_coeffs.append((np.random.rand()-0.5)*2./rad_idx[it])\n",
        "\n",
        "        self.z_coeffs = z_coeffs\n",
        "\n",
        "        \n",
        "    def plot_z_coeffs(self, save_img=False):\n",
        "        \"\"\"Plot random Zernike coefficients.\"\"\"\n",
        "        if self.z_coeffs is not None:\n",
        "            fig = plt.figure(figsize=(12,6))\n",
        "            ax1 = fig.add_subplot(111)\n",
        "            im1 = ax1.bar(np.arange(len(self.z_coeffs)), np.array(self.z_coeffs))\n",
        "            ax1.set_xlabel('Zernike coefficients')\n",
        "            ax1.set_ylabel('Magnitude')\n",
        "            \n",
        "            if save_img:\n",
        "                plt.savefig('./Z_coeffs.pdf', bbox_inches='tight')\n",
        "                \n",
        "            plt.show()\n",
        "        else:\n",
        "            print('Random coeffs not generated.')\n",
        "          \n",
        "\n",
        "    def get_z_coeffs(self):\n",
        "        \"\"\"Get random coefficients\"\"\"\n",
        "        if self.z_coeffs is not None:\n",
        "            return self.z_coeffs\n",
        "        else:\n",
        "            print('Random coeffs not generated.')\n",
        "\n",
        "            \n",
        "    def set_z_coeffs(self, z_coeffs):\n",
        "        \"\"\"Set zernike coefficients.\"\"\"\n",
        "        if len(z_coeffs) == self.max_order:\n",
        "            self.z_coeffs = z_coeffs\n",
        "        else:\n",
        "            print('Zernike coefficients should be of length %d'%(self.max_order))\n",
        "     \n",
        "    \n",
        "    def normalize_zernikes(self, z_coeffs=None, max_wfe_rms=None):\n",
        "        \"\"\"Normalize zernike coefficients.\"\"\"\n",
        "        if max_wfe_rms is None:\n",
        "            max_wfe_rms = self.max_wfe_rms\n",
        "            \n",
        "        # Calculate normalization factor\n",
        "        wfe_rms = self.calculate_wfe_rms(z_coeffs=z_coeffs)\n",
        "        mult_factor = max_wfe_rms / wfe_rms\n",
        "        \n",
        "        # Normalize Zernike coefficients and return them\n",
        "        z_coeffs = [_z*mult_factor for _z in z_coeffs]\n",
        "        \n",
        "        return z_coeffs\n",
        "    \n",
        "    def calculate_wfe_rms(self, z_coeffs=None):\n",
        "        \"\"\"Calculate WFE rms from a set of zernike coefficients.\"\"\"\n",
        "        if z_coeffs is None:\n",
        "            if self.z_coeffs is None:\n",
        "                self.gen_random_Z_coeffs(self.max_order, self.rand_seed)\n",
        "                z_coeffs = self.get_z_coeffs()\n",
        "            else:\n",
        "                z_coeffs = self.get_z_coeffs()\n",
        "                  \n",
        "        # Create the phase with the Zernike basis\n",
        "        opd = 0\n",
        "        for it in range(self.max_order):\n",
        "            opd += self.zernike_maps[it]*z_coeffs[it]\n",
        "        \n",
        "        # Proyect obscurations on to the OPD\n",
        "        opd *= self.obscurations\n",
        "        \n",
        "        # Calculate normalization factor\n",
        "        wfe_rms = np.sqrt(np.mean((opd[self.pupil_mask] -np.mean(opd[self.pupil_mask]))**2))\n",
        "        \n",
        "        return wfe_rms\n",
        "    \n",
        "    def check_wfe_rms(self, z_coeffs=None, max_wfe_rms=None):\n",
        "        \"\"\"Check if Zernike coefficients are within the maximum admitted error.\"\"\"\n",
        "        \n",
        "        if max_wfe_rms is None:\n",
        "            max_wfe_rms = self.max_wfe_rms\n",
        "        \n",
        "        # Calculate normalization factor\n",
        "        wfe_rms = self.calculate_wfe_rms(z_coeffs=z_coeffs)\n",
        "        \n",
        "        return max_wfe_rms - wfe_rms\n",
        "        \n",
        "        \n",
        "    def generate_mono_PSF(self, lambda_obs=0.725, regen_sample=False, get_psf=False):\n",
        "        \"\"\"Generate monochromatic PSF.\"\"\"\n",
        "        if lambda_obs<0.55*0.95 or lambda_obs>0.9*0.95:\n",
        "            print('WARNING: requested wavelength %.4f um is not in VIS passband [0.55,0.9]um'%(lambda_obs))\n",
        "        self.lambda_obs = lambda_obs\n",
        "        \n",
        "        # Calculate the OPD from the Zernike coefficients\n",
        "        self.calculate_opd(regen_sample)\n",
        "          \n",
        "        # Apply the diffraction operator using the opd (optical path differences)\n",
        "        self.diffract_phase()\n",
        "        \n",
        "        if get_psf is True:\n",
        "            return np.copy(self.psf)\n",
        "    \n",
        "    def calculate_opd(self, regen_sample=False):\n",
        "        \"\"\"Calculate the OPD from the Zernike coefficients.\"\"\"\n",
        "        if self.z_coeffs is None or regen_sample is True:\n",
        "            # Generate a random sample of coefficients\n",
        "            self.gen_random_Z_coeffs(self.max_order, self.rand_seed)\n",
        "            # Normalize coefficients\n",
        "            z_coeffs = self.normalize_zernikes(self.get_z_coeffs(), self.max_wfe_rms)\n",
        "            # Save coefficients\n",
        "            self.set_z_coeffs(z_coeffs)  \n",
        "            # Plot Zernike coefficients\n",
        "            if self.plot_opt:\n",
        "                self.plot_z_coeffs()\n",
        "\n",
        "        else:\n",
        "            # Get the stored Zernike coefficients\n",
        "            z_coeffs = self.get_z_coeffs()\n",
        "            \n",
        "        \n",
        "        # Create the phase with the Zernike basis\n",
        "        opd = 0\n",
        "        for it in range(self.max_order):\n",
        "            opd += self.zernike_maps[it]*z_coeffs[it]\n",
        "        \n",
        "        # Save the wavefront\n",
        "        self.opd = opd\n",
        "        \n",
        "    \n",
        "    def diffract_phase(self, lambda_obs=None):\n",
        "        \"\"\"Diffract the phase map.\"\"\"\n",
        "        if lambda_obs is None:\n",
        "            if self.lambda_obs is None:\n",
        "                print('WARNING: No wavelength is defined. Using default value 0.8um.')\n",
        "                lambda_obs = 0.8\n",
        "            else: \n",
        "                lambda_obs = self.lambda_obs\n",
        "        elif lambda_obs<0.55*0.99 or lambda_obs>0.9*1.01:\n",
        "            print('WARNING: wavelength %.4f is not in VIS passband [0.55,0.9]um'%(lambda_obs))\n",
        "            \n",
        "        # Calculate the feasible lambda closest to lambda_obs\n",
        "        possible_lambda = self.feasible_wavelength(lambda_obs)\n",
        "        \n",
        "        # Save wavelength\n",
        "        self.lambda_obs = possible_lambda\n",
        "        \n",
        "        # Calculate the required N for the input lambda_obs\n",
        "        possible_N = self.feasible_N(self.lambda_obs)\n",
        "        \n",
        "        # Generate the full phase and\n",
        "        # Add zeros to the phase to have the correct fourier sampling\n",
        "        start = possible_N//2 - self.opd.shape[0]//2\n",
        "        stop = possible_N//2 + self.opd.shape[0]//2\n",
        "\n",
        "        self.phase = np.zeros((possible_N, possible_N), dtype=np.complex128)\n",
        "        self.phase[start:stop, start:stop][self.pupil_mask] = np.exp(\n",
        "            2j*np.pi*self.opd[self.pupil_mask]/self.lambda_obs)\n",
        "        \n",
        "        # Project obscurations to the phase\n",
        "        self.phase[start:stop, start:stop] *= self.obscurations\n",
        "        \n",
        "        # FFT-diffract the phase (wavefront) and then crop to desired dimension\n",
        "        self.psf = self.fft_diffract(wf=self.phase, output_dim=self.output_dim)\n",
        "        \n",
        "        # Normalize psf\n",
        "        self.psf /= np.sum(self.psf)\n",
        "\n",
        "        \n",
        "    def feasible_N(self, lambda_obs):\n",
        "        \"\"\"Calculate the feasible N for a lambda_obs diffraction.\n",
        "        \n",
        "        Input wavelength must be in [um].\n",
        "        \"\"\"\n",
        "        # Calculate the required N for the input lambda_obs\n",
        "        req_N = (\n",
        "            self.oversampling_rate * self.pupil_diameter * lambda_obs * self.tel_focal_length)/ (\n",
        "            self.tel_diameter * self.pix_sampling)\n",
        "        # Recalculate the req_N into a possible value (a pair integer)\n",
        "        possible_N = int((req_N//2)*2)\n",
        "        \n",
        "        return possible_N\n",
        "    \n",
        "    def feasible_wavelength(self, lambda_obs):\n",
        "        \"\"\"Calculate closest fesible wavelength to target wavelength.\n",
        "        \n",
        "        Input wavelength must be in [um].\n",
        "        \"\"\"\n",
        "        # Calculate a feasible N for the input lambda_obs\n",
        "        possible_N = self.feasible_N(lambda_obs)\n",
        "        \n",
        "        # Recalculate the corresponding the wavelength\n",
        "        possible_lambda = (\n",
        "            possible_N * self.tel_diameter * self.pix_sampling) / (\n",
        "            self.pupil_diameter * self.oversampling_rate * self.tel_focal_length)\n",
        "        \n",
        "        if self.verbose > 0:\n",
        "            print(\"Requested wavelength: %.5f \\nRequired N: %.2f\"%(lambda_obs, req_N))\n",
        "            print(\"Possible wavelength: %.5f \\nPossible N: %.2f\"%(possible_lambda, possible_N))\n",
        "            \n",
        "        return possible_lambda\n",
        " \n",
        "    \n",
        "    @staticmethod\n",
        "    def gen_SED_interp(SED, n_bins=35, interp_kind='cubic'):\n",
        "        \"\"\"Generate SED interpolator.\n",
        "        \n",
        "        Returns the interpolator and the wavelengths in [nm].\n",
        "        \"\"\"\n",
        "        wv_max = 900\n",
        "        wv_min = 550\n",
        "        wvlength = np.arange(wv_min, wv_max, int((wv_max-wv_min)/n_bins))\n",
        "        \n",
        "        SED_interp = sinterp.interp1d(\n",
        "            SED[:,0], SED[:,1], kind=interp_kind, bounds_error=False, fill_value=\"extrapolate\")\n",
        "        \n",
        "        return wvlength, SED_interp\n",
        "    \n",
        "    def calc_SED_wave_values(self, SED, n_bins=35):\n",
        "        \"\"\"Calculate feasible wavelength and SED values.\n",
        "        \n",
        "        Feasable so that the padding number N is integer.\n",
        "        \"\"\"\n",
        "        # Generate SED interpolator and wavelength array\n",
        "        wvlength, SED_interp = self.gen_SED_interp(SED, n_bins)\n",
        "        \n",
        "        # Convert wavelength from [nm] to [um]\n",
        "        wvlength_um = wvlength/1e3\n",
        "        \n",
        "        # Calculate feasible wavelengths (in [um])\n",
        "        verbose = self.verbose\n",
        "        self.verbose = 0\n",
        "        feasible_wv = np.array([self.feasible_wavelength(_wv) for _wv in wvlength_um])\n",
        "        self.verbose = verbose\n",
        "        \n",
        "        # Interpolate and normalize SED\n",
        "        SED_norm = SED_interp(feasible_wv*1e3)  # Interpolation is done in [nm] \n",
        "        SED_norm /= np.sum(SED_norm)        \n",
        "        \n",
        "        return feasible_wv, SED_norm\n",
        " \n",
        "\n",
        "    def generate_poly_PSF(self, SED, n_bins=35):\n",
        "        \"\"\"Generate polychromatic PSF with a specific SED.\n",
        "        \n",
        "        The wavelength space will be the Euclid VIS instrument band:\n",
        "        [550,900]nm and will be sample in ``n_bins``.\n",
        "        \n",
        "        \"\"\"\n",
        "        # Calculate the feasible values of wavelength and the corresponding\n",
        "        # SED interpolated values\n",
        "        feasible_wv, SED_norm = self.calc_SED_wave_values(SED, n_bins)   \n",
        "        \n",
        "        if self.plot_opt:\n",
        "            # Plot input SEDs and interpolated SEDs\n",
        "            wvlength, SED_interp = self.gen_SED_interp(SED, n_bins)\n",
        "            \n",
        "            fig = plt.figure(figsize=(14,8))\n",
        "            ax1 = fig.add_subplot(111)\n",
        "            ax1.plot(SED[:,0],SED[:,1], label='Input SED')\n",
        "            ax1.scatter(feasible_wv*1e3, SED_interp(feasible_wv*1e3), label='Interpolated', c='red')\n",
        "            ax1.set_xlabel('wavelength [nm]')\n",
        "            ax1.set_ylabel('SED(wavelength)')\n",
        "            ax1.set_title('SED')\n",
        "            ax1.legend()\n",
        "            # plt.savefig(output_path+'SED_interp_nbin_%d.pdf'%n_bins, bbox_inches='tight')\n",
        "            plt.show()\n",
        "        \n",
        "        stacked_psf = 0\n",
        "        \n",
        "        # Generate the required monochromatic PSFs\n",
        "        for it in range(feasible_wv.shape[0]):          \n",
        "            self.generate_mono_PSF(lambda_obs=feasible_wv[it])\n",
        "            stacked_psf += self.get_psf()*SED_norm[it]\n",
        "           \n",
        "        self.poly_psf = stacked_psf\n",
        "        \n",
        "        return stacked_psf\n",
        "\n",
        "    \n",
        "# This pythonic version of the polychromatic calculation is not working\n",
        "# The parallelisation with the class with shared variables might not be working\n",
        "# It may work if we define a @staticmethod for the diffracvtion\n",
        "#         psf_cube = np.array([_sed*self.generate_mono_PSF(_wv, get_psf=True) \n",
        "#                              for _wv, _sed in zip(feasible_wv, SED_norm)])\n",
        "#         # Sum to obtain the polychromatic PSFs\n",
        "#         self.poly_psf = np.sum(np_psf_cube, axis=0)\n",
        "#         return np.copy(self.poly_psf)\n"
      ],
      "execution_count": 9,
      "outputs": []
    },
    {
      "cell_type": "markdown",
      "metadata": {
        "id": "p_8rIeQciVCU"
      },
      "source": [
        "# Import variables and datasets"
      ]
    },
    {
      "cell_type": "code",
      "metadata": {
        "id": "UQv8bZPUjfdM"
      },
      "source": [
        "def decimate_im(input_im, decim_f):\n",
        "    \"\"\"Decimate image.\n",
        "    \n",
        "    Decimated by a factor of decim_f.\n",
        "    Based on the PIL library using the default interpolator.\n",
        "    \n",
        "    \"\"\"\n",
        "\n",
        "    pil_im = PIL.Image.fromarray(input_im)\n",
        "    (width, height) = (pil_im.width // decim_f, pil_im.height // decim_f)\n",
        "    im_resized = pil_im.resize((width, height))\n",
        "\n",
        "    return np.array(im_resized)"
      ],
      "execution_count": 10,
      "outputs": []
    },
    {
      "cell_type": "code",
      "metadata": {
        "id": "4HP6hDHshHzu"
      },
      "source": [
        "Zcube_path = '/content/drive/MyDrive/Colab Notebooks/psf_data/Zernike45.mat'\n",
        "# Zcube_path = '/Users/tliaudat/Documents/PhD/codes/WF_PSF/data/PA-zernike-cubes/Zernike45.mat'\n",
        "Zcube = sio.loadmat(Zcube_path)\n",
        "zernikes = []\n",
        "# Decimation factor for Zernike polynomials\n",
        "decim_f = 2  # Original shape (1024x1024)\n",
        "\n",
        "n_zernikes = 15\n",
        "\n",
        "for it in range(n_zernikes):\n",
        "    zernike_map = decimate_im(Zcube['Zpols'][0,it][5], decim_f)\n",
        "    zernikes.append(zernike_map)\n",
        "\n",
        "# Now as cubes\n",
        "np_zernike_cube = np.zeros((len(zernikes), zernikes[0].shape[0], zernikes[0].shape[1]))\n",
        "\n",
        "for it in range(len(zernikes)):\n",
        "    np_zernike_cube[it,:,:] = zernikes[it]\n",
        "\n",
        "np_zernike_cube[np.isnan(np_zernike_cube)] = 0\n",
        "\n",
        "tf_zernike_cube = tf.convert_to_tensor(np_zernike_cube, dtype=tf.float64)"
      ],
      "execution_count": 11,
      "outputs": []
    },
    {
      "cell_type": "code",
      "metadata": {
        "colab": {
          "base_uri": "https://localhost:8080/"
        },
        "id": "HL7txfESibf0",
        "outputId": "510eae1a-ab6c-46b0-ac18-1a21a4696a40"
      },
      "source": [
        "tf_zernike_cube.shape"
      ],
      "execution_count": 12,
      "outputs": [
        {
          "output_type": "execute_result",
          "data": {
            "text/plain": [
              "TensorShape([15, 512, 512])"
            ]
          },
          "metadata": {
            "tags": []
          },
          "execution_count": 12
        }
      ]
    },
    {
      "cell_type": "code",
      "metadata": {
        "id": "YQQtFpksig4N"
      },
      "source": [
        "dataset_path = '/content/drive/MyDrive/Colab Notebooks/psf_field_dataset/'\n",
        "# dataset_path = '/Users/tliaudat/Documents/PhD/codes/WF_PSF/data/psf_field_datasets/'\n",
        "# Load the dictionaries\n",
        "train_dataset = np.load(dataset_path + 'stellar_SEDs_train_psf_field.npy', allow_pickle=True)[()]\n",
        "test_dataset = np.load(dataset_path + 'stellar_SEDs_test_psf_field.npy', allow_pickle=True)[()]\n"
      ],
      "execution_count": 13,
      "outputs": []
    },
    {
      "cell_type": "code",
      "metadata": {
        "id": "GIYTPnNTkbzP"
      },
      "source": [
        "train_stars = train_dataset['stars']\n",
        "train_pos = train_dataset['positions']\n",
        "train_SEDs = train_dataset['SEDs']\n",
        "\n",
        "test_stars = test_dataset['stars']\n",
        "test_pos = test_dataset['positions']\n",
        "test_SEDs = test_dataset['SEDs']"
      ],
      "execution_count": 14,
      "outputs": []
    },
    {
      "cell_type": "code",
      "metadata": {
        "colab": {
          "base_uri": "https://localhost:8080/"
        },
        "id": "31IbCUeZ828o",
        "outputId": "c22e1395-111d-48a3-fbdd-5fd42941a1e3"
      },
      "source": [
        "train_SEDs.shape"
      ],
      "execution_count": 15,
      "outputs": [
        {
          "output_type": "execute_result",
          "data": {
            "text/plain": [
              "(140, 352, 2)"
            ]
          },
          "metadata": {
            "tags": []
          },
          "execution_count": 15
        }
      ]
    },
    {
      "cell_type": "code",
      "metadata": {
        "colab": {
          "base_uri": "https://localhost:8080/"
        },
        "id": "E37XHnS43Nva",
        "outputId": "dc3a1b4c-42ee-489c-ffde-f75d1c6676d0"
      },
      "source": [
        "GPUs = GPU.getGPUs()\n",
        "# XXX: only one GPU on Colab and isn’t guaranteed\n",
        "gpu = GPUs[0]\n",
        "printm()"
      ],
      "execution_count": 16,
      "outputs": [
        {
          "output_type": "stream",
          "text": [
            "Gen RAM Free: 11.7 GB  | Proc size: 1.5 GB\n",
            "GPU RAM Free: 14852MB | Used: 227MB | Util   2% | Total 15079MB\n"
          ],
          "name": "stdout"
        }
      ]
    },
    {
      "cell_type": "markdown",
      "metadata": {
        "id": "2A0dKwM6mOcc"
      },
      "source": [
        "# Define the TF functions\n"
      ]
    },
    {
      "cell_type": "markdown",
      "metadata": {
        "id": "co3aWnWkmJI9"
      },
      "source": [
        "## Monochromatic PSF modules"
      ]
    },
    {
      "cell_type": "code",
      "metadata": {
        "id": "yCu4fb2elDUF"
      },
      "source": [
        "class TF_fft_diffract(tf.Module):\n",
        "    def __init__(self, output_dim=64, name=None):\n",
        "        super().__init__(name=name)\n",
        "        self.output_dim = output_dim\n",
        "    \n",
        "    def crop_img(self, image):\n",
        "        # Crop the image\n",
        "        start = int(image.shape[0]//2-self.output_dim//2)\n",
        "        stop = int(image.shape[0]//2+self.output_dim//2)        \n",
        "\n",
        "        return image[start:stop, start:stop]\n",
        "    \n",
        "    def tf_crop_img(self, image):\n",
        "        \"\"\"Crop images with tf methods.\n",
        "        \n",
        "        It handles a batch of 2D images: [batch, width, height]\n",
        "        \"\"\"\n",
        "        # start\n",
        "        offset_height = int(image.shape[2]//2 - self.output_dim//2)\n",
        "        offset_width = int(image.shape[1]//2 - self.output_dim//2)\n",
        "        # stop\n",
        "        target_height = int(self.output_dim)\n",
        "        target_width = int(self.output_dim)\n",
        "        \n",
        "        # Crop image\n",
        "        cropped_image = tf.image.crop_to_bounding_box(\n",
        "            tf.transpose(image, perm=[1,2,0]),\n",
        "#             tf.reshape(image, shape=(image.shape[0], image.shape[1], -1)),\n",
        "            offset_height,\n",
        "            offset_width,\n",
        "            target_height,\n",
        "            target_width)       \n",
        "\n",
        "        return tf.transpose(cropped_image, perm=[2,0,1])\n",
        "#         return tf.reshape(cropped_image, shape=(cropped_image.shape[0], cropped_image.shape[1])) \n",
        "    \n",
        "    def normalize_psf(self, psf):\n",
        "        # Sum over all the dimensions\n",
        "#         norm_factor = tf.math.reduce_sum(psf)\n",
        "        norm_factor = tf.math.reduce_sum(psf, axis=[1,2], keepdims=True)\n",
        "        \n",
        "        return psf/norm_factor\n",
        "        \n",
        "    \n",
        "    def __call__(self, input_phase):\n",
        "        \"\"\" Calculate the normalized PSF from the padded phase array.\n",
        "        \"\"\"\n",
        "        # Perform the FFT-based diffraction operation\n",
        "        # fft_phase = tf.signal.fftshift(tf.signal.fft2d(input_phase))\n",
        "        fft_phase = tf.signal.fftshift(tf.signal.fft2d(input_phase[:,...]), axes=[1, 2])\n",
        "        psf = tf.math.pow(tf.math.abs(fft_phase), 2)\n",
        "\n",
        "        # Crop the image\n",
        "        # cropped_psf = self.crop_img(psf)\n",
        "        cropped_psf = self.tf_crop_img(psf)\n",
        "        \n",
        "        # Normalize the PSF\n",
        "        norm_psf = self.normalize_psf(cropped_psf)\n",
        "        \n",
        "        return norm_psf\n",
        "\n",
        "\n",
        "class TF_build_phase(tf.Module):\n",
        "    def __init__(self, phase_N, lambda_obs, obscurations, name=None):\n",
        "        super().__init__(name=name)\n",
        "        \n",
        "        self.phase_N = phase_N\n",
        "        self.lambda_obs = lambda_obs\n",
        "        self.obscurations = obscurations\n",
        "         \n",
        "    def zero_padding_diffraction(self, no_pad_phase):\n",
        "        \"\"\" Pad with zeros corresponding to the required lambda. \"\"\"\n",
        "        # pad_num = int(self.phase_N//2 - no_pad_phase.shape[0]//2)\n",
        "        # pure tensorflow\n",
        "        start = tf.math.floordiv(tf.cast(self.phase_N, dtype=tf.int32), tf.cast(2, dtype=tf.int32))\n",
        "        stop = tf.math.floordiv(tf.cast(no_pad_phase.shape[0], dtype=tf.int32), tf.cast(2, dtype=tf.int32))\n",
        "        pad_num = tf.math.subtract(start, stop) # start - stop\n",
        "\n",
        "        padding = [\n",
        "                   (0, 0),\n",
        "                   (pad_num, pad_num),\n",
        "                   (pad_num, pad_num)\n",
        "                   ]\n",
        "\n",
        "        return tf.pad(no_pad_phase, padding)\n",
        "        \n",
        "    def apply_obscurations(self, phase):\n",
        "        \"\"\"Multiply element-wise with the obscurations. \"\"\"\n",
        "        return tf.math.multiply(phase, tf.cast(self.obscurations, phase.dtype))\n",
        "        \n",
        "    \n",
        "    def opd_to_phase(self, opd):\n",
        "        \"\"\"Convert from opd to phase.\"\"\"\n",
        "        pre_phase = tf.math.multiply(tf.cast((2*np.pi)/self.lambda_obs, opd.dtype), opd)\n",
        "        phase = tf.math.exp(tf.dtypes.complex(tf.cast(0, pre_phase.dtype), pre_phase))\n",
        "        return phase\n",
        "\n",
        "    def __call__(self, opd):\n",
        "        \"\"\"Build the phase from the opd.\"\"\"\n",
        "        phase = self.opd_to_phase(opd)\n",
        "        obsc_phase = self.apply_obscurations(phase)\n",
        "        padded_phase = self.zero_padding_diffraction(obsc_phase)\n",
        "\n",
        "        return padded_phase\n",
        "\n",
        "\n",
        "\n",
        "class TF_zernike_OPD(tf.Module):\n",
        "    \"\"\" Turn zernike coefficients into an OPD.\n",
        "    \n",
        "    Will use all of the Zernike maps provided.\n",
        "    Both the Zernike maps and the Zernike coefficients must be provided.\n",
        "\n",
        "    Parameters\n",
        "    ----------\n",
        "    zernike_maps: Tensor (Num_coeffs, x_dim, y_dim)\n",
        "    z_coeffs: Tensor (num_star, num_coeffs, 1, 1)\n",
        "\n",
        "    Returns\n",
        "    -------\n",
        "    opd: Tensor (num_star, x_dim, y_dim)\n",
        "    \n",
        "    \"\"\"\n",
        "    def __init__(self, zernike_maps, name=None):\n",
        "        super().__init__(name=name)\n",
        "        \n",
        "        self.zernike_maps = zernike_maps\n",
        "        \n",
        "    def __call__(self, z_coeffs):\n",
        "        # Perform the weighted sum of Zernikes coeffs and maps\n",
        "        opd = tf.math.reduce_sum(tf.math.multiply(self.zernike_maps, z_coeffs), axis=1)\n",
        "        return opd\n",
        "\n",
        "\n",
        "\n",
        "class TF_Zernike_mono_PSF(tf.Module):\n",
        "    \"\"\"Build a monochromatic PSF from zernike coefficients.\n",
        "\n",
        "    Following a Zernike model.\n",
        "    \"\"\"\n",
        "    def __init__(self, phase_N, lambda_obs, obscurations, zernike_maps, output_dim=64, name=None):\n",
        "        super().__init__(name=name)\n",
        "        \n",
        "        self.tf_build_opd_zernike = TF_zernike_OPD(zernike_maps)\n",
        "        self.tf_build_phase = TF_build_phase(phase_N, lambda_obs, obscurations)\n",
        "        self.tf_fft_diffract = TF_fft_diffract(output_dim)\n",
        "        \n",
        "    def __call__(self, z_coeffs):\n",
        "        opd = self.tf_build_opd_zernike.__call__(z_coeffs)\n",
        "        phase = self.tf_build_phase.__call__(opd)\n",
        "        psf = self.tf_fft_diffract.__call__(phase)\n",
        "    \n",
        "        return psf\n",
        "\n",
        "\n",
        "class TF_mono_PSF(tf.Module):\n",
        "    def __init__(self, phase_N, lambda_obs, obscurations, output_dim=64, name=None):\n",
        "        super().__init__(name=name)\n",
        "        \n",
        "        self.tf_build_phase = TF_build_phase(phase_N, lambda_obs, obscurations)\n",
        "        self.tf_fft_diffract = TF_fft_diffract(output_dim)\n",
        "          \n",
        "    def __call__(self, opd):\n",
        "        phase = self.tf_build_phase.__call__(opd)\n",
        "        psf = self.tf_fft_diffract.__call__(phase)\n",
        "    \n",
        "        return psf\n",
        "\n"
      ],
      "execution_count": 17,
      "outputs": []
    },
    {
      "cell_type": "markdown",
      "metadata": {
        "id": "rN3WvQ8emM_Q"
      },
      "source": [
        "## Polychromatic PSF modules"
      ]
    },
    {
      "cell_type": "code",
      "metadata": {
        "id": "ii61C3YjmVpn"
      },
      "source": [
        "def generate_SED_elems(SED, sim_psf_toolkit, n_bins=20):\n",
        "    \"\"\"Generate the SED elements needed for using the TF_poly_PSF.\n",
        "    \n",
        "    sim_psf_toolkit: An instance of the SimPSFToolkit class with the correct \n",
        "    initialization values.\n",
        "    \"\"\"\n",
        "    \n",
        "    feasible_wv, SED_norm = sim_psf_toolkit.calc_SED_wave_values(SED, n_bins)  \n",
        "    feasible_N = np.array([sim_psf_toolkit.feasible_N(_wv)  for _wv in feasible_wv])\n",
        "    \n",
        "    return feasible_N, feasible_wv, SED_norm\n",
        "\n",
        "\n",
        "def generate_packed_elems(SED, sim_psf_toolkit, n_bins=20):\n",
        "    \"\"\"Generate the packed values for using the TF_poly_PSF.\"\"\"\n",
        "    feasible_N, feasible_wv, SED_norm = generate_SED_elems(SED, sim_psf_toolkit, n_bins=n_bins)\n",
        "    \n",
        "    tf_feasible_N = tf.convert_to_tensor(feasible_N, dtype=tf.float64)\n",
        "    tf_feasible_wv = tf.convert_to_tensor(feasible_wv, dtype=tf.float64)\n",
        "    tf_SED_norm = tf.convert_to_tensor(SED_norm, dtype=tf.float64)\n",
        "    \n",
        "    # returnes the packed tensors\n",
        "    return [tf_feasible_N, tf_feasible_wv, tf_SED_norm]\n",
        "    \n",
        "\n",
        "class TF_poly_PSF(tf.Module):\n",
        "    \"\"\"Calculate a polychromatic PSF from an OPD and stored SED values.\n",
        "    \n",
        "    The calculation of the packed values with the respective SED is done\n",
        "    with the SimPSFToolkit class but outside the TF class. \n",
        "    \n",
        "    \n",
        "    packed_elems: Tuple of tensors\n",
        "        Contains three 1D tensors with the parameters needed for \n",
        "        the calculation of each monochromatic PSF.\n",
        "    \n",
        "        packed_elems[0]: phase_N\n",
        "        packed_elems[1]: lambda_obs\n",
        "        packed_elems[2]: SED_norm_val\n",
        "    \"\"\"\n",
        "    def __init__(self, obscurations, packed_elems, output_dim=64, zernike_maps=None, name=None):\n",
        "        super().__init__(name=name)\n",
        "        \n",
        "        self.obscurations = obscurations\n",
        "        self.output_dim = output_dim\n",
        "        self.packed_elems = packed_elems\n",
        "        self.zernike_maps = zernike_maps\n",
        "        \n",
        "        self.opd = None\n",
        "        \n",
        "        \n",
        "    def set_packed_elems(self, new_packed_elems):\n",
        "        \"\"\"Set packed elements.\"\"\"\n",
        "        self.packed_elems = new_packed_elems\n",
        "\n",
        "    def set_zernike_maps(self, zernike_maps):\n",
        "        \"\"\"Set Zernike maps.\"\"\"\n",
        "        self.zernike_maps = zernike_maps\n",
        "\n",
        "    def calculate_from_zernikes(self, z_coeffs):\n",
        "        \"\"\"Calculate polychromatic PSFs from zernike coefficients.\n",
        "        \n",
        "        Zernike maps required.\n",
        "        \"\"\"\n",
        "        tf_zernike_opd_gen = TF_zernike_OPD(self.zernike_maps)\n",
        "        # For readability\n",
        "        # opd = tf_zernike_opd_gen.__call__(z_coeffs)\n",
        "        # poly_psf = self.__call__(opd)\n",
        "        # return poly_psf\n",
        "\n",
        "        return self.__call__(tf_zernike_opd_gen.__call__(z_coeffs))\n",
        "\n",
        "    def calculate_mono_PSF(self, packed_elems):\n",
        "        \"\"\"Calculate monochromatic PSF from packed elements.\n",
        "        \n",
        "        packed_elems[0]: phase_N\n",
        "        packed_elems[1]: lambda_obs\n",
        "        packed_elems[2]: SED_norm_val\n",
        "        \"\"\"\n",
        "        # Unpack elements\n",
        "        phase_N = packed_elems[0]\n",
        "        lambda_obs = packed_elems[1]\n",
        "        SED_norm_val = packed_elems[2]\n",
        "        \n",
        "        # Build the monochromatic PSF generator\n",
        "        tf_mono_psf_gen = TF_mono_PSF(phase_N, lambda_obs, self.obscurations, output_dim=self.output_dim)\n",
        "            \n",
        "        # Calculate the PSF\n",
        "        mono_psf = tf_mono_psf_gen.__call__(self.opd)\n",
        "        \n",
        "        # Multiply with the respective normalized SED and return\n",
        "        return tf.math.scalar_mul(SED_norm_val, mono_psf)\n",
        "\n",
        "    def __call__(self, opd):\n",
        "        \n",
        "        # Save the OPD that will be shared by all the monochromatic PSFs\n",
        "        self.opd = opd\n",
        "\n",
        "\n",
        "        # Use tf.function for parallelization over GPU\n",
        "        # Not allowed since the dynamic padding for the diffraction does not \n",
        "        # work in the @tf.function context\n",
        "        # @tf.function\n",
        "        def calculate_poly_PSF(elems_to_unpack):\n",
        "            return tf.map_fn(self.calculate_mono_PSF, elems_to_unpack, parallel_iterations=1, fn_output_signature=tf.float64)\n",
        "        \n",
        "        stacked_psfs = calculate_poly_PSF(packed_elems)\n",
        "        poly_psf = tf.math.reduce_sum(stacked_psfs, axis=0)\n",
        "    \n",
        "        return poly_psf\n"
      ],
      "execution_count": 18,
      "outputs": []
    },
    {
      "cell_type": "markdown",
      "metadata": {
        "id": "Otz8R_mPmPZG"
      },
      "source": [
        "## PSF field modules"
      ]
    },
    {
      "cell_type": "code",
      "metadata": {
        "id": "UysYnuMxmV87"
      },
      "source": [
        "class TF_poly_Z_field(tf.Module):\n",
        "    \"\"\" Calculate the zernike coefficients for a given position.\n",
        "    \n",
        "    This module implements a polynomial model of Zernike \n",
        "    coefficient variation.\n",
        "    \n",
        "    Parameters\n",
        "    ----------\n",
        "    n_zernikes: int\n",
        "        Number of Zernike polynomials to consider\n",
        "    d_max: int\n",
        "        Max degree of polynomial determining the FoV variations.\n",
        "    \n",
        "    \"\"\"\n",
        "    def __init__(self, x_lims, y_lims, pos=None, n_zernikes=45, d_max=2, normalize=True, name=None):\n",
        "        super().__init__(name=name)\n",
        "        \n",
        "        self.n_zernikes = n_zernikes\n",
        "        self.d_max = d_max\n",
        "\n",
        "        self.coeff_mat = None\n",
        "        self.poly_mat = None\n",
        "        self.x_lims = x_lims\n",
        "        self.y_lims = y_lims\n",
        "        \n",
        "        if pos is not None:\n",
        "            self.calc_poly_position_mat(pos, normalize)\n",
        "\n",
        "    def get_poly_coefficients_shape(self):\n",
        "        \"\"\" Return the shape of the coefficient matrix.\"\"\"\n",
        "        return (self.n_zernikes, int((self.d_max+1)*(self.d_max+2)/2))\n",
        "\n",
        "    def set_coeff_matrix(self, coeff_mat):\n",
        "        \"\"\" Set coefficient matrix.\"\"\"\n",
        "        self.coeff_mat = coeff_mat\n",
        "\n",
        "    def calc_poly_position_mat(self, pos, normalize=True):\n",
        "        \"\"\" Calculate a matrix with position polynomials.\"\"\"\n",
        "        _poly_mat = np.zeros((int((self.d_max+1)*(self.d_max+2)/2), pos.shape[0]))\n",
        "        \n",
        "        # Scale positions from the square:\n",
        "        # [self.x_lims[0], self.x_lims[1]] x [self.y_lims[0], self.y_lims[1]]\n",
        "        # to the square [0,1] x [0,1]\n",
        "        pos[:,0] = (pos[:,0] - self.x_lims[0]) / self.x_lims[1]\n",
        "        pos[:,1] = (pos[:,1] - self.y_lims[0]) / self.y_lims[1]\n",
        "\n",
        "        for d in range(self.d_max + 1):\n",
        "            row_idx = d * (d + 1) // 2\n",
        "            for p in range(d + 1):\n",
        "                _poly_mat[row_idx + p, :] = pos[:, 0] ** (d - p) * pos[:, 1] ** p\n",
        "\n",
        "        if normalize:\n",
        "            weight_norms = np.sqrt(np.sum(_poly_mat ** 2, axis=0))\n",
        "            _poly_mat /= weight_norms.reshape(1, -1)\n",
        "\n",
        "        self.poly_mat = tf.convert_to_tensor(_poly_mat, dtype=tf.float32)\n",
        "\n",
        "    def __call__(self):\n",
        "        \"\"\" Calculate the zernike coefficients for a given position.\n",
        "        \n",
        "        The position polynomial matrix and the coefficients should be \n",
        "        set before calling this function.\n",
        "        \n",
        "        Returns\n",
        "        -------\n",
        "        zernikes_coeffs: Tensor(batch, n_zernikes, 1, 1)\n",
        "        \"\"\"\n",
        "        zernikes_coeffs = tf.cast(tf.linalg.matmul(self.coeff_mat, self.poly_mat), dtype=tf.float64)\n",
        "        zernikes_coeffs = tf.transpose(zernikes_coeffs)\n",
        "        \n",
        "        return zernikes_coeffs[:, :, tf.newaxis, tf.newaxis]\n",
        "\n",
        "\n",
        "    \n",
        "\n",
        "class TF_batch_poly_PSF(tf.Module):\n",
        "    \"\"\"Calculate a polychromatic PSF from an OPD and stored SED values.\n",
        "    \n",
        "    The calculation of the packed values with the respective SED is done\n",
        "    with the SimPSFToolkit class but outside the TF class. \n",
        "    \n",
        "    \n",
        "\n",
        "    obscurations: Tensor(pupil_len, pupil_len)\n",
        "        Obscurations to apply to the wavefront.\n",
        "        \n",
        "    packed_SED_data: list(list(Tensor,Tensor,Tensor))\n",
        "        Where each inner list consist of a packed_elem:\n",
        "        \n",
        "            packed_elems: Tuple of tensors\n",
        "            Contains three 1D tensors with the parameters needed for \n",
        "            the calculation of one monochromatic PSF.\n",
        "            \n",
        "            packed_elems[0]: phase_N\n",
        "            packed_elems[1]: lambda_obs\n",
        "            packed_elems[2]: SED_norm_val\n",
        "        The SED data is constant in a FoV.\n",
        "        \n",
        "    psf_batch: Tensor(num_psfs, output_dim, output_dim)\n",
        "        Tensor containing the psfs that will be updated each\n",
        "        time a calculation is required.\n",
        "    \n",
        "    \"\"\"\n",
        "    def __init__(self, obscurations, psf_batch, packed_SED_data, output_dim=64, zernike_maps=None, name=None):\n",
        "        super().__init__(name=name)\n",
        "        \n",
        "        self.obscurations = obscurations\n",
        "        self.output_dim = output_dim\n",
        "        self.packed_SED_data = packed_SED_data\n",
        "        self.zernike_maps = zernike_maps\n",
        "        \n",
        "        self.psf_batch = psf_batch\n",
        "        \n",
        "        self.opd_batch = None\n",
        "        self.current_opd = None \n",
        "        \n",
        "    def set_opd_batch(self, opd_batch):\n",
        "        \"\"\"Set OPD batch.\"\"\"\n",
        "        self.opd_batch = opd_batch\n",
        "        \n",
        "    def set_packed_elems(self, new_packed_elems):\n",
        "        \"\"\"Set packed elements.\"\"\"\n",
        "        self.packed_elems = new_packed_elems\n",
        "\n",
        "    def set_zernike_maps(self, zernike_maps):\n",
        "        \"\"\"Set Zernike maps.\"\"\"\n",
        "        self.zernike_maps = zernike_maps\n",
        "    \n",
        "    def set_psf_batch(self, psf_batch):\n",
        "        \"\"\"Set poly PSF batch.\"\"\"\n",
        "        self.psf_batch = psf_batch\n",
        "\n",
        "    def calculate_mono_PSF(self, packed_elems):\n",
        "        \"\"\"Calculate monochromatic PSF from packed elements.\n",
        "        \n",
        "        packed_elems[0]: phase_N\n",
        "        packed_elems[1]: lambda_obs\n",
        "        packed_elems[2]: SED_norm_val\n",
        "        \"\"\"\n",
        "        # Unpack elements\n",
        "        phase_N = packed_elems[0]\n",
        "        lambda_obs = packed_elems[1]\n",
        "        SED_norm_val = packed_elems[2]\n",
        "        \n",
        "        # Build the monochromatic PSF generator\n",
        "        tf_mono_psf_gen = TF_mono_PSF(phase_N, lambda_obs, self.obscurations, output_dim=self.output_dim)\n",
        "            \n",
        "        # Calculate the PSF\n",
        "        mono_psf = tf_mono_psf_gen.__call__(self.current_opd)\n",
        "        \n",
        "        # Multiply with the respective normalized SED and return\n",
        "        return tf.math.scalar_mul(SED_norm_val, mono_psf)\n",
        "\n",
        "    \n",
        "    def calculate_poly_PSF(self, packed_elems):\n",
        "\n",
        "        # Use tf.function for parallelization over GPU\n",
        "        # Not allowed since the dynamic padding for the diffraction does not \n",
        "        # work in the @tf.function context\n",
        "        # @tf.function\n",
        "        def _calculate_poly_PSF(elems_to_unpack):\n",
        "            return tf.map_fn(self.calculate_mono_PSF, elems_to_unpack, parallel_iterations=1, fn_output_signature=tf.float64, swap_memory=True)\n",
        "        \n",
        "        # Readability\n",
        "        # stacked_psfs = _calculate_poly_PSF(packed_elems)\n",
        "        # poly_psf = tf.math.reduce_sum(stacked_psfs, axis=0)\n",
        "        # return poly_psf\n",
        "        \n",
        "        return tf.math.reduce_sum(_calculate_poly_PSF(packed_elems), axis=0)\n",
        "    \n",
        "\n",
        "    \n",
        "    def calculate_batch(self):\n",
        "        \"\"\"Claculate the batch poly PSFs.\"\"\"\n",
        "        \n",
        "        batch_num = self.opd_batch.shape[0]\n",
        "        \n",
        "        it = tf.constant(0)\n",
        "        while_condition = lambda it: tf.less(it, batch_num)\n",
        "\n",
        "        def while_body(it):\n",
        "            # Extract the required data of _it_\n",
        "            packed_elems = self.packed_SED_data[it]\n",
        "            self.current_opd = self.opd_batch[it][tf.newaxis,:,:]\n",
        "            \n",
        "            # Calculate the _it_ poly PSF\n",
        "            poly_psf = self.calculate_poly_PSF(packed_elems)\n",
        "            \n",
        "            # Update the poly PSF tensor with the result\n",
        "            # Slice update of a tensor\n",
        "            # See tf doc of _tensor_scatter_nd_update_ to understand\n",
        "            indices = tf.reshape(it, shape=(1,1))\n",
        "            self.psf_batch = tf.tensor_scatter_nd_update(self.psf_batch, indices, poly_psf)\n",
        "            \n",
        "            \n",
        "            # increment i\n",
        "            return [tf.add(it, 1)]\n",
        "\n",
        "        # Loop over the PSF batches\n",
        "        r = tf.while_loop(while_condition, while_body, [it], swap_memory=True)\n",
        "        \n",
        "        return self.psf_batch\n",
        "\n",
        "\n",
        "\n",
        "\n"
      ],
      "execution_count": 19,
      "outputs": []
    },
    {
      "cell_type": "code",
      "metadata": {
        "id": "TtnCbtjeADee"
      },
      "source": [
        "\n",
        "class TF_PSF_field_model(tf.Module):\n",
        "    \"\"\"Model of the PSF field.\n",
        "    \n",
        "    Goes from position batch to polychromatic PSF batch.\n",
        "    \"\"\"\n",
        "    def __init__(self, positions, x_lims, y_lims, packed_SED_data, psf_batch, obscurations, tf_zernike_cube,\n",
        "                 output_dim=64, n_zernikes=15, d_max=2, normalize_pos=True, name=None):\n",
        "        super().__init__(name=name)\n",
        "        \n",
        "        # Model parameters\n",
        "        self.n_zernikes = n_zernikes\n",
        "        self.d_max = d_max       \n",
        "        self.output_dim = output_dim\n",
        "        self.tf_zernike_cube = tf_zernike_cube\n",
        "        \n",
        "        # PSF field data\n",
        "        self.positions = positions\n",
        "        self.packed_SED_data = packed_SED_data\n",
        "        self.psf_batch = psf_batch\n",
        "        self.obscurations = obscurations\n",
        "        self.x_lims = x_lims\n",
        "        self.y_lims = y_lims\n",
        "        \n",
        "        # Further variables\n",
        "        self.z_coef_batch = None\n",
        "        self.opd_batch = None\n",
        "        self.model_coef_mat = None\n",
        "        \n",
        "        # Initialize the different modules\n",
        "        \n",
        "        # Module: Position batch to Zernike coefficients batch\n",
        "        self.tf_poly_Z_field = TF_poly_Z_field(x_lims=self.x_lims,\n",
        "                                               y_lims=self.y_lims,\n",
        "                                               pos=self.positions,\n",
        "                                               n_zernikes=self.n_zernikes,\n",
        "                                               d_max=self.d_max,\n",
        "                                               normalize=normalize_pos,\n",
        "                                               name='poly_Z_field')\n",
        "        \n",
        "        # Module: Zernike coefficients batch to batch OPD\n",
        "        self.tf_zernike_OPD = TF_zernike_OPD(zernike_maps=self.tf_zernike_cube,\n",
        "                                             name='zernike_to_opd')\n",
        "        \n",
        "        # Module: OPD batch to polychromatic PSF batch\n",
        "        self.tf_batch_poly_PSF = TF_batch_poly_PSF(obscurations=self.obscurations,\n",
        "                                                   psf_batch=self.psf_batch,\n",
        "                                                   packed_SED_data=self.packed_SED_data,\n",
        "                                                   output_dim=self.output_dim,\n",
        "                                                   zernike_maps=None,\n",
        "                                                   name='batch_poly_PSF')\n",
        "        \n",
        "        \n",
        "        \n",
        "    def set_model_params(self, model_coef_mat):\n",
        "        \"\"\"Set model parameters.\"\"\"\n",
        "        # Assert the shape of the model's coefficient matrix\n",
        "        tf.debugging.assert_shapes([(model_coef_mat, self.tf_poly_Z_field.get_poly_coefficients_shape())])\n",
        "        # Then save the model's coef matrix\n",
        "        self.model_coef_mat = model_coef_mat\n",
        "        # Store it in the corresponding module\n",
        "        self.tf_poly_Z_field.set_coeff_matrix(self.model_coef_mat)\n",
        "        \n",
        "        \n",
        "    def assert_shapes(self):\n",
        "        \"\"\"Verify shape integrity.\n",
        "        \n",
        "        All the variables should be initialized.\n",
        "        \n",
        "        n_z: Number of zernike polynomials to use.\n",
        "        n_batch: Number of stars/positions to consider.\n",
        "        pol_terms: Max number of polynomial terms in model variations.\n",
        "        z_dim_x: X-dimension of the Zernike polynomial map\n",
        "        z_dim_y: Y-dimension of the Zernike polynomial map\n",
        "        out_dim: output PSF stamp dimension\n",
        "        n_bins_lda: Number of wavelength bins\n",
        "\n",
        "        \"\"\"\n",
        "        tf.debugging.assert_shapes([\n",
        "            (self.n_zernikes,      ('n_z') ),\n",
        "            (self.positions,       ('n_batch', 2) ),\n",
        "            (self.tf_zernike_cube, ('n_z', 'z_dim_x', 'z_dim_y') ),\n",
        "            (self.z_coef_batch,    ('n_batch', 'n_z', 1, 1) ),\n",
        "            (self.model_coef_mat,  ('n_z', 'pol_terms') ),\n",
        "            (self.opd_batch,       ('n_batch', 'z_dim_x', 'z_dim_y') ),\n",
        "            (self.psf_batch,       ('n_batch', 'out_dim', 'out_dim') ),\n",
        "            (self.obscurations,    ('z_dim_x', 'z_dim_y') ),\n",
        "            (self.packed_SED_data, ('n_batch', 3, 'n_bins_lda') )\n",
        "            ])\n",
        "    \n",
        "    \n",
        "    def calculate_psf_batch(self):\n",
        "        \"\"\"Calculate the batch of polyPSFs from the current model parameters.\"\"\"\n",
        "        \n",
        "        # Calculate the Zernike coef batch from the current parameters.\n",
        "        self.z_coef_batch = self.tf_poly_Z_field.__call__()\n",
        "        \n",
        "        # Calculate the OPD batch from the Zernike coef batch\n",
        "        self.opd_batch = self.tf_zernike_OPD.__call__(self.z_coef_batch)\n",
        "        \n",
        "        # Calculate the polyPSF batch from the OPD batch\n",
        "        self.tf_batch_poly_PSF.set_opd_batch(self.opd_batch)\n",
        "        self.tf_batch_poly_PSF.set_psf_batch(self.psf_batch)\n",
        "        self.psf_batch = self.tf_batch_poly_PSF.calculate_batch()\n",
        "    \n",
        "        \n",
        "\n"
      ],
      "execution_count": 20,
      "outputs": []
    },
    {
      "cell_type": "markdown",
      "metadata": {
        "id": "WjuVl9KcCB2Z"
      },
      "source": [
        "# Verify that the tf modules are working "
      ]
    },
    {
      "cell_type": "code",
      "metadata": {
        "id": "VkhAL4CFADee"
      },
      "source": [
        "# Generate initializations\n",
        "# Prepare np input\n",
        "simPSF_np = SimPSFToolkit(zernikes, max_order=n_zernikes, pupil_diameter=512)\n",
        "simPSF_np.gen_random_Z_coeffs(max_order=n_zernikes)\n",
        "z_coeffs = simPSF_np.normalize_zernikes(simPSF_np.get_z_coeffs(), simPSF_np.max_wfe_rms)\n",
        "simPSF_np.set_z_coeffs(z_coeffs)\n",
        "simPSF_np.generate_mono_PSF(lambda_obs=0.7, regen_sample=False)\n",
        "\n",
        "np_psf = np.copy(simPSF_np.psf)\n",
        "target_opd = simPSF_np.opd\n",
        "target_opd[np.isnan(target_opd)] = 0\n",
        "\n",
        "\n",
        "# For the polyPSF\n",
        "packed_elems = generate_packed_elems(train_SEDs[0,:,:], simPSF_np, n_bins=10)\n",
        "\n",
        "obscurations = simPSF_np.generate_pupil_obscurations(N_pix=512, N_filter=2)\n",
        "tf_obscurations = tf.convert_to_tensor(obscurations, dtype=tf.complex128)\n",
        "\n",
        "np_opd = simPSF_np.opd\n",
        "np_opd[np.isnan(np_opd)] = 0\n",
        "tf_opd = tf.convert_to_tensor(np_opd, dtype=tf.float64)"
      ],
      "execution_count": null,
      "outputs": []
    },
    {
      "cell_type": "code",
      "metadata": {
        "id": "u-6UJkTJADee"
      },
      "source": [
        ""
      ],
      "execution_count": null,
      "outputs": []
    },
    {
      "cell_type": "code",
      "metadata": {
        "id": "4wENHw78ADef"
      },
      "source": [
        "# Initialize the SED data list\n",
        "packed_SED_data = [generate_packed_elems(_sed, simPSF_np, n_bins=10)\n",
        "                   for _sed in train_SEDs[0:3,:,:]]\n",
        "\n",
        "# Initialize the positions\n",
        "positions = np.array([[0.3, 0.5],\n",
        "                      [0.4, 0.6],\n",
        "                      [0.5, 0.7]])\n",
        "\n",
        "# Initialize the poly PSF tensor\n",
        "psf_batch = tf.zeros((3,64,64), dtype=tf.float64)\n",
        "\n",
        "x_lims=[0,1]\n",
        "y_lims=[0,1]"
      ],
      "execution_count": null,
      "outputs": []
    },
    {
      "cell_type": "code",
      "metadata": {
        "id": "LzsO32vuADef"
      },
      "source": [
        "# Choose an initialization for the model_parameters\n",
        "tf_poly_Z_field = TF_poly_Z_field(x_lims, y_lims, pos=positions, n_zernikes=15, d_max=2, normalize=True)\n",
        "normalized_pi_mat = tf_poly_Z_field.poly_mat \n",
        "\n",
        "np_normalized_pi_mat = normalized_pi_mat.numpy()\n"
      ],
      "execution_count": null,
      "outputs": []
    },
    {
      "cell_type": "code",
      "metadata": {
        "id": "R0bf_I4UADeg"
      },
      "source": [
        "init_zernikes = (np.random.rand(3,15)-0.5)*2\n",
        "init_zernikes /= np.sqrt(np.sum(init_zernikes**2, axis=1)).reshape(-1,1)\n",
        "init_zernikes *= 0.05\n",
        "\n",
        "init_zernikes = init_zernikes.T\n"
      ],
      "execution_count": null,
      "outputs": []
    },
    {
      "cell_type": "code",
      "metadata": {
        "id": "iVVCeBNYADeg"
      },
      "source": [
        "model_init_norm = init_zernikes @ np.linalg.pinv(np_normalized_pi_mat)\n"
      ],
      "execution_count": null,
      "outputs": []
    },
    {
      "cell_type": "code",
      "metadata": {
        "colab": {
          "base_uri": "https://localhost:8080/",
          "height": 372
        },
        "id": "oev1jM-RADeg",
        "outputId": "6f6d83e0-1ba9-4a5a-d482-1cfdb07c9380"
      },
      "source": [
        "# Initialization matrix\n",
        "\n",
        "figure(figsize=[12,6])\n",
        "subplot(111)\n",
        "imshow(model_init_norm)\n",
        "colorbar();show()\n"
      ],
      "execution_count": null,
      "outputs": [
        {
          "output_type": "display_data",
          "data": {
            "image/png": "[encoded data removed]",
            "text/plain": [
              "<Figure size 864x432 with 2 Axes>"
            ]
          },
          "metadata": {
            "tags": [],
            "needs_background": "light"
          }
        }
      ]
    },
    {
      "cell_type": "code",
      "metadata": {
        "id": "yeAhSJJLADeg"
      },
      "source": [
        "tf_PSF_field_model = TF_PSF_field_model(positions=positions,\n",
        "                                        x_lims=x_lims,\n",
        "                                        y_lims=y_lims,\n",
        "                                        packed_SED_data=packed_SED_data,\n",
        "                                        psf_batch=psf_batch,\n",
        "                                        obscurations=tf_obscurations,\n",
        "                                        tf_zernike_cube=tf_zernike_cube,\n",
        "                                        output_dim=64,\n",
        "                                        n_zernikes=15,\n",
        "                                        d_max=2,\n",
        "                                        normalize_pos=True,\n",
        "                                        name=None)\n",
        "\n",
        "# Model variable initialization\n",
        "# model_coef_mat = tf.random.uniform(shape=tf_PSF_field_model.tf_poly_Z_field.get_poly_coefficients_shape(),\n",
        "#                                    minval=-1, maxval=1, dtype=tf.dtypes.float32)\n",
        "\n",
        "# Try the new initialization \n",
        "model_coef_mat = tf.convert_to_tensor(model_init_norm, dtype=tf.dtypes.float32)\n",
        "\n",
        "\n",
        "tf_PSF_field_model.set_model_params(model_coef_mat)\n"
      ],
      "execution_count": null,
      "outputs": []
    },
    {
      "cell_type": "code",
      "metadata": {
        "id": "ai7ZBooGADeh"
      },
      "source": [
        "time_start = time.time()\n",
        "\n",
        "# Calculate the PSF batch!\n",
        "tf_PSF_field_model.calculate_psf_batch()\n",
        "\n",
        "elapsed_time = time.time() - time_start\n"
      ],
      "execution_count": null,
      "outputs": []
    },
    {
      "cell_type": "code",
      "metadata": {
        "colab": {
          "base_uri": "https://localhost:8080/"
        },
        "id": "Uf25ePsdADeh",
        "outputId": "9b1c55d4-7099-4544-f8eb-56f016935f14"
      },
      "source": [
        "print('Total elapsed time for 3 positions: %f'%elapsed_time)\n"
      ],
      "execution_count": null,
      "outputs": [
        {
          "output_type": "stream",
          "text": [
            "Total elapsed time for 3 positions: 0.329230\n"
          ],
          "name": "stdout"
        }
      ]
    },
    {
      "cell_type": "code",
      "metadata": {
        "colab": {
          "base_uri": "https://localhost:8080/",
          "height": 491
        },
        "id": "arHYFKlNADeh",
        "outputId": "257d5540-e5e5-48e4-db37-eab324a03b0d"
      },
      "source": [
        "out_psf_batch = tf_PSF_field_model.psf_batch\n",
        "\n",
        "figure(figsize=[14,8])\n",
        "subplot(231)\n",
        "imshow(out_psf_batch[0,:,:], cmap='gist_stern')\n",
        "colorbar()\n",
        "\n",
        "subplot(232)\n",
        "imshow(out_psf_batch[1,:,:], cmap='gist_stern')\n",
        "colorbar()\n",
        "\n",
        "subplot(233)\n",
        "imshow(out_psf_batch[2,:,:], cmap='gist_stern')\n",
        "colorbar()\n",
        "\n",
        "subplot(234)\n",
        "imshow(tf.math.sqrt(out_psf_batch[0,:,:]), cmap='gist_stern')\n",
        "colorbar()\n",
        "\n",
        "subplot(235)\n",
        "imshow(tf.math.sqrt(out_psf_batch[1,:,:]), cmap='gist_stern')\n",
        "colorbar()\n",
        "\n",
        "subplot(236)\n",
        "imshow(tf.math.sqrt(out_psf_batch[2,:,:]), cmap='gist_stern')\n",
        "colorbar()\n"
      ],
      "execution_count": null,
      "outputs": [
        {
          "output_type": "execute_result",
          "data": {
            "text/plain": [
              "<matplotlib.colorbar.Colorbar at 0x7fe1cab34da0>"
            ]
          },
          "metadata": {
            "tags": []
          },
          "execution_count": 112
        },
        {
          "output_type": "display_data",
          "data": {
            "image/png": "[encoded data removed]",
            "text/plain": [
              "<Figure size 1008x576 with 12 Axes>"
            ]
          },
          "metadata": {
            "tags": [],
            "needs_background": "light"
          }
        }
      ]
    },
    {
      "cell_type": "markdown",
      "metadata": {
        "id": "LoEss4SpCiIp"
      },
      "source": [
        "# Calculate the FoV positions and measure the time \n",
        "\n",
        "\n"
      ]
    },
    {
      "cell_type": "code",
      "metadata": {
        "id": "hWej4MeBADej"
      },
      "source": [
        "# train_stars = train_dataset['stars']\n",
        "# train_pos = train_dataset['positions']\n",
        "# train_SEDs = train_dataset['SEDs']\n",
        "\n",
        "# test_stars = test_dataset['stars']\n",
        "# test_pos = test_dataset['positions']\n",
        "# test_SEDs = test_dataset['SEDs']\n"
      ],
      "execution_count": null,
      "outputs": []
    },
    {
      "cell_type": "code",
      "metadata": {
        "id": "7N2OKig7ADej"
      },
      "source": [
        "# Initialization\n",
        "# Reduce the dataset (not enough memory)\n",
        "train_stars = train_stars[0:5, :, :]\n",
        "train_pos = train_pos[0:5, :]\n",
        "train_SEDs = train_SEDs[0:5, :, :]\n",
        "\n",
        "# Parameters\n",
        "pupil_diameter = 512\n",
        "n_zernikes = 15\n",
        "output_dim = 64\n",
        "d_max = 2\n",
        "batch_size = train_pos.shape[0]\n",
        "x_lims = [0, 1e3]\n",
        "y_lims = [0, 1e3]\n",
        "\n",
        "# Generate initializations\n",
        "# Prepare np input\n",
        "simPSF_np = SimPSFToolkit(zernikes, max_order=n_zernikes, pupil_diameter=pupil_diameter)\n",
        "simPSF_np.gen_random_Z_coeffs(max_order=n_zernikes)\n",
        "z_coeffs = simPSF_np.normalize_zernikes(simPSF_np.get_z_coeffs(), simPSF_np.max_wfe_rms)\n",
        "simPSF_np.set_z_coeffs(z_coeffs)\n",
        "simPSF_np.generate_mono_PSF(lambda_obs=0.7, regen_sample=False)\n",
        "\n",
        "# Obscurations\n",
        "obscurations = simPSF_np.generate_pupil_obscurations(N_pix=512, N_filter=2)\n",
        "tf_obscurations = tf.convert_to_tensor(obscurations, dtype=tf.complex128)\n",
        "\n",
        "\n",
        "# Initialize the SED data list\n",
        "packed_SED_data = [generate_packed_elems(_sed, simPSF_np, n_bins=20)\n",
        "                   for _sed in train_SEDs]\n",
        "\n",
        "# Initialize the poly PSF tensor\n",
        "psf_batch = tf.zeros((batch_size, output_dim, output_dim), dtype=tf.float64)\n",
        "\n",
        "\n",
        "# Choose an initialization for the model_parameters\n",
        "tf_poly_Z_field = TF_poly_Z_field(x_lims, y_lims ,pos=train_pos, n_zernikes=n_zernikes, d_max=d_max, normalize=True)\n",
        "normalized_pi_mat = tf_poly_Z_field.poly_mat \n",
        "np_normalized_pi_mat = normalized_pi_mat.numpy()\n",
        "\n",
        "init_zernikes = (np.random.rand(batch_size, n_zernikes) - 0.5)*2\n",
        "init_zernikes /= np.sqrt(np.sum(init_zernikes**2, axis=1)).reshape(-1,1)\n",
        "init_zernikes *= 0.05\n",
        "model_init_norm = init_zernikes.T @ np.linalg.pinv(np_normalized_pi_mat)\n"
      ],
      "execution_count": null,
      "outputs": []
    },
    {
      "cell_type": "code",
      "metadata": {
        "id": "DItMgRyfFsjT"
      },
      "source": [
        "# Model variable initialization\n",
        "# model_coef_mat = tf.random.uniform(shape=tf_PSF_field_model.tf_poly_Z_field.get_poly_coefficients_shape(),\n",
        "#                                    minval=0, maxval=1, dtype=tf.dtypes.float32)\n",
        "\n",
        "model_coef_mat = tf.convert_to_tensor(model_init_norm, dtype=tf.dtypes.float32)"
      ],
      "execution_count": null,
      "outputs": []
    },
    {
      "cell_type": "code",
      "metadata": {
        "id": "LmSRM61yADel"
      },
      "source": [
        "# Initialize the PSF field class\n",
        "\n",
        "tf_PSF_field_model = TF_PSF_field_model(positions=train_pos,\n",
        "                                        x_lims=x_lims,\n",
        "                                        y_lims=y_lims,\n",
        "                                        packed_SED_data=packed_SED_data,\n",
        "                                        psf_batch=psf_batch,\n",
        "                                        obscurations=tf_obscurations,\n",
        "                                        tf_zernike_cube=tf_zernike_cube,\n",
        "                                        output_dim=output_dim,\n",
        "                                        n_zernikes=n_zernikes,\n",
        "                                        d_max=d_max,\n",
        "                                        normalize_pos=True,\n",
        "                                        name=None)\n",
        "\n",
        "\n",
        "\n",
        "tf_PSF_field_model.set_model_params(model_coef_mat)"
      ],
      "execution_count": null,
      "outputs": []
    },
    {
      "cell_type": "code",
      "metadata": {
        "id": "_v7hA5i8ADem"
      },
      "source": [
        "time_start = time.time()\n",
        "\n",
        "# Calculate the PSF batch!\n",
        "tf_PSF_field_model.calculate_psf_batch()\n",
        "\n",
        "elapsed_time = time.time() - time_start\n",
        "\n"
      ],
      "execution_count": null,
      "outputs": []
    },
    {
      "cell_type": "code",
      "metadata": {
        "colab": {
          "base_uri": "https://localhost:8080/"
        },
        "id": "9H8YWnyHADem",
        "outputId": "6961d0c2-3dbb-402f-ddc0-e84c769deedf"
      },
      "source": [
        "print('Total elapsed time for %d positions: %f'%(batch_size, elapsed_time))\n"
      ],
      "execution_count": null,
      "outputs": [
        {
          "output_type": "stream",
          "text": [
            "Total elapsed time for 5 positions: 5.618900\n"
          ],
          "name": "stdout"
        }
      ]
    },
    {
      "cell_type": "code",
      "metadata": {
        "colab": {
          "base_uri": "https://localhost:8080/",
          "height": 494
        },
        "id": "7bSx86HtADem",
        "outputId": "f33e4a64-25cd-4649-dbe6-962c2b8c7117"
      },
      "source": [
        "out_psf_batch = tf_PSF_field_model.psf_batch\n",
        "\n",
        "figure(figsize=[14,8])\n",
        "subplot(231)\n",
        "imshow(out_psf_batch[0,:,:], cmap='gist_stern')\n",
        "colorbar()\n",
        "\n",
        "subplot(232)\n",
        "imshow(out_psf_batch[1,:,:], cmap='gist_stern')\n",
        "colorbar()\n",
        "\n",
        "subplot(233)\n",
        "imshow(out_psf_batch[2,:,:], cmap='gist_stern')\n",
        "colorbar()\n",
        "\n",
        "subplot(234)\n",
        "imshow(tf.math.sqrt(out_psf_batch[0,:,:]), cmap='gist_stern')\n",
        "colorbar()\n",
        "\n",
        "subplot(235)\n",
        "imshow(tf.math.sqrt(out_psf_batch[1,:,:]), cmap='gist_stern')\n",
        "colorbar()\n",
        "\n",
        "subplot(236)\n",
        "imshow(tf.math.sqrt(out_psf_batch[2,:,:]), cmap='gist_stern')\n",
        "colorbar()"
      ],
      "execution_count": null,
      "outputs": [
        {
          "output_type": "execute_result",
          "data": {
            "text/plain": [
              "<matplotlib.colorbar.Colorbar at 0x7f8b2f5bc438>"
            ]
          },
          "metadata": {
            "tags": []
          },
          "execution_count": 26
        },
        {
          "output_type": "display_data",
          "data": {
            "image/png": "[encoded data removed]",
            "text/plain": [
              "<Figure size 1008x576 with 12 Axes>"
            ]
          },
          "metadata": {
            "tags": [],
            "needs_background": "light"
          }
        }
      ]
    },
    {
      "cell_type": "code",
      "metadata": {
        "colab": {
          "base_uri": "https://localhost:8080/",
          "height": 464
        },
        "id": "AOmNaZztFMYH",
        "outputId": "71f29d51-3533-47f8-ac02-6d67e0953c25"
      },
      "source": [
        "imshow(np_normalized_pi_mat[:,0:20]);colorbar();show()"
      ],
      "execution_count": null,
      "outputs": [
        {
          "output_type": "display_data",
          "data": {
            "image/png": "[encoded data removed]",
            "text/plain": [
              "<Figure size 1152x576 with 2 Axes>"
            ]
          },
          "metadata": {
            "tags": [],
            "needs_background": "light"
          }
        }
      ]
    },
    {
      "cell_type": "code",
      "metadata": {
        "colab": {
          "base_uri": "https://localhost:8080/",
          "height": 482
        },
        "id": "9Fw2tiZIFQYd",
        "outputId": "a7b5bb5f-e58e-43bc-b764-74e5bf6b1ee5"
      },
      "source": [
        "imshow(model_coef_mat);colorbar();show() "
      ],
      "execution_count": null,
      "outputs": [
        {
          "output_type": "display_data",
          "data": {
            "image/png": "[encoded data removed]",
            "text/plain": [
              "<Figure size 1152x576 with 2 Axes>"
            ]
          },
          "metadata": {
            "tags": [],
            "needs_background": "light"
          }
        }
      ]
    },
    {
      "cell_type": "code",
      "metadata": {
        "colab": {
          "base_uri": "https://localhost:8080/"
        },
        "id": "j5s7fDVT3qdF",
        "outputId": "213f70b5-6163-4449-dda0-fa1f796d8ddd"
      },
      "source": [
        "GPUs = GPU.getGPUs()\n",
        "# XXX: only one GPU on Colab and isn’t guaranteed\n",
        "gpu = GPUs[0]\n",
        "printm()"
      ],
      "execution_count": null,
      "outputs": [
        {
          "output_type": "stream",
          "text": [
            "Gen RAM Free: 11.3 GB  | Proc size: 2.2 GB\n",
            "GPU RAM Free: 13162MB | Used: 1917MB | Util  13% | Total 15079MB\n"
          ],
          "name": "stdout"
        }
      ]
    },
    {
      "cell_type": "markdown",
      "metadata": {
        "id": "IBy2OzpONLwD"
      },
      "source": [
        "# Now let's try some optimisation!\n"
      ]
    },
    {
      "cell_type": "code",
      "metadata": {
        "id": "1mq0fVGVIQ7O"
      },
      "source": [
        "# The variable to optimise will be the model_coef_mat \n",
        "train_model_coef_mat = tf.Variable(model_coef_mat, trainable=True, dtype=tf.float32, name='model_coef_mat')\n",
        "lamb = tf.constant(1e-7, dtype=train_model_coef_mat.dtype)\n",
        "target_train_stars = tf.constant(tf.cast(train_stars, tf.float64), dtype=tf.float64)\n"
      ],
      "execution_count": null,
      "outputs": []
    },
    {
      "cell_type": "code",
      "metadata": {
        "id": "KDQ058JONKj0"
      },
      "source": [
        "# Initialize the PSF field class\n",
        "\n",
        "tf_PSF_field_model = TF_PSF_field_model(positions=train_pos,\n",
        "                                        x_lims=x_lims,\n",
        "                                        y_lims=y_lims,\n",
        "                                        packed_SED_data=packed_SED_data,\n",
        "                                        psf_batch=psf_batch,\n",
        "                                        obscurations=tf_obscurations,\n",
        "                                        tf_zernike_cube=tf_zernike_cube,\n",
        "                                        output_dim=output_dim,\n",
        "                                        n_zernikes=n_zernikes,\n",
        "                                        d_max=d_max,\n",
        "                                        normalize_pos=True,\n",
        "                                        name=None)\n",
        "\n",
        "# Model variable initialization with the tf variable\n",
        "tf_PSF_field_model.set_model_params(train_model_coef_mat)"
      ],
      "execution_count": null,
      "outputs": []
    },
    {
      "cell_type": "code",
      "metadata": {
        "id": "EGJKpNnYItNj",
        "colab": {
          "base_uri": "https://localhost:8080/"
        },
        "outputId": "1179ad4e-7d39-4790-af71-2b71bb2f08c6"
      },
      "source": [
        "def loss_psf_field():\n",
        "    \n",
        "    # Calculate PSF from train_opd  \n",
        "    tf_PSF_field_model.calculate_psf_batch()\n",
        "    data_fidelity = tf.nn.l2_loss(tf_PSF_field_model.psf_batch - target_train_stars)\n",
        "    # return data_fidelity + lamb * regularisation\n",
        "\n",
        "    return data_fidelity\n",
        "\n",
        "loss_psf_field()"
      ],
      "execution_count": null,
      "outputs": [
        {
          "output_type": "execute_result",
          "data": {
            "text/plain": [
              "<tf.Tensor: shape=(), dtype=float64, numpy=0.11036365351861421>"
            ]
          },
          "metadata": {
            "tags": []
          },
          "execution_count": 32
        }
      ]
    },
    {
      "cell_type": "code",
      "metadata": {
        "colab": {
          "base_uri": "https://localhost:8080/"
        },
        "id": "0Gi-5NL-3vwv",
        "outputId": "efc86846-e0c6-42e5-b6ab-6c485acd6f92"
      },
      "source": [
        "GPUs = GPU.getGPUs()\n",
        "# XXX: only one GPU on Colab and isn’t guaranteed\n",
        "gpu = GPUs[0]\n",
        "printm()"
      ],
      "execution_count": null,
      "outputs": [
        {
          "output_type": "stream",
          "text": [
            "Gen RAM Free: 11.3 GB  | Proc size: 2.2 GB\n",
            "GPU RAM Free: 13162MB | Used: 1917MB | Util  13% | Total 15079MB\n"
          ],
          "name": "stdout"
        }
      ]
    },
    {
      "cell_type": "code",
      "metadata": {
        "id": "helQcS2qIzKZ",
        "colab": {
          "base_uri": "https://localhost:8080/",
          "height": 49,
          "referenced_widgets": [
            "73bcd7f17fab44ee9d1c96b64bce45e8",
            "be118a31feff4942a77dc497f21d54a0",
            "314e33582ae24c7c8a5631552eadd6ba",
            "3ca381d90e664b1282927481114a9898",
            "122ae447e78b4f94b6c651f931def822",
            "04a8482f2cc24d61a7a503e5c31dc70b",
            "a039892bd7e64df4b282e72ab3fdfecf",
            "a1616e050aba4ed4a5891a9e0d6724bf"
          ]
        },
        "outputId": "ecab8ce3-5a5c-456d-9bd0-7527aacac098"
      },
      "source": [
        "# Optimization algorithm\n",
        "optimizer = tf.keras.optimizers.SGD(learning_rate=5e1, momentum=.9, nesterov=True)\n",
        "\n",
        "n_iter = 200\n",
        "verbose = 1\n",
        "losses = []\n",
        "\n",
        "for i_iter in tqdm(range(n_iter)):\n",
        "    \n",
        "    optimizer.minimize(loss_psf_field, [train_model_coef_mat])\n",
        "    losses.append(loss_psf_field())\n",
        "    if verbose > 0 and i_iter % 1 == 0:\n",
        "        print(i_iter, loss_psf_field())\n",
        "\n",
        "loglog(losses)\n",
        "xlabel('Number of iterations')\n",
        "ylabel('Total loss');"
      ],
      "execution_count": null,
      "outputs": [
        {
          "output_type": "display_data",
          "data": {
            "application/vnd.jupyter.widget-view+json": {
              "model_id": "73bcd7f17fab44ee9d1c96b64bce45e8",
              "version_minor": 0,
              "version_major": 2
            },
            "text/plain": [
              "HBox(children=(FloatProgress(value=0.0, max=200.0), HTML(value='')))"
            ]
          },
          "metadata": {
            "tags": []
          }
        }
      ]
    },
    {
      "cell_type": "code",
      "metadata": {
        "id": "U4bNl8KtI09N",
        "colab": {
          "base_uri": "https://localhost:8080/",
          "height": 208
        },
        "outputId": "00864cb5-b059-4460-c767-0b859d44dad1"
      },
      "source": [
        "GPUs = GPU.getGPUs()\n",
        "# XXX: only one GPU on Colab and isn’t guaranteed\n",
        "gpu = GPUs[0]\n",
        "printm()"
      ],
      "execution_count": null,
      "outputs": [
        {
          "output_type": "error",
          "ename": "NameError",
          "evalue": "ignored",
          "traceback": [
            "\u001b[0;31m---------------------------------------------------------------------------\u001b[0m",
            "\u001b[0;31mNameError\u001b[0m                                 Traceback (most recent call last)",
            "\u001b[0;32m<ipython-input-1-0e039e58fee5>\u001b[0m in \u001b[0;36m<module>\u001b[0;34m()\u001b[0m\n\u001b[0;32m----> 1\u001b[0;31m \u001b[0mGPUs\u001b[0m \u001b[0;34m=\u001b[0m \u001b[0mGPU\u001b[0m\u001b[0;34m.\u001b[0m\u001b[0mgetGPUs\u001b[0m\u001b[0;34m(\u001b[0m\u001b[0;34m)\u001b[0m\u001b[0;34m\u001b[0m\u001b[0;34m\u001b[0m\u001b[0m\n\u001b[0m\u001b[1;32m      2\u001b[0m \u001b[0;31m# XXX: only one GPU on Colab and isn’t guaranteed\u001b[0m\u001b[0;34m\u001b[0m\u001b[0;34m\u001b[0m\u001b[0;34m\u001b[0m\u001b[0m\n\u001b[1;32m      3\u001b[0m \u001b[0mgpu\u001b[0m \u001b[0;34m=\u001b[0m \u001b[0mGPUs\u001b[0m\u001b[0;34m[\u001b[0m\u001b[0;36m0\u001b[0m\u001b[0;34m]\u001b[0m\u001b[0;34m\u001b[0m\u001b[0;34m\u001b[0m\u001b[0m\n\u001b[1;32m      4\u001b[0m \u001b[0mprintm\u001b[0m\u001b[0;34m(\u001b[0m\u001b[0;34m)\u001b[0m\u001b[0;34m\u001b[0m\u001b[0;34m\u001b[0m\u001b[0m\n",
            "\u001b[0;31mNameError\u001b[0m: name 'GPU' is not defined"
          ]
        }
      ]
    },
    {
      "cell_type": "code",
      "metadata": {
        "id": "6jogof2e34ed"
      },
      "source": [
        ""
      ],
      "execution_count": null,
      "outputs": []
    }
  ]
}